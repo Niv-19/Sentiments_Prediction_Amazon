{
 "cells": [
  {
   "cell_type": "code",
   "execution_count": 1,
   "metadata": {},
   "outputs": [],
   "source": [
    "import pandas as pd\n",
    "from sklearn.model_selection import train_test_split\n",
    "from sklearn.feature_extraction.text import TfidfVectorizer\n",
    "from sklearn.pipeline import Pipeline\n",
    "from sklearn.naive_bayes import MultinomialNB\n",
    "from sklearn.ensemble import RandomForestClassifier\n",
    "from sklearn.tree import DecisionTreeClassifier\n",
    "from sklearn.linear_model import LogisticRegression\n",
    "from sklearn.ensemble import GradientBoostingClassifier\n",
    "import numpy as np\n",
    "from sklearn import metrics\n",
    "from sklearn.metrics import accuracy_score\n",
    "from sklearn.model_selection import GridSearchCV\n",
    "from sklearn.feature_extraction.text import CountVectorizer\n",
    "import matplotlib.pyplot as plt\n"
   ]
  },
  {
   "cell_type": "code",
   "execution_count": 33,
   "metadata": {},
   "outputs": [],
   "source": [
    "data_full=pd.read_json('data/electronics_review100k.json',lines = True)"
   ]
  },
  {
   "cell_type": "code",
   "execution_count": 34,
   "metadata": {},
   "outputs": [
    {
     "data": {
      "text/html": [
       "<div>\n",
       "<style scoped>\n",
       "    .dataframe tbody tr th:only-of-type {\n",
       "        vertical-align: middle;\n",
       "    }\n",
       "\n",
       "    .dataframe tbody tr th {\n",
       "        vertical-align: top;\n",
       "    }\n",
       "\n",
       "    .dataframe thead th {\n",
       "        text-align: right;\n",
       "    }\n",
       "</style>\n",
       "<table border=\"1\" class=\"dataframe\">\n",
       "  <thead>\n",
       "    <tr style=\"text-align: right;\">\n",
       "      <th></th>\n",
       "      <th>asin</th>\n",
       "      <th>helpful</th>\n",
       "      <th>overall</th>\n",
       "      <th>reviewText</th>\n",
       "      <th>reviewTime</th>\n",
       "      <th>reviewerID</th>\n",
       "      <th>reviewerName</th>\n",
       "      <th>summary</th>\n",
       "      <th>unixReviewTime</th>\n",
       "    </tr>\n",
       "  </thead>\n",
       "  <tbody>\n",
       "    <tr>\n",
       "      <th>0</th>\n",
       "      <td>0528881469</td>\n",
       "      <td>[0, 0]</td>\n",
       "      <td>5</td>\n",
       "      <td>We got this GPS for my husband who is an (OTR)...</td>\n",
       "      <td>06 2, 2013</td>\n",
       "      <td>AO94DHGC771SJ</td>\n",
       "      <td>amazdnu</td>\n",
       "      <td>Gotta have GPS!</td>\n",
       "      <td>1370131200</td>\n",
       "    </tr>\n",
       "    <tr>\n",
       "      <th>1</th>\n",
       "      <td>0528881469</td>\n",
       "      <td>[12, 15]</td>\n",
       "      <td>1</td>\n",
       "      <td>I'm a professional OTR truck driver, and I bou...</td>\n",
       "      <td>11 25, 2010</td>\n",
       "      <td>AMO214LNFCEI4</td>\n",
       "      <td>Amazon Customer</td>\n",
       "      <td>Very Disappointed</td>\n",
       "      <td>1290643200</td>\n",
       "    </tr>\n",
       "    <tr>\n",
       "      <th>2</th>\n",
       "      <td>0528881469</td>\n",
       "      <td>[43, 45]</td>\n",
       "      <td>3</td>\n",
       "      <td>Well, what can I say.  I've had this unit in m...</td>\n",
       "      <td>09 9, 2010</td>\n",
       "      <td>A3N7T0DY83Y4IG</td>\n",
       "      <td>C. A. Freeman</td>\n",
       "      <td>1st impression</td>\n",
       "      <td>1283990400</td>\n",
       "    </tr>\n",
       "    <tr>\n",
       "      <th>3</th>\n",
       "      <td>0528881469</td>\n",
       "      <td>[9, 10]</td>\n",
       "      <td>2</td>\n",
       "      <td>Not going to write a long review, even thought...</td>\n",
       "      <td>11 24, 2010</td>\n",
       "      <td>A1H8PY3QHMQQA0</td>\n",
       "      <td>Dave M. Shaw \"mack dave\"</td>\n",
       "      <td>Great grafics, POOR GPS</td>\n",
       "      <td>1290556800</td>\n",
       "    </tr>\n",
       "    <tr>\n",
       "      <th>4</th>\n",
       "      <td>0528881469</td>\n",
       "      <td>[0, 0]</td>\n",
       "      <td>1</td>\n",
       "      <td>I've had mine for a year and here's what we go...</td>\n",
       "      <td>09 29, 2011</td>\n",
       "      <td>A24EV6RXELQZ63</td>\n",
       "      <td>Wayne Smith</td>\n",
       "      <td>Major issues, only excuses for support</td>\n",
       "      <td>1317254400</td>\n",
       "    </tr>\n",
       "  </tbody>\n",
       "</table>\n",
       "</div>"
      ],
      "text/plain": [
       "         asin   helpful  overall  \\\n",
       "0  0528881469    [0, 0]        5   \n",
       "1  0528881469  [12, 15]        1   \n",
       "2  0528881469  [43, 45]        3   \n",
       "3  0528881469   [9, 10]        2   \n",
       "4  0528881469    [0, 0]        1   \n",
       "\n",
       "                                          reviewText   reviewTime  \\\n",
       "0  We got this GPS for my husband who is an (OTR)...   06 2, 2013   \n",
       "1  I'm a professional OTR truck driver, and I bou...  11 25, 2010   \n",
       "2  Well, what can I say.  I've had this unit in m...   09 9, 2010   \n",
       "3  Not going to write a long review, even thought...  11 24, 2010   \n",
       "4  I've had mine for a year and here's what we go...  09 29, 2011   \n",
       "\n",
       "       reviewerID              reviewerName  \\\n",
       "0   AO94DHGC771SJ                   amazdnu   \n",
       "1   AMO214LNFCEI4           Amazon Customer   \n",
       "2  A3N7T0DY83Y4IG             C. A. Freeman   \n",
       "3  A1H8PY3QHMQQA0  Dave M. Shaw \"mack dave\"   \n",
       "4  A24EV6RXELQZ63               Wayne Smith   \n",
       "\n",
       "                                  summary  unixReviewTime  \n",
       "0                         Gotta have GPS!      1370131200  \n",
       "1                       Very Disappointed      1290643200  \n",
       "2                          1st impression      1283990400  \n",
       "3                 Great grafics, POOR GPS      1290556800  \n",
       "4  Major issues, only excuses for support      1317254400  "
      ]
     },
     "execution_count": 34,
     "metadata": {},
     "output_type": "execute_result"
    }
   ],
   "source": [
    "data_full.head()"
   ]
  },
  {
   "cell_type": "code",
   "execution_count": 35,
   "metadata": {},
   "outputs": [],
   "source": [
    "data=data_full[['reviewText', 'overall']]"
   ]
  },
  {
   "cell_type": "code",
   "execution_count": 36,
   "metadata": {},
   "outputs": [
    {
     "data": {
      "text/html": [
       "<div>\n",
       "<style scoped>\n",
       "    .dataframe tbody tr th:only-of-type {\n",
       "        vertical-align: middle;\n",
       "    }\n",
       "\n",
       "    .dataframe tbody tr th {\n",
       "        vertical-align: top;\n",
       "    }\n",
       "\n",
       "    .dataframe thead th {\n",
       "        text-align: right;\n",
       "    }\n",
       "</style>\n",
       "<table border=\"1\" class=\"dataframe\">\n",
       "  <thead>\n",
       "    <tr style=\"text-align: right;\">\n",
       "      <th></th>\n",
       "      <th>reviewText</th>\n",
       "      <th>overall</th>\n",
       "    </tr>\n",
       "  </thead>\n",
       "  <tbody>\n",
       "    <tr>\n",
       "      <th>0</th>\n",
       "      <td>We got this GPS for my husband who is an (OTR)...</td>\n",
       "      <td>5</td>\n",
       "    </tr>\n",
       "    <tr>\n",
       "      <th>1</th>\n",
       "      <td>I'm a professional OTR truck driver, and I bou...</td>\n",
       "      <td>1</td>\n",
       "    </tr>\n",
       "    <tr>\n",
       "      <th>2</th>\n",
       "      <td>Well, what can I say.  I've had this unit in m...</td>\n",
       "      <td>3</td>\n",
       "    </tr>\n",
       "    <tr>\n",
       "      <th>3</th>\n",
       "      <td>Not going to write a long review, even thought...</td>\n",
       "      <td>2</td>\n",
       "    </tr>\n",
       "    <tr>\n",
       "      <th>4</th>\n",
       "      <td>I've had mine for a year and here's what we go...</td>\n",
       "      <td>1</td>\n",
       "    </tr>\n",
       "  </tbody>\n",
       "</table>\n",
       "</div>"
      ],
      "text/plain": [
       "                                          reviewText  overall\n",
       "0  We got this GPS for my husband who is an (OTR)...        5\n",
       "1  I'm a professional OTR truck driver, and I bou...        1\n",
       "2  Well, what can I say.  I've had this unit in m...        3\n",
       "3  Not going to write a long review, even thought...        2\n",
       "4  I've had mine for a year and here's what we go...        1"
      ]
     },
     "execution_count": 36,
     "metadata": {},
     "output_type": "execute_result"
    }
   ],
   "source": [
    "data.head()"
   ]
  },
  {
   "cell_type": "code",
   "execution_count": 37,
   "metadata": {},
   "outputs": [],
   "source": [
    "ser_rating=data['overall']"
   ]
  },
  {
   "cell_type": "code",
   "execution_count": 38,
   "metadata": {},
   "outputs": [
    {
     "data": {
      "text/html": [
       "<div>\n",
       "<style scoped>\n",
       "    .dataframe tbody tr th:only-of-type {\n",
       "        vertical-align: middle;\n",
       "    }\n",
       "\n",
       "    .dataframe tbody tr th {\n",
       "        vertical-align: top;\n",
       "    }\n",
       "\n",
       "    .dataframe thead th {\n",
       "        text-align: right;\n",
       "    }\n",
       "</style>\n",
       "<table border=\"1\" class=\"dataframe\">\n",
       "  <thead>\n",
       "    <tr style=\"text-align: right;\">\n",
       "      <th></th>\n",
       "      <th>overall</th>\n",
       "    </tr>\n",
       "  </thead>\n",
       "  <tbody>\n",
       "    <tr>\n",
       "      <th>count</th>\n",
       "      <td>100000.000000</td>\n",
       "    </tr>\n",
       "    <tr>\n",
       "      <th>mean</th>\n",
       "      <td>4.231190</td>\n",
       "    </tr>\n",
       "    <tr>\n",
       "      <th>std</th>\n",
       "      <td>1.187011</td>\n",
       "    </tr>\n",
       "    <tr>\n",
       "      <th>min</th>\n",
       "      <td>1.000000</td>\n",
       "    </tr>\n",
       "    <tr>\n",
       "      <th>25%</th>\n",
       "      <td>4.000000</td>\n",
       "    </tr>\n",
       "    <tr>\n",
       "      <th>50%</th>\n",
       "      <td>5.000000</td>\n",
       "    </tr>\n",
       "    <tr>\n",
       "      <th>75%</th>\n",
       "      <td>5.000000</td>\n",
       "    </tr>\n",
       "    <tr>\n",
       "      <th>max</th>\n",
       "      <td>5.000000</td>\n",
       "    </tr>\n",
       "  </tbody>\n",
       "</table>\n",
       "</div>"
      ],
      "text/plain": [
       "             overall\n",
       "count  100000.000000\n",
       "mean        4.231190\n",
       "std         1.187011\n",
       "min         1.000000\n",
       "25%         4.000000\n",
       "50%         5.000000\n",
       "75%         5.000000\n",
       "max         5.000000"
      ]
     },
     "execution_count": 38,
     "metadata": {},
     "output_type": "execute_result"
    }
   ],
   "source": [
    "data.describe()"
   ]
  },
  {
   "cell_type": "code",
   "execution_count": 39,
   "metadata": {},
   "outputs": [],
   "source": [
    "data=data.replace([1,2,3,4,5],['Negative','Negative','Neutral','Positive','Positive'])"
   ]
  },
  {
   "cell_type": "code",
   "execution_count": 40,
   "metadata": {},
   "outputs": [
    {
     "data": {
      "text/html": [
       "<div>\n",
       "<style scoped>\n",
       "    .dataframe tbody tr th:only-of-type {\n",
       "        vertical-align: middle;\n",
       "    }\n",
       "\n",
       "    .dataframe tbody tr th {\n",
       "        vertical-align: top;\n",
       "    }\n",
       "\n",
       "    .dataframe thead th {\n",
       "        text-align: right;\n",
       "    }\n",
       "</style>\n",
       "<table border=\"1\" class=\"dataframe\">\n",
       "  <thead>\n",
       "    <tr style=\"text-align: right;\">\n",
       "      <th></th>\n",
       "      <th>reviewText</th>\n",
       "      <th>overall</th>\n",
       "    </tr>\n",
       "  </thead>\n",
       "  <tbody>\n",
       "    <tr>\n",
       "      <th>0</th>\n",
       "      <td>We got this GPS for my husband who is an (OTR)...</td>\n",
       "      <td>Positive</td>\n",
       "    </tr>\n",
       "    <tr>\n",
       "      <th>1</th>\n",
       "      <td>I'm a professional OTR truck driver, and I bou...</td>\n",
       "      <td>Negative</td>\n",
       "    </tr>\n",
       "    <tr>\n",
       "      <th>2</th>\n",
       "      <td>Well, what can I say.  I've had this unit in m...</td>\n",
       "      <td>Neutral</td>\n",
       "    </tr>\n",
       "    <tr>\n",
       "      <th>3</th>\n",
       "      <td>Not going to write a long review, even thought...</td>\n",
       "      <td>Negative</td>\n",
       "    </tr>\n",
       "    <tr>\n",
       "      <th>4</th>\n",
       "      <td>I've had mine for a year and here's what we go...</td>\n",
       "      <td>Negative</td>\n",
       "    </tr>\n",
       "  </tbody>\n",
       "</table>\n",
       "</div>"
      ],
      "text/plain": [
       "                                          reviewText   overall\n",
       "0  We got this GPS for my husband who is an (OTR)...  Positive\n",
       "1  I'm a professional OTR truck driver, and I bou...  Negative\n",
       "2  Well, what can I say.  I've had this unit in m...   Neutral\n",
       "3  Not going to write a long review, even thought...  Negative\n",
       "4  I've had mine for a year and here's what we go...  Negative"
      ]
     },
     "execution_count": 40,
     "metadata": {},
     "output_type": "execute_result"
    }
   ],
   "source": [
    "data.head()"
   ]
  },
  {
   "cell_type": "code",
   "execution_count": 41,
   "metadata": {},
   "outputs": [],
   "source": [
    "data['Ratings']=ser_rating"
   ]
  },
  {
   "cell_type": "code",
   "execution_count": 42,
   "metadata": {},
   "outputs": [
    {
     "data": {
      "text/html": [
       "<div>\n",
       "<style scoped>\n",
       "    .dataframe tbody tr th:only-of-type {\n",
       "        vertical-align: middle;\n",
       "    }\n",
       "\n",
       "    .dataframe tbody tr th {\n",
       "        vertical-align: top;\n",
       "    }\n",
       "\n",
       "    .dataframe thead th {\n",
       "        text-align: right;\n",
       "    }\n",
       "</style>\n",
       "<table border=\"1\" class=\"dataframe\">\n",
       "  <thead>\n",
       "    <tr style=\"text-align: right;\">\n",
       "      <th></th>\n",
       "      <th>reviewText</th>\n",
       "      <th>overall</th>\n",
       "      <th>Ratings</th>\n",
       "    </tr>\n",
       "  </thead>\n",
       "  <tbody>\n",
       "    <tr>\n",
       "      <th>0</th>\n",
       "      <td>We got this GPS for my husband who is an (OTR)...</td>\n",
       "      <td>Positive</td>\n",
       "      <td>5</td>\n",
       "    </tr>\n",
       "    <tr>\n",
       "      <th>1</th>\n",
       "      <td>I'm a professional OTR truck driver, and I bou...</td>\n",
       "      <td>Negative</td>\n",
       "      <td>1</td>\n",
       "    </tr>\n",
       "    <tr>\n",
       "      <th>2</th>\n",
       "      <td>Well, what can I say.  I've had this unit in m...</td>\n",
       "      <td>Neutral</td>\n",
       "      <td>3</td>\n",
       "    </tr>\n",
       "    <tr>\n",
       "      <th>3</th>\n",
       "      <td>Not going to write a long review, even thought...</td>\n",
       "      <td>Negative</td>\n",
       "      <td>2</td>\n",
       "    </tr>\n",
       "    <tr>\n",
       "      <th>4</th>\n",
       "      <td>I've had mine for a year and here's what we go...</td>\n",
       "      <td>Negative</td>\n",
       "      <td>1</td>\n",
       "    </tr>\n",
       "  </tbody>\n",
       "</table>\n",
       "</div>"
      ],
      "text/plain": [
       "                                          reviewText   overall  Ratings\n",
       "0  We got this GPS for my husband who is an (OTR)...  Positive        5\n",
       "1  I'm a professional OTR truck driver, and I bou...  Negative        1\n",
       "2  Well, what can I say.  I've had this unit in m...   Neutral        3\n",
       "3  Not going to write a long review, even thought...  Negative        2\n",
       "4  I've had mine for a year and here's what we go...  Negative        1"
      ]
     },
     "execution_count": 42,
     "metadata": {},
     "output_type": "execute_result"
    }
   ],
   "source": [
    "data.head()"
   ]
  },
  {
   "cell_type": "code",
   "execution_count": 43,
   "metadata": {},
   "outputs": [
    {
     "data": {
      "text/html": [
       "<div>\n",
       "<style scoped>\n",
       "    .dataframe tbody tr th:only-of-type {\n",
       "        vertical-align: middle;\n",
       "    }\n",
       "\n",
       "    .dataframe tbody tr th {\n",
       "        vertical-align: top;\n",
       "    }\n",
       "\n",
       "    .dataframe thead th {\n",
       "        text-align: right;\n",
       "    }\n",
       "</style>\n",
       "<table border=\"1\" class=\"dataframe\">\n",
       "  <thead>\n",
       "    <tr style=\"text-align: right;\">\n",
       "      <th></th>\n",
       "      <th>reviewText</th>\n",
       "      <th>Sentiment</th>\n",
       "      <th>Ratings</th>\n",
       "    </tr>\n",
       "  </thead>\n",
       "  <tbody>\n",
       "    <tr>\n",
       "      <th>0</th>\n",
       "      <td>We got this GPS for my husband who is an (OTR)...</td>\n",
       "      <td>Positive</td>\n",
       "      <td>5</td>\n",
       "    </tr>\n",
       "    <tr>\n",
       "      <th>1</th>\n",
       "      <td>I'm a professional OTR truck driver, and I bou...</td>\n",
       "      <td>Negative</td>\n",
       "      <td>1</td>\n",
       "    </tr>\n",
       "    <tr>\n",
       "      <th>2</th>\n",
       "      <td>Well, what can I say.  I've had this unit in m...</td>\n",
       "      <td>Neutral</td>\n",
       "      <td>3</td>\n",
       "    </tr>\n",
       "    <tr>\n",
       "      <th>3</th>\n",
       "      <td>Not going to write a long review, even thought...</td>\n",
       "      <td>Negative</td>\n",
       "      <td>2</td>\n",
       "    </tr>\n",
       "    <tr>\n",
       "      <th>4</th>\n",
       "      <td>I've had mine for a year and here's what we go...</td>\n",
       "      <td>Negative</td>\n",
       "      <td>1</td>\n",
       "    </tr>\n",
       "  </tbody>\n",
       "</table>\n",
       "</div>"
      ],
      "text/plain": [
       "                                          reviewText Sentiment  Ratings\n",
       "0  We got this GPS for my husband who is an (OTR)...  Positive        5\n",
       "1  I'm a professional OTR truck driver, and I bou...  Negative        1\n",
       "2  Well, what can I say.  I've had this unit in m...   Neutral        3\n",
       "3  Not going to write a long review, even thought...  Negative        2\n",
       "4  I've had mine for a year and here's what we go...  Negative        1"
      ]
     },
     "execution_count": 43,
     "metadata": {},
     "output_type": "execute_result"
    }
   ],
   "source": [
    "data=data.rename({'overall':'Sentiment'},axis=1)\n",
    "data.head()"
   ]
  },
  {
   "cell_type": "code",
   "execution_count": 44,
   "metadata": {},
   "outputs": [
    {
     "data": {
      "text/html": [
       "<div>\n",
       "<style scoped>\n",
       "    .dataframe tbody tr th:only-of-type {\n",
       "        vertical-align: middle;\n",
       "    }\n",
       "\n",
       "    .dataframe tbody tr th {\n",
       "        vertical-align: top;\n",
       "    }\n",
       "\n",
       "    .dataframe thead th {\n",
       "        text-align: right;\n",
       "    }\n",
       "</style>\n",
       "<table border=\"1\" class=\"dataframe\">\n",
       "  <thead>\n",
       "    <tr style=\"text-align: right;\">\n",
       "      <th></th>\n",
       "      <th>reviewText</th>\n",
       "      <th>Ratings</th>\n",
       "    </tr>\n",
       "    <tr>\n",
       "      <th>Sentiment</th>\n",
       "      <th></th>\n",
       "      <th></th>\n",
       "    </tr>\n",
       "  </thead>\n",
       "  <tbody>\n",
       "    <tr>\n",
       "      <th>Negative</th>\n",
       "      <td>11326</td>\n",
       "      <td>11326</td>\n",
       "    </tr>\n",
       "    <tr>\n",
       "      <th>Neutral</th>\n",
       "      <td>7982</td>\n",
       "      <td>7982</td>\n",
       "    </tr>\n",
       "    <tr>\n",
       "      <th>Positive</th>\n",
       "      <td>80692</td>\n",
       "      <td>80692</td>\n",
       "    </tr>\n",
       "  </tbody>\n",
       "</table>\n",
       "</div>"
      ],
      "text/plain": [
       "           reviewText  Ratings\n",
       "Sentiment                     \n",
       "Negative        11326    11326\n",
       "Neutral          7982     7982\n",
       "Positive        80692    80692"
      ]
     },
     "execution_count": 44,
     "metadata": {},
     "output_type": "execute_result"
    }
   ],
   "source": [
    "data.groupby('Sentiment').count()\n",
    "#Dataset is unbalanced"
   ]
  },
  {
   "cell_type": "code",
   "execution_count": 77,
   "metadata": {},
   "outputs": [
    {
     "data": {
      "text/plain": [
       "0    We got this GPS for my husband who is an (OTR)...\n",
       "5    I am using this with a Nook HD+. It works as d...\n",
       "7    This adaptor is real easy to setup and use rig...\n",
       "8    This adapter easily connects my Nook HD 7&#34;...\n",
       "9    This product really works great but I found th...\n",
       "Name: reviewText, dtype: object"
      ]
     },
     "execution_count": 77,
     "metadata": {},
     "output_type": "execute_result"
    }
   ],
   "source": [
    "#Seeing positive comments\n",
    "#pd.set_option('display.max_colwidth', -1)\n",
    "mask=data['Sentiment']=='Positive'\n",
    "p_comments=data[mask]['reviewText']\n",
    "p_comments[:5]"
   ]
  },
  {
   "cell_type": "code",
   "execution_count": 79,
   "metadata": {},
   "outputs": [
    {
     "data": {
      "text/plain": [
       "1     I'm a professional OTR truck driver, and I bou...\n",
       "3     Not going to write a long review, even thought...\n",
       "4     I've had mine for a year and here's what we go...\n",
       "6     The cable is very wobbly and sometimes disconn...\n",
       "68    The mount plate and the extender arms need to ...\n",
       "Name: reviewText, dtype: object"
      ]
     },
     "execution_count": 79,
     "metadata": {},
     "output_type": "execute_result"
    }
   ],
   "source": [
    "#Seeing Negative comments\n",
    "mask=data['Sentiment']=='Negative'\n",
    "N_comments=data[mask]['reviewText']\n",
    "N_comments[:5]"
   ]
  },
  {
   "cell_type": "code",
   "execution_count": 81,
   "metadata": {},
   "outputs": [
    {
     "data": {
      "text/plain": [
       "2     Well, what can I say.  I've had this unit in m...\n",
       "13    This is a good beefy 2 amp charger, but it cov...\n",
       "15    It does 2A and charges a DEAD Nook in a few ho...\n",
       "16    Go to Target or Barnes and Noble instead, and ...\n",
       "43    For the price, you can't beat it. Mine didn't ...\n",
       "Name: reviewText, dtype: object"
      ]
     },
     "execution_count": 81,
     "metadata": {},
     "output_type": "execute_result"
    }
   ],
   "source": [
    "mask=data['Sentiment']=='Neutral'\n",
    "Neu_comments=data[mask]['reviewText']\n",
    "Neu_comments[:5]"
   ]
  },
  {
   "cell_type": "code",
   "execution_count": 48,
   "metadata": {},
   "outputs": [],
   "source": [
    "documents=data['reviewText']\n",
    "y_target=data['Sentiment']"
   ]
  },
  {
   "cell_type": "code",
   "execution_count": 49,
   "metadata": {},
   "outputs": [],
   "source": [
    "X_train,X_test,y_train,y_test=train_test_split(documents,y_target,test_size=0.20,random_state=0,shuffle=True,stratify=y_target)"
   ]
  },
  {
   "cell_type": "code",
   "execution_count": 50,
   "metadata": {},
   "outputs": [
    {
     "data": {
      "text/plain": [
       "Positive    16139\n",
       "Negative     2265\n",
       "Neutral      1596\n",
       "Name: Sentiment, dtype: int64"
      ]
     },
     "execution_count": 50,
     "metadata": {},
     "output_type": "execute_result"
    }
   ],
   "source": [
    "y_test.value_counts()"
   ]
  },
  {
   "cell_type": "code",
   "execution_count": 67,
   "metadata": {},
   "outputs": [],
   "source": [
    "model_NB=Pipeline([('vect',TfidfVectorizer()),\n",
    "               ('clf',MultinomialNB())])\n",
    "model_DT=Pipeline([('vect',TfidfVectorizer()),\n",
    "                ('tcl',DecisionTreeClassifier())])\n",
    "model_GB=Pipeline([('vect',TfidfVectorizer()),\n",
    "                ('gbcl',GradientBoostingClassifier())])\n",
    "model_LR=Pipeline([('vect',TfidfVectorizer()),\n",
    "                ('lrcl',LogisticRegression())])\n",
    "model_RF=Pipeline([('vect',TfidfVectorizer()),\n",
    "                ('rfcl',RandomForestClassifier())])"
   ]
  },
  {
   "cell_type": "code",
   "execution_count": 52,
   "metadata": {},
   "outputs": [
    {
     "name": "stdout",
     "output_type": "stream",
     "text": [
      "For modelPipeline(memory=None,\n",
      "     steps=[('vect', TfidfVectorizer(analyzer='word', binary=False, decode_error='strict',\n",
      "        dtype=<class 'numpy.float64'>, encoding='utf-8', input='content',\n",
      "        lowercase=True, max_df=1.0, max_features=None, min_df=1,\n",
      "        ngram_range=(1, 1), norm='l2', preprocessor=None, smooth_idf=True,\n",
      "...rue,\n",
      "        vocabulary=None)), ('clf', MultinomialNB(alpha=1.0, class_prior=None, fit_prior=True))])Accuracy achieved is0.80685\n"
     ]
    },
    {
     "name": "stderr",
     "output_type": "stream",
     "text": [
      "/Users/nivzz/anaconda3/lib/python3.7/site-packages/sklearn/metrics/classification.py:1143: UndefinedMetricWarning: Precision and F-score are ill-defined and being set to 0.0 in labels with no predicted samples.\n",
      "  'precision', 'predicted', average, warn_for)\n"
     ]
    },
    {
     "name": "stdout",
     "output_type": "stream",
     "text": [
      "Classification report:              precision    recall  f1-score   support\n",
      "\n",
      "    Negative       0.00      0.00      0.00      2265\n",
      "     Neutral       0.00      0.00      0.00      1596\n",
      "    Positive       0.81      1.00      0.89     16139\n",
      "\n",
      "   micro avg       0.81      0.81      0.81     20000\n",
      "   macro avg       0.27      0.33      0.30     20000\n",
      "weighted avg       0.65      0.81      0.72     20000\n",
      "\n",
      "For modelPipeline(memory=None,\n",
      "     steps=[('vect', TfidfVectorizer(analyzer='word', binary=False, decode_error='strict',\n",
      "        dtype=<class 'numpy.float64'>, encoding='utf-8', input='content',\n",
      "        lowercase=True, max_df=1.0, max_features=None, min_df=1,\n",
      "        ngram_range=(1, 1), norm='l2', preprocessor=None, smooth_idf=True,\n",
      "...      min_weight_fraction_leaf=0.0, presort=False, random_state=None,\n",
      "            splitter='best'))])Accuracy achieved is0.75245\n",
      "Classification report:              precision    recall  f1-score   support\n",
      "\n",
      "    Negative       0.36      0.35      0.35      2265\n",
      "     Neutral       0.14      0.12      0.13      1596\n",
      "    Positive       0.86      0.87      0.86     16139\n",
      "\n",
      "   micro avg       0.75      0.75      0.75     20000\n",
      "   macro avg       0.45      0.45      0.45     20000\n",
      "weighted avg       0.74      0.75      0.75     20000\n",
      "\n"
     ]
    },
    {
     "name": "stderr",
     "output_type": "stream",
     "text": [
      "/Users/nivzz/anaconda3/lib/python3.7/site-packages/sklearn/linear_model/logistic.py:433: FutureWarning: Default solver will be changed to 'lbfgs' in 0.22. Specify a solver to silence this warning.\n",
      "  FutureWarning)\n",
      "/Users/nivzz/anaconda3/lib/python3.7/site-packages/sklearn/linear_model/logistic.py:460: FutureWarning: Default multi_class will be changed to 'auto' in 0.22. Specify the multi_class option to silence this warning.\n",
      "  \"this warning.\", FutureWarning)\n"
     ]
    },
    {
     "name": "stdout",
     "output_type": "stream",
     "text": [
      "For modelPipeline(memory=None,\n",
      "     steps=[('vect', TfidfVectorizer(analyzer='word', binary=False, decode_error='strict',\n",
      "        dtype=<class 'numpy.float64'>, encoding='utf-8', input='content',\n",
      "        lowercase=True, max_df=1.0, max_features=None, min_df=1,\n",
      "        ngram_range=(1, 1), norm='l2', preprocessor=None, smooth_idf=True,\n",
      "...penalty='l2', random_state=None, solver='warn',\n",
      "          tol=0.0001, verbose=0, warm_start=False))])Accuracy achieved is0.8548\n",
      "Classification report:              precision    recall  f1-score   support\n",
      "\n",
      "    Negative       0.73      0.50      0.60      2265\n",
      "     Neutral       0.41      0.04      0.08      1596\n",
      "    Positive       0.87      0.98      0.92     16139\n",
      "\n",
      "   micro avg       0.85      0.85      0.85     20000\n",
      "   macro avg       0.67      0.51      0.53     20000\n",
      "weighted avg       0.82      0.85      0.82     20000\n",
      "\n",
      "For modelPipeline(memory=None,\n",
      "     steps=[('vect', TfidfVectorizer(analyzer='word', binary=False, decode_error='strict',\n",
      "        dtype=<class 'numpy.float64'>, encoding='utf-8', input='content',\n",
      "        lowercase=True, max_df=1.0, max_features=None, min_df=1,\n",
      "        ngram_range=(1, 1), norm='l2', preprocessor=None, smooth_idf=True,\n",
      "...    subsample=1.0, tol=0.0001, validation_fraction=0.1,\n",
      "              verbose=0, warm_start=False))])Accuracy achieved is0.82885\n",
      "Classification report:              precision    recall  f1-score   support\n",
      "\n",
      "    Negative       0.78      0.23      0.35      2265\n",
      "     Neutral       0.39      0.01      0.03      1596\n",
      "    Positive       0.83      0.99      0.91     16139\n",
      "\n",
      "   micro avg       0.83      0.83      0.83     20000\n",
      "   macro avg       0.66      0.41      0.43     20000\n",
      "weighted avg       0.79      0.83      0.77     20000\n",
      "\n",
      "For modelPipeline(memory=None,\n",
      "     steps=[('vect', TfidfVectorizer(analyzer='word', binary=False, decode_error='strict',\n",
      "        dtype=<class 'numpy.float64'>, encoding='utf-8', input='content',\n",
      "        lowercase=True, max_df=1.0, max_features=None, min_df=1,\n",
      "        ngram_range=(1, 1), norm='l2', preprocessor=None, smooth_idf=True,\n",
      "...penalty='l2', random_state=None, solver='warn',\n",
      "          tol=0.0001, verbose=0, warm_start=False))])Accuracy achieved is0.8548\n",
      "Classification report:              precision    recall  f1-score   support\n",
      "\n",
      "    Negative       0.73      0.50      0.60      2265\n",
      "     Neutral       0.41      0.04      0.08      1596\n",
      "    Positive       0.87      0.98      0.92     16139\n",
      "\n",
      "   micro avg       0.85      0.85      0.85     20000\n",
      "   macro avg       0.67      0.51      0.53     20000\n",
      "weighted avg       0.82      0.85      0.82     20000\n",
      "\n"
     ]
    }
   ],
   "source": [
    "models=[model_NB,model_DT,model_RF,model_GB,model_LR]\n",
    "for model in models:\n",
    "    model.fit(X_train,y_train)\n",
    "    predict=model.predict(X_test)\n",
    "    print('For model'+ str(model)+ 'Accuracy achieved is'+str(accuracy_score(y_test,predict)))\n",
    "    print('Classification report:'+ str(metrics.classification_report(y_test,predict)))"
   ]
  },
  {
   "cell_type": "code",
   "execution_count": 21,
   "metadata": {},
   "outputs": [],
   "source": [
    "sentiments=['Positive','Negative','Neutral']\n",
    "avg_comment_len=[]\n",
    "for sentiment in sentiments:\n",
    "    mask=data['Sentiment']==sentiment\n",
    "    comments=data[mask]['reviewText']\n",
    "\n",
    "    comment_len=[]\n",
    "    for comment in comments:\n",
    "        comment_len.append(len(comment))\n",
    "    avg_comment_len.append(np.median(comment_len))\n",
    "avg_comment_len=np.round(avg_comment_len,0)"
   ]
  },
  {
   "cell_type": "code",
   "execution_count": 22,
   "metadata": {},
   "outputs": [
    {
     "data": {
      "text/plain": [
       "Text(0.5, 1.0, 'Comparison of the Median Length of the Comments for Different Sentiments')"
      ]
     },
     "execution_count": 22,
     "metadata": {},
     "output_type": "execute_result"
    },
    {
     "data": {
      "image/png": "[encoded data removed]",
      "text/plain": [
       "<Figure size 504x360 with 1 Axes>"
      ]
     },
     "metadata": {
      "needs_background": "light"
     },
     "output_type": "display_data"
    }
   ],
   "source": [
    "fig, ax= plt.subplots(figsize=(7,5))\n",
    "ax.bar(sentiments,avg_comment_len)\n",
    "ax.set_ylabel('Average length of comments')\n",
    "ax.set_xlabel('Sentiment of the comments')\n",
    "ax.set_title('Comparison of the Median Length of the Comments for Different Sentiments')"
   ]
  },
  {
   "cell_type": "code",
   "execution_count": null,
   "metadata": {},
   "outputs": [],
   "source": [
    "# for binary classification\n",
    "def compute_roc(y_true, y_pred, plot=True):\n",
    "    \"\"\"\n",
    "    TODO\n",
    "    :param y_true: ground truth\n",
    "    :param y_pred: predictions\n",
    "    :param plot:\n",
    "    :return:\n",
    "    \"\"\"\n",
    "    fpr, tpr, _ = metrics.roc_curve(y_true, y_pred)\n",
    "    auc_score = auc(fpr, tpr)\n",
    "    if plot:\n",
    "        plt.figure(figsize=(7, 6))\n",
    "        plt.plot(fpr, tpr, color='blue',\n",
    "                 label='ROC (AUC = %0.4f)' % auc_score)\n",
    "        plt.legend(loc='lower right')\n",
    "        plt.title(\"ROC Curve\")\n",
    "        plt.xlabel(\"FPR\")\n",
    "        plt.ylabel(\"TPR\")\n",
    "        plt.show()\n",
    "    #return fpr, tpr, auc_score \n",
    "\n",
    "model_NB.fit(X_train,y_train)\n",
    "y_pred=model.predict(X_test)\n",
    "compute_roc(y_test, y_pred)"
   ]
  },
  {
   "cell_type": "code",
   "execution_count": 53,
   "metadata": {},
   "outputs": [
    {
     "data": {
      "image/png": "[encoded data removed]",
      "text/plain": [
       "<Figure size 432x504 with 1 Axes>"
      ]
     },
     "metadata": {
      "needs_background": "light"
     },
     "output_type": "display_data"
    }
   ],
   "source": [
    "from sklearn.multiclass import OneVsRestClassifier\n",
    "from sklearn.svm import LinearSVC\n",
    "from sklearn.metrics import roc_curve, auc\n",
    "from sklearn.preprocessing import label_binarize\n",
    "import seaborn as sns\n",
    "\n",
    "def plot_multiclass_roc(clf, X_test, y_test, n_classes, figsize=(17, 6)):\n",
    "    y_score = clf.decision_function(X_test)\n",
    "\n",
    "    # structures\n",
    "    fpr = dict()\n",
    "    tpr = dict()\n",
    "    roc_auc = dict()\n",
    "\n",
    "    # calculate dummies once\n",
    "    y_test_dummies = pd.get_dummies(y_test, drop_first=False).values\n",
    "    for i in range(n_classes):\n",
    "        fpr[i], tpr[i], _ = roc_curve(y_test_dummies[:, i], y_score[:, i])\n",
    "        roc_auc[i] = auc(fpr[i], tpr[i])\n",
    "\n",
    "    # roc for each class\n",
    "    fig, ax = plt.subplots(figsize=figsize)\n",
    "    ax.plot([0, 1], [0, 1], 'k--')\n",
    "    ax.set_xlim([0.0, 1.0])\n",
    "    ax.set_ylim([0.0, 1.05])\n",
    "    ax.set_xlabel('False Positive Rate')\n",
    "    ax.set_ylabel('True Positive Rate')\n",
    "    ax.set_title('Receiver operating characteristic example')\n",
    "    for i in range(n_classes):\n",
    "        ax.plot(fpr[i], tpr[i], label='ROC curve (area = %0.2f) for label %i' % (roc_auc[i], i))\n",
    "    ax.legend(loc=\"best\")\n",
    "    ax.grid(alpha=.4)\n",
    "    sns.despine()\n",
    "    plt.show()\n",
    "\n",
    "\n",
    "#model_RF.fit(X_train,y_train)\n",
    "#y_test=model_RF.predict(X_test)\n",
    "plot_multiclass_roc(model_RF, X_test, y_test, n_classes=3, figsize=(6,7))"
   ]
  },
  {
   "cell_type": "code",
   "execution_count": 179,
   "metadata": {},
   "outputs": [
    {
     "name": "stdout",
     "output_type": "stream",
     "text": [
      "Fitting 2 folds for each of 120 candidates, totalling 240 fits\n"
     ]
    },
    {
     "name": "stderr",
     "output_type": "stream",
     "text": [
      "[Parallel(n_jobs=1)]: Using backend SequentialBackend with 1 concurrent workers.\n"
     ]
    },
    {
     "name": "stdout",
     "output_type": "stream",
     "text": [
      "[CV] rfcl__max_depth=10, rfcl__max_features=auto, rfcl__min_samples_leaf=10, rfcl__min_samples_split=100 \n"
     ]
    },
    {
     "name": "stderr",
     "output_type": "stream",
     "text": [
      "/Users/nivzz/anaconda3/lib/python3.7/site-packages/sklearn/ensemble/forest.py:246: FutureWarning: The default value of n_estimators will change from 10 in version 0.20 to 100 in 0.22.\n",
      "  \"10 in version 0.20 to 100 in 0.22.\", FutureWarning)\n"
     ]
    },
    {
     "name": "stdout",
     "output_type": "stream",
     "text": [
      "[CV]  rfcl__max_depth=10, rfcl__max_features=auto, rfcl__min_samples_leaf=10, rfcl__min_samples_split=100, score=0.8069048273793156, total=  19.4s\n",
      "[CV] rfcl__max_depth=10, rfcl__max_features=auto, rfcl__min_samples_leaf=10, rfcl__min_samples_split=100 \n"
     ]
    },
    {
     "name": "stderr",
     "output_type": "stream",
     "text": [
      "[Parallel(n_jobs=1)]: Done   1 out of   1 | elapsed:   28.6s remaining:    0.0s\n",
      "/Users/nivzz/anaconda3/lib/python3.7/site-packages/sklearn/ensemble/forest.py:246: FutureWarning: The default value of n_estimators will change from 10 in version 0.20 to 100 in 0.22.\n",
      "  \"10 in version 0.20 to 100 in 0.22.\", FutureWarning)\n"
     ]
    },
    {
     "name": "stdout",
     "output_type": "stream",
     "text": [
      "[CV]  rfcl__max_depth=10, rfcl__max_features=auto, rfcl__min_samples_leaf=10, rfcl__min_samples_split=100, score=0.8069201730043251, total=  18.9s\n",
      "[CV] rfcl__max_depth=10, rfcl__max_features=auto, rfcl__min_samples_leaf=10, rfcl__min_samples_split=200 \n"
     ]
    },
    {
     "name": "stderr",
     "output_type": "stream",
     "text": [
      "[Parallel(n_jobs=1)]: Done   2 out of   2 | elapsed:   56.7s remaining:    0.0s\n",
      "/Users/nivzz/anaconda3/lib/python3.7/site-packages/sklearn/ensemble/forest.py:246: FutureWarning: The default value of n_estimators will change from 10 in version 0.20 to 100 in 0.22.\n",
      "  \"10 in version 0.20 to 100 in 0.22.\", FutureWarning)\n"
     ]
    },
    {
     "name": "stdout",
     "output_type": "stream",
     "text": [
      "[CV]  rfcl__max_depth=10, rfcl__max_features=auto, rfcl__min_samples_leaf=10, rfcl__min_samples_split=200, score=0.8069048273793156, total=  17.1s\n",
      "[CV] rfcl__max_depth=10, rfcl__max_features=auto, rfcl__min_samples_leaf=10, rfcl__min_samples_split=200 \n"
     ]
    },
    {
     "name": "stderr",
     "output_type": "stream",
     "text": [
      "/Users/nivzz/anaconda3/lib/python3.7/site-packages/sklearn/ensemble/forest.py:246: FutureWarning: The default value of n_estimators will change from 10 in version 0.20 to 100 in 0.22.\n",
      "  \"10 in version 0.20 to 100 in 0.22.\", FutureWarning)\n"
     ]
    },
    {
     "name": "stdout",
     "output_type": "stream",
     "text": [
      "[CV]  rfcl__max_depth=10, rfcl__max_features=auto, rfcl__min_samples_leaf=10, rfcl__min_samples_split=200, score=0.8069201730043251, total=  16.5s\n",
      "[CV] rfcl__max_depth=10, rfcl__max_features=auto, rfcl__min_samples_leaf=10, rfcl__min_samples_split=300 \n"
     ]
    },
    {
     "name": "stderr",
     "output_type": "stream",
     "text": [
      "/Users/nivzz/anaconda3/lib/python3.7/site-packages/sklearn/ensemble/forest.py:246: FutureWarning: The default value of n_estimators will change from 10 in version 0.20 to 100 in 0.22.\n",
      "  \"10 in version 0.20 to 100 in 0.22.\", FutureWarning)\n"
     ]
    },
    {
     "name": "stdout",
     "output_type": "stream",
     "text": [
      "[CV]  rfcl__max_depth=10, rfcl__max_features=auto, rfcl__min_samples_leaf=10, rfcl__min_samples_split=300, score=0.8069048273793156, total=  15.8s\n",
      "[CV] rfcl__max_depth=10, rfcl__max_features=auto, rfcl__min_samples_leaf=10, rfcl__min_samples_split=300 \n"
     ]
    },
    {
     "name": "stderr",
     "output_type": "stream",
     "text": [
      "/Users/nivzz/anaconda3/lib/python3.7/site-packages/sklearn/ensemble/forest.py:246: FutureWarning: The default value of n_estimators will change from 10 in version 0.20 to 100 in 0.22.\n",
      "  \"10 in version 0.20 to 100 in 0.22.\", FutureWarning)\n"
     ]
    },
    {
     "name": "stdout",
     "output_type": "stream",
     "text": [
      "[CV]  rfcl__max_depth=10, rfcl__max_features=auto, rfcl__min_samples_leaf=10, rfcl__min_samples_split=300, score=0.8069201730043251, total=  16.2s\n",
      "[CV] rfcl__max_depth=10, rfcl__max_features=auto, rfcl__min_samples_leaf=10, rfcl__min_samples_split=500 \n"
     ]
    },
    {
     "name": "stderr",
     "output_type": "stream",
     "text": [
      "/Users/nivzz/anaconda3/lib/python3.7/site-packages/sklearn/ensemble/forest.py:246: FutureWarning: The default value of n_estimators will change from 10 in version 0.20 to 100 in 0.22.\n",
      "  \"10 in version 0.20 to 100 in 0.22.\", FutureWarning)\n"
     ]
    },
    {
     "name": "stdout",
     "output_type": "stream",
     "text": [
      "[CV]  rfcl__max_depth=10, rfcl__max_features=auto, rfcl__min_samples_leaf=10, rfcl__min_samples_split=500, score=0.8069048273793156, total=  16.7s\n",
      "[CV] rfcl__max_depth=10, rfcl__max_features=auto, rfcl__min_samples_leaf=10, rfcl__min_samples_split=500 \n"
     ]
    },
    {
     "name": "stderr",
     "output_type": "stream",
     "text": [
      "/Users/nivzz/anaconda3/lib/python3.7/site-packages/sklearn/ensemble/forest.py:246: FutureWarning: The default value of n_estimators will change from 10 in version 0.20 to 100 in 0.22.\n",
      "  \"10 in version 0.20 to 100 in 0.22.\", FutureWarning)\n"
     ]
    },
    {
     "name": "stdout",
     "output_type": "stream",
     "text": [
      "[CV]  rfcl__max_depth=10, rfcl__max_features=auto, rfcl__min_samples_leaf=10, rfcl__min_samples_split=500, score=0.8069201730043251, total=  15.6s\n",
      "[CV] rfcl__max_depth=10, rfcl__max_features=auto, rfcl__min_samples_leaf=10, rfcl__min_samples_split=1000 \n"
     ]
    },
    {
     "name": "stderr",
     "output_type": "stream",
     "text": [
      "/Users/nivzz/anaconda3/lib/python3.7/site-packages/sklearn/ensemble/forest.py:246: FutureWarning: The default value of n_estimators will change from 10 in version 0.20 to 100 in 0.22.\n",
      "  \"10 in version 0.20 to 100 in 0.22.\", FutureWarning)\n"
     ]
    },
    {
     "name": "stdout",
     "output_type": "stream",
     "text": [
      "[CV]  rfcl__max_depth=10, rfcl__max_features=auto, rfcl__min_samples_leaf=10, rfcl__min_samples_split=1000, score=0.8069048273793156, total=  15.8s\n",
      "[CV] rfcl__max_depth=10, rfcl__max_features=auto, rfcl__min_samples_leaf=10, rfcl__min_samples_split=1000 \n"
     ]
    },
    {
     "name": "stderr",
     "output_type": "stream",
     "text": [
      "/Users/nivzz/anaconda3/lib/python3.7/site-packages/sklearn/ensemble/forest.py:246: FutureWarning: The default value of n_estimators will change from 10 in version 0.20 to 100 in 0.22.\n",
      "  \"10 in version 0.20 to 100 in 0.22.\", FutureWarning)\n"
     ]
    },
    {
     "name": "stdout",
     "output_type": "stream",
     "text": [
      "[CV]  rfcl__max_depth=10, rfcl__max_features=auto, rfcl__min_samples_leaf=10, rfcl__min_samples_split=1000, score=0.8069201730043251, total=  15.8s\n",
      "[CV] rfcl__max_depth=10, rfcl__max_features=auto, rfcl__min_samples_leaf=50, rfcl__min_samples_split=100 \n"
     ]
    },
    {
     "name": "stderr",
     "output_type": "stream",
     "text": [
      "/Users/nivzz/anaconda3/lib/python3.7/site-packages/sklearn/ensemble/forest.py:246: FutureWarning: The default value of n_estimators will change from 10 in version 0.20 to 100 in 0.22.\n",
      "  \"10 in version 0.20 to 100 in 0.22.\", FutureWarning)\n"
     ]
    },
    {
     "name": "stdout",
     "output_type": "stream",
     "text": [
      "[CV]  rfcl__max_depth=10, rfcl__max_features=auto, rfcl__min_samples_leaf=50, rfcl__min_samples_split=100, score=0.8069048273793156, total=  15.2s\n",
      "[CV] rfcl__max_depth=10, rfcl__max_features=auto, rfcl__min_samples_leaf=50, rfcl__min_samples_split=100 \n"
     ]
    },
    {
     "name": "stderr",
     "output_type": "stream",
     "text": [
      "/Users/nivzz/anaconda3/lib/python3.7/site-packages/sklearn/ensemble/forest.py:246: FutureWarning: The default value of n_estimators will change from 10 in version 0.20 to 100 in 0.22.\n",
      "  \"10 in version 0.20 to 100 in 0.22.\", FutureWarning)\n"
     ]
    },
    {
     "name": "stdout",
     "output_type": "stream",
     "text": [
      "[CV]  rfcl__max_depth=10, rfcl__max_features=auto, rfcl__min_samples_leaf=50, rfcl__min_samples_split=100, score=0.8069201730043251, total=  17.2s\n",
      "[CV] rfcl__max_depth=10, rfcl__max_features=auto, rfcl__min_samples_leaf=50, rfcl__min_samples_split=200 \n"
     ]
    },
    {
     "name": "stderr",
     "output_type": "stream",
     "text": [
      "/Users/nivzz/anaconda3/lib/python3.7/site-packages/sklearn/ensemble/forest.py:246: FutureWarning: The default value of n_estimators will change from 10 in version 0.20 to 100 in 0.22.\n",
      "  \"10 in version 0.20 to 100 in 0.22.\", FutureWarning)\n"
     ]
    },
    {
     "name": "stdout",
     "output_type": "stream",
     "text": [
      "[CV]  rfcl__max_depth=10, rfcl__max_features=auto, rfcl__min_samples_leaf=50, rfcl__min_samples_split=200, score=0.8069048273793156, total=  22.7s\n",
      "[CV] rfcl__max_depth=10, rfcl__max_features=auto, rfcl__min_samples_leaf=50, rfcl__min_samples_split=200 \n"
     ]
    },
    {
     "name": "stderr",
     "output_type": "stream",
     "text": [
      "/Users/nivzz/anaconda3/lib/python3.7/site-packages/sklearn/ensemble/forest.py:246: FutureWarning: The default value of n_estimators will change from 10 in version 0.20 to 100 in 0.22.\n",
      "  \"10 in version 0.20 to 100 in 0.22.\", FutureWarning)\n"
     ]
    },
    {
     "name": "stdout",
     "output_type": "stream",
     "text": [
      "[CV]  rfcl__max_depth=10, rfcl__max_features=auto, rfcl__min_samples_leaf=50, rfcl__min_samples_split=200, score=0.8069701742543564, total=  16.0s\n",
      "[CV] rfcl__max_depth=10, rfcl__max_features=auto, rfcl__min_samples_leaf=50, rfcl__min_samples_split=300 \n"
     ]
    },
    {
     "name": "stderr",
     "output_type": "stream",
     "text": [
      "/Users/nivzz/anaconda3/lib/python3.7/site-packages/sklearn/ensemble/forest.py:246: FutureWarning: The default value of n_estimators will change from 10 in version 0.20 to 100 in 0.22.\n",
      "  \"10 in version 0.20 to 100 in 0.22.\", FutureWarning)\n"
     ]
    },
    {
     "name": "stdout",
     "output_type": "stream",
     "text": [
      "[CV]  rfcl__max_depth=10, rfcl__max_features=auto, rfcl__min_samples_leaf=50, rfcl__min_samples_split=300, score=0.8069048273793156, total=  16.6s\n",
      "[CV] rfcl__max_depth=10, rfcl__max_features=auto, rfcl__min_samples_leaf=50, rfcl__min_samples_split=300 \n"
     ]
    },
    {
     "name": "stderr",
     "output_type": "stream",
     "text": [
      "/Users/nivzz/anaconda3/lib/python3.7/site-packages/sklearn/ensemble/forest.py:246: FutureWarning: The default value of n_estimators will change from 10 in version 0.20 to 100 in 0.22.\n",
      "  \"10 in version 0.20 to 100 in 0.22.\", FutureWarning)\n"
     ]
    },
    {
     "name": "stdout",
     "output_type": "stream",
     "text": [
      "[CV]  rfcl__max_depth=10, rfcl__max_features=auto, rfcl__min_samples_leaf=50, rfcl__min_samples_split=300, score=0.8069201730043251, total=  16.4s\n",
      "[CV] rfcl__max_depth=10, rfcl__max_features=auto, rfcl__min_samples_leaf=50, rfcl__min_samples_split=500 \n"
     ]
    },
    {
     "name": "stderr",
     "output_type": "stream",
     "text": [
      "/Users/nivzz/anaconda3/lib/python3.7/site-packages/sklearn/ensemble/forest.py:246: FutureWarning: The default value of n_estimators will change from 10 in version 0.20 to 100 in 0.22.\n",
      "  \"10 in version 0.20 to 100 in 0.22.\", FutureWarning)\n"
     ]
    },
    {
     "name": "stdout",
     "output_type": "stream",
     "text": [
      "[CV]  rfcl__max_depth=10, rfcl__max_features=auto, rfcl__min_samples_leaf=50, rfcl__min_samples_split=500, score=0.8069048273793156, total=  15.6s\n",
      "[CV] rfcl__max_depth=10, rfcl__max_features=auto, rfcl__min_samples_leaf=50, rfcl__min_samples_split=500 \n"
     ]
    },
    {
     "name": "stderr",
     "output_type": "stream",
     "text": [
      "/Users/nivzz/anaconda3/lib/python3.7/site-packages/sklearn/ensemble/forest.py:246: FutureWarning: The default value of n_estimators will change from 10 in version 0.20 to 100 in 0.22.\n",
      "  \"10 in version 0.20 to 100 in 0.22.\", FutureWarning)\n"
     ]
    },
    {
     "name": "stdout",
     "output_type": "stream",
     "text": [
      "[CV]  rfcl__max_depth=10, rfcl__max_features=auto, rfcl__min_samples_leaf=50, rfcl__min_samples_split=500, score=0.8069201730043251, total=  15.5s\n",
      "[CV] rfcl__max_depth=10, rfcl__max_features=auto, rfcl__min_samples_leaf=50, rfcl__min_samples_split=1000 \n"
     ]
    },
    {
     "name": "stderr",
     "output_type": "stream",
     "text": [
      "/Users/nivzz/anaconda3/lib/python3.7/site-packages/sklearn/ensemble/forest.py:246: FutureWarning: The default value of n_estimators will change from 10 in version 0.20 to 100 in 0.22.\n",
      "  \"10 in version 0.20 to 100 in 0.22.\", FutureWarning)\n"
     ]
    },
    {
     "name": "stdout",
     "output_type": "stream",
     "text": [
      "[CV]  rfcl__max_depth=10, rfcl__max_features=auto, rfcl__min_samples_leaf=50, rfcl__min_samples_split=1000, score=0.8069048273793156, total=  16.3s\n",
      "[CV] rfcl__max_depth=10, rfcl__max_features=auto, rfcl__min_samples_leaf=50, rfcl__min_samples_split=1000 \n"
     ]
    },
    {
     "name": "stderr",
     "output_type": "stream",
     "text": [
      "/Users/nivzz/anaconda3/lib/python3.7/site-packages/sklearn/ensemble/forest.py:246: FutureWarning: The default value of n_estimators will change from 10 in version 0.20 to 100 in 0.22.\n",
      "  \"10 in version 0.20 to 100 in 0.22.\", FutureWarning)\n"
     ]
    },
    {
     "name": "stdout",
     "output_type": "stream",
     "text": [
      "[CV]  rfcl__max_depth=10, rfcl__max_features=auto, rfcl__min_samples_leaf=50, rfcl__min_samples_split=1000, score=0.8069201730043251, total=  17.4s\n",
      "[CV] rfcl__max_depth=10, rfcl__max_features=20000, rfcl__min_samples_leaf=10, rfcl__min_samples_split=100 \n"
     ]
    },
    {
     "name": "stderr",
     "output_type": "stream",
     "text": [
      "/Users/nivzz/anaconda3/lib/python3.7/site-packages/sklearn/ensemble/forest.py:246: FutureWarning: The default value of n_estimators will change from 10 in version 0.20 to 100 in 0.22.\n",
      "  \"10 in version 0.20 to 100 in 0.22.\", FutureWarning)\n"
     ]
    },
    {
     "name": "stdout",
     "output_type": "stream",
     "text": [
      "[CV]  rfcl__max_depth=10, rfcl__max_features=20000, rfcl__min_samples_leaf=10, rfcl__min_samples_split=100, score=0.8183045423864403, total=  35.6s\n",
      "[CV] rfcl__max_depth=10, rfcl__max_features=20000, rfcl__min_samples_leaf=10, rfcl__min_samples_split=100 \n"
     ]
    },
    {
     "name": "stderr",
     "output_type": "stream",
     "text": [
      "/Users/nivzz/anaconda3/lib/python3.7/site-packages/sklearn/ensemble/forest.py:246: FutureWarning: The default value of n_estimators will change from 10 in version 0.20 to 100 in 0.22.\n",
      "  \"10 in version 0.20 to 100 in 0.22.\", FutureWarning)\n"
     ]
    },
    {
     "name": "stdout",
     "output_type": "stream",
     "text": [
      "[CV]  rfcl__max_depth=10, rfcl__max_features=20000, rfcl__min_samples_leaf=10, rfcl__min_samples_split=100, score=0.8176954423860596, total=  36.0s\n",
      "[CV] rfcl__max_depth=10, rfcl__max_features=20000, rfcl__min_samples_leaf=10, rfcl__min_samples_split=200 \n"
     ]
    },
    {
     "name": "stderr",
     "output_type": "stream",
     "text": [
      "/Users/nivzz/anaconda3/lib/python3.7/site-packages/sklearn/ensemble/forest.py:246: FutureWarning: The default value of n_estimators will change from 10 in version 0.20 to 100 in 0.22.\n",
      "  \"10 in version 0.20 to 100 in 0.22.\", FutureWarning)\n"
     ]
    },
    {
     "name": "stdout",
     "output_type": "stream",
     "text": [
      "[CV]  rfcl__max_depth=10, rfcl__max_features=20000, rfcl__min_samples_leaf=10, rfcl__min_samples_split=200, score=0.8180545486362841, total=  34.8s\n",
      "[CV] rfcl__max_depth=10, rfcl__max_features=20000, rfcl__min_samples_leaf=10, rfcl__min_samples_split=200 \n"
     ]
    },
    {
     "name": "stderr",
     "output_type": "stream",
     "text": [
      "/Users/nivzz/anaconda3/lib/python3.7/site-packages/sklearn/ensemble/forest.py:246: FutureWarning: The default value of n_estimators will change from 10 in version 0.20 to 100 in 0.22.\n",
      "  \"10 in version 0.20 to 100 in 0.22.\", FutureWarning)\n"
     ]
    },
    {
     "name": "stdout",
     "output_type": "stream",
     "text": [
      "[CV]  rfcl__max_depth=10, rfcl__max_features=20000, rfcl__min_samples_leaf=10, rfcl__min_samples_split=200, score=0.8169204230105752, total=  38.4s\n",
      "[CV] rfcl__max_depth=10, rfcl__max_features=20000, rfcl__min_samples_leaf=10, rfcl__min_samples_split=300 \n"
     ]
    },
    {
     "name": "stderr",
     "output_type": "stream",
     "text": [
      "/Users/nivzz/anaconda3/lib/python3.7/site-packages/sklearn/ensemble/forest.py:246: FutureWarning: The default value of n_estimators will change from 10 in version 0.20 to 100 in 0.22.\n",
      "  \"10 in version 0.20 to 100 in 0.22.\", FutureWarning)\n"
     ]
    },
    {
     "name": "stdout",
     "output_type": "stream",
     "text": [
      "[CV]  rfcl__max_depth=10, rfcl__max_features=20000, rfcl__min_samples_leaf=10, rfcl__min_samples_split=300, score=0.8169545761355966, total=  34.7s\n",
      "[CV] rfcl__max_depth=10, rfcl__max_features=20000, rfcl__min_samples_leaf=10, rfcl__min_samples_split=300 \n"
     ]
    },
    {
     "name": "stderr",
     "output_type": "stream",
     "text": [
      "/Users/nivzz/anaconda3/lib/python3.7/site-packages/sklearn/ensemble/forest.py:246: FutureWarning: The default value of n_estimators will change from 10 in version 0.20 to 100 in 0.22.\n",
      "  \"10 in version 0.20 to 100 in 0.22.\", FutureWarning)\n"
     ]
    },
    {
     "name": "stdout",
     "output_type": "stream",
     "text": [
      "[CV]  rfcl__max_depth=10, rfcl__max_features=20000, rfcl__min_samples_leaf=10, rfcl__min_samples_split=300, score=0.816070401760044, total=  35.9s\n",
      "[CV] rfcl__max_depth=10, rfcl__max_features=20000, rfcl__min_samples_leaf=10, rfcl__min_samples_split=500 \n"
     ]
    },
    {
     "name": "stderr",
     "output_type": "stream",
     "text": [
      "/Users/nivzz/anaconda3/lib/python3.7/site-packages/sklearn/ensemble/forest.py:246: FutureWarning: The default value of n_estimators will change from 10 in version 0.20 to 100 in 0.22.\n",
      "  \"10 in version 0.20 to 100 in 0.22.\", FutureWarning)\n"
     ]
    },
    {
     "name": "stdout",
     "output_type": "stream",
     "text": [
      "[CV]  rfcl__max_depth=10, rfcl__max_features=20000, rfcl__min_samples_leaf=10, rfcl__min_samples_split=500, score=0.8162045948851279, total=  34.0s\n",
      "[CV] rfcl__max_depth=10, rfcl__max_features=20000, rfcl__min_samples_leaf=10, rfcl__min_samples_split=500 \n"
     ]
    },
    {
     "name": "stderr",
     "output_type": "stream",
     "text": [
      "/Users/nivzz/anaconda3/lib/python3.7/site-packages/sklearn/ensemble/forest.py:246: FutureWarning: The default value of n_estimators will change from 10 in version 0.20 to 100 in 0.22.\n",
      "  \"10 in version 0.20 to 100 in 0.22.\", FutureWarning)\n"
     ]
    },
    {
     "name": "stdout",
     "output_type": "stream",
     "text": [
      "[CV]  rfcl__max_depth=10, rfcl__max_features=20000, rfcl__min_samples_leaf=10, rfcl__min_samples_split=500, score=0.8159203980099502, total=  34.8s\n",
      "[CV] rfcl__max_depth=10, rfcl__max_features=20000, rfcl__min_samples_leaf=10, rfcl__min_samples_split=1000 \n"
     ]
    },
    {
     "name": "stderr",
     "output_type": "stream",
     "text": [
      "/Users/nivzz/anaconda3/lib/python3.7/site-packages/sklearn/ensemble/forest.py:246: FutureWarning: The default value of n_estimators will change from 10 in version 0.20 to 100 in 0.22.\n",
      "  \"10 in version 0.20 to 100 in 0.22.\", FutureWarning)\n"
     ]
    },
    {
     "name": "stdout",
     "output_type": "stream",
     "text": [
      "[CV]  rfcl__max_depth=10, rfcl__max_features=20000, rfcl__min_samples_leaf=10, rfcl__min_samples_split=1000, score=0.8155046123846904, total=  35.4s\n",
      "[CV] rfcl__max_depth=10, rfcl__max_features=20000, rfcl__min_samples_leaf=10, rfcl__min_samples_split=1000 \n"
     ]
    },
    {
     "name": "stderr",
     "output_type": "stream",
     "text": [
      "/Users/nivzz/anaconda3/lib/python3.7/site-packages/sklearn/ensemble/forest.py:246: FutureWarning: The default value of n_estimators will change from 10 in version 0.20 to 100 in 0.22.\n",
      "  \"10 in version 0.20 to 100 in 0.22.\", FutureWarning)\n"
     ]
    },
    {
     "name": "stdout",
     "output_type": "stream",
     "text": [
      "[CV]  rfcl__max_depth=10, rfcl__max_features=20000, rfcl__min_samples_leaf=10, rfcl__min_samples_split=1000, score=0.8159203980099502, total=  34.5s\n",
      "[CV] rfcl__max_depth=10, rfcl__max_features=20000, rfcl__min_samples_leaf=50, rfcl__min_samples_split=100 \n"
     ]
    },
    {
     "name": "stderr",
     "output_type": "stream",
     "text": [
      "/Users/nivzz/anaconda3/lib/python3.7/site-packages/sklearn/ensemble/forest.py:246: FutureWarning: The default value of n_estimators will change from 10 in version 0.20 to 100 in 0.22.\n",
      "  \"10 in version 0.20 to 100 in 0.22.\", FutureWarning)\n"
     ]
    },
    {
     "name": "stdout",
     "output_type": "stream",
     "text": [
      "[CV]  rfcl__max_depth=10, rfcl__max_features=20000, rfcl__min_samples_leaf=50, rfcl__min_samples_split=100, score=0.8170795730106747, total=  35.6s\n",
      "[CV] rfcl__max_depth=10, rfcl__max_features=20000, rfcl__min_samples_leaf=50, rfcl__min_samples_split=100 \n"
     ]
    },
    {
     "name": "stderr",
     "output_type": "stream",
     "text": [
      "/Users/nivzz/anaconda3/lib/python3.7/site-packages/sklearn/ensemble/forest.py:246: FutureWarning: The default value of n_estimators will change from 10 in version 0.20 to 100 in 0.22.\n",
      "  \"10 in version 0.20 to 100 in 0.22.\", FutureWarning)\n"
     ]
    },
    {
     "name": "stdout",
     "output_type": "stream",
     "text": [
      "[CV]  rfcl__max_depth=10, rfcl__max_features=20000, rfcl__min_samples_leaf=50, rfcl__min_samples_split=100, score=0.8145953648841221, total=  38.0s\n",
      "[CV] rfcl__max_depth=10, rfcl__max_features=20000, rfcl__min_samples_leaf=50, rfcl__min_samples_split=200 \n"
     ]
    },
    {
     "name": "stderr",
     "output_type": "stream",
     "text": [
      "/Users/nivzz/anaconda3/lib/python3.7/site-packages/sklearn/ensemble/forest.py:246: FutureWarning: The default value of n_estimators will change from 10 in version 0.20 to 100 in 0.22.\n",
      "  \"10 in version 0.20 to 100 in 0.22.\", FutureWarning)\n"
     ]
    },
    {
     "name": "stdout",
     "output_type": "stream",
     "text": [
      "[CV]  rfcl__max_depth=10, rfcl__max_features=20000, rfcl__min_samples_leaf=50, rfcl__min_samples_split=200, score=0.8157546061348466, total=  32.7s\n",
      "[CV] rfcl__max_depth=10, rfcl__max_features=20000, rfcl__min_samples_leaf=50, rfcl__min_samples_split=200 \n"
     ]
    },
    {
     "name": "stderr",
     "output_type": "stream",
     "text": [
      "/Users/nivzz/anaconda3/lib/python3.7/site-packages/sklearn/ensemble/forest.py:246: FutureWarning: The default value of n_estimators will change from 10 in version 0.20 to 100 in 0.22.\n",
      "  \"10 in version 0.20 to 100 in 0.22.\", FutureWarning)\n"
     ]
    },
    {
     "name": "stdout",
     "output_type": "stream",
     "text": [
      "[CV]  rfcl__max_depth=10, rfcl__max_features=20000, rfcl__min_samples_leaf=50, rfcl__min_samples_split=200, score=0.8154203855096377, total=  36.0s\n",
      "[CV] rfcl__max_depth=10, rfcl__max_features=20000, rfcl__min_samples_leaf=50, rfcl__min_samples_split=300 \n"
     ]
    },
    {
     "name": "stderr",
     "output_type": "stream",
     "text": [
      "/Users/nivzz/anaconda3/lib/python3.7/site-packages/sklearn/ensemble/forest.py:246: FutureWarning: The default value of n_estimators will change from 10 in version 0.20 to 100 in 0.22.\n",
      "  \"10 in version 0.20 to 100 in 0.22.\", FutureWarning)\n"
     ]
    },
    {
     "name": "stdout",
     "output_type": "stream",
     "text": [
      "[CV]  rfcl__max_depth=10, rfcl__max_features=20000, rfcl__min_samples_leaf=50, rfcl__min_samples_split=300, score=0.8166295842603934, total=  34.4s\n",
      "[CV] rfcl__max_depth=10, rfcl__max_features=20000, rfcl__min_samples_leaf=50, rfcl__min_samples_split=300 \n"
     ]
    },
    {
     "name": "stderr",
     "output_type": "stream",
     "text": [
      "/Users/nivzz/anaconda3/lib/python3.7/site-packages/sklearn/ensemble/forest.py:246: FutureWarning: The default value of n_estimators will change from 10 in version 0.20 to 100 in 0.22.\n",
      "  \"10 in version 0.20 to 100 in 0.22.\", FutureWarning)\n"
     ]
    },
    {
     "name": "stdout",
     "output_type": "stream",
     "text": [
      "[CV]  rfcl__max_depth=10, rfcl__max_features=20000, rfcl__min_samples_leaf=50, rfcl__min_samples_split=300, score=0.8159953998849971, total=  33.9s\n",
      "[CV] rfcl__max_depth=10, rfcl__max_features=20000, rfcl__min_samples_leaf=50, rfcl__min_samples_split=500 \n"
     ]
    },
    {
     "name": "stderr",
     "output_type": "stream",
     "text": [
      "/Users/nivzz/anaconda3/lib/python3.7/site-packages/sklearn/ensemble/forest.py:246: FutureWarning: The default value of n_estimators will change from 10 in version 0.20 to 100 in 0.22.\n",
      "  \"10 in version 0.20 to 100 in 0.22.\", FutureWarning)\n"
     ]
    },
    {
     "name": "stdout",
     "output_type": "stream",
     "text": [
      "[CV]  rfcl__max_depth=10, rfcl__max_features=20000, rfcl__min_samples_leaf=50, rfcl__min_samples_split=500, score=0.8154296142596436, total=  35.3s\n",
      "[CV] rfcl__max_depth=10, rfcl__max_features=20000, rfcl__min_samples_leaf=50, rfcl__min_samples_split=500 \n"
     ]
    },
    {
     "name": "stderr",
     "output_type": "stream",
     "text": [
      "/Users/nivzz/anaconda3/lib/python3.7/site-packages/sklearn/ensemble/forest.py:246: FutureWarning: The default value of n_estimators will change from 10 in version 0.20 to 100 in 0.22.\n",
      "  \"10 in version 0.20 to 100 in 0.22.\", FutureWarning)\n"
     ]
    },
    {
     "name": "stdout",
     "output_type": "stream",
     "text": [
      "[CV]  rfcl__max_depth=10, rfcl__max_features=20000, rfcl__min_samples_leaf=50, rfcl__min_samples_split=500, score=0.8138203455086377, total=  35.6s\n",
      "[CV] rfcl__max_depth=10, rfcl__max_features=20000, rfcl__min_samples_leaf=50, rfcl__min_samples_split=1000 \n"
     ]
    },
    {
     "name": "stderr",
     "output_type": "stream",
     "text": [
      "/Users/nivzz/anaconda3/lib/python3.7/site-packages/sklearn/ensemble/forest.py:246: FutureWarning: The default value of n_estimators will change from 10 in version 0.20 to 100 in 0.22.\n",
      "  \"10 in version 0.20 to 100 in 0.22.\", FutureWarning)\n"
     ]
    },
    {
     "name": "stdout",
     "output_type": "stream",
     "text": [
      "[CV]  rfcl__max_depth=10, rfcl__max_features=20000, rfcl__min_samples_leaf=50, rfcl__min_samples_split=1000, score=0.8164795880102997, total=  32.6s\n",
      "[CV] rfcl__max_depth=10, rfcl__max_features=20000, rfcl__min_samples_leaf=50, rfcl__min_samples_split=1000 \n"
     ]
    },
    {
     "name": "stderr",
     "output_type": "stream",
     "text": [
      "/Users/nivzz/anaconda3/lib/python3.7/site-packages/sklearn/ensemble/forest.py:246: FutureWarning: The default value of n_estimators will change from 10 in version 0.20 to 100 in 0.22.\n",
      "  \"10 in version 0.20 to 100 in 0.22.\", FutureWarning)\n"
     ]
    },
    {
     "name": "stdout",
     "output_type": "stream",
     "text": [
      "[CV]  rfcl__max_depth=10, rfcl__max_features=20000, rfcl__min_samples_leaf=50, rfcl__min_samples_split=1000, score=0.8148203705092627, total=  31.5s\n",
      "[CV] rfcl__max_depth=50, rfcl__max_features=auto, rfcl__min_samples_leaf=10, rfcl__min_samples_split=100 \n"
     ]
    },
    {
     "name": "stderr",
     "output_type": "stream",
     "text": [
      "/Users/nivzz/anaconda3/lib/python3.7/site-packages/sklearn/ensemble/forest.py:246: FutureWarning: The default value of n_estimators will change from 10 in version 0.20 to 100 in 0.22.\n",
      "  \"10 in version 0.20 to 100 in 0.22.\", FutureWarning)\n"
     ]
    },
    {
     "name": "stdout",
     "output_type": "stream",
     "text": [
      "[CV]  rfcl__max_depth=50, rfcl__max_features=auto, rfcl__min_samples_leaf=10, rfcl__min_samples_split=100, score=0.8070298242543936, total=  17.5s\n",
      "[CV] rfcl__max_depth=50, rfcl__max_features=auto, rfcl__min_samples_leaf=10, rfcl__min_samples_split=100 \n"
     ]
    },
    {
     "name": "stderr",
     "output_type": "stream",
     "text": [
      "/Users/nivzz/anaconda3/lib/python3.7/site-packages/sklearn/ensemble/forest.py:246: FutureWarning: The default value of n_estimators will change from 10 in version 0.20 to 100 in 0.22.\n",
      "  \"10 in version 0.20 to 100 in 0.22.\", FutureWarning)\n"
     ]
    },
    {
     "name": "stdout",
     "output_type": "stream",
     "text": [
      "[CV]  rfcl__max_depth=50, rfcl__max_features=auto, rfcl__min_samples_leaf=10, rfcl__min_samples_split=100, score=0.8071201780044501, total=  17.9s\n",
      "[CV] rfcl__max_depth=50, rfcl__max_features=auto, rfcl__min_samples_leaf=10, rfcl__min_samples_split=200 \n"
     ]
    },
    {
     "name": "stderr",
     "output_type": "stream",
     "text": [
      "/Users/nivzz/anaconda3/lib/python3.7/site-packages/sklearn/ensemble/forest.py:246: FutureWarning: The default value of n_estimators will change from 10 in version 0.20 to 100 in 0.22.\n",
      "  \"10 in version 0.20 to 100 in 0.22.\", FutureWarning)\n"
     ]
    },
    {
     "name": "stdout",
     "output_type": "stream",
     "text": [
      "[CV]  rfcl__max_depth=50, rfcl__max_features=auto, rfcl__min_samples_leaf=10, rfcl__min_samples_split=200, score=0.8070798230044249, total=  17.2s\n",
      "[CV] rfcl__max_depth=50, rfcl__max_features=auto, rfcl__min_samples_leaf=10, rfcl__min_samples_split=200 \n"
     ]
    },
    {
     "name": "stderr",
     "output_type": "stream",
     "text": [
      "/Users/nivzz/anaconda3/lib/python3.7/site-packages/sklearn/ensemble/forest.py:246: FutureWarning: The default value of n_estimators will change from 10 in version 0.20 to 100 in 0.22.\n",
      "  \"10 in version 0.20 to 100 in 0.22.\", FutureWarning)\n"
     ]
    },
    {
     "name": "stdout",
     "output_type": "stream",
     "text": [
      "[CV]  rfcl__max_depth=50, rfcl__max_features=auto, rfcl__min_samples_leaf=10, rfcl__min_samples_split=200, score=0.8070701767544188, total=  16.6s\n",
      "[CV] rfcl__max_depth=50, rfcl__max_features=auto, rfcl__min_samples_leaf=10, rfcl__min_samples_split=300 \n"
     ]
    },
    {
     "name": "stderr",
     "output_type": "stream",
     "text": [
      "/Users/nivzz/anaconda3/lib/python3.7/site-packages/sklearn/ensemble/forest.py:246: FutureWarning: The default value of n_estimators will change from 10 in version 0.20 to 100 in 0.22.\n",
      "  \"10 in version 0.20 to 100 in 0.22.\", FutureWarning)\n"
     ]
    },
    {
     "name": "stdout",
     "output_type": "stream",
     "text": [
      "[CV]  rfcl__max_depth=50, rfcl__max_features=auto, rfcl__min_samples_leaf=10, rfcl__min_samples_split=300, score=0.8069298267543311, total=  18.2s\n",
      "[CV] rfcl__max_depth=50, rfcl__max_features=auto, rfcl__min_samples_leaf=10, rfcl__min_samples_split=300 \n"
     ]
    },
    {
     "name": "stderr",
     "output_type": "stream",
     "text": [
      "/Users/nivzz/anaconda3/lib/python3.7/site-packages/sklearn/ensemble/forest.py:246: FutureWarning: The default value of n_estimators will change from 10 in version 0.20 to 100 in 0.22.\n",
      "  \"10 in version 0.20 to 100 in 0.22.\", FutureWarning)\n"
     ]
    },
    {
     "name": "stdout",
     "output_type": "stream",
     "text": [
      "[CV]  rfcl__max_depth=50, rfcl__max_features=auto, rfcl__min_samples_leaf=10, rfcl__min_samples_split=300, score=0.8070951773794345, total=  17.0s\n",
      "[CV] rfcl__max_depth=50, rfcl__max_features=auto, rfcl__min_samples_leaf=10, rfcl__min_samples_split=500 \n"
     ]
    },
    {
     "name": "stderr",
     "output_type": "stream",
     "text": [
      "/Users/nivzz/anaconda3/lib/python3.7/site-packages/sklearn/ensemble/forest.py:246: FutureWarning: The default value of n_estimators will change from 10 in version 0.20 to 100 in 0.22.\n",
      "  \"10 in version 0.20 to 100 in 0.22.\", FutureWarning)\n"
     ]
    },
    {
     "name": "stdout",
     "output_type": "stream",
     "text": [
      "[CV]  rfcl__max_depth=50, rfcl__max_features=auto, rfcl__min_samples_leaf=10, rfcl__min_samples_split=500, score=0.8069548261293468, total=  17.0s\n",
      "[CV] rfcl__max_depth=50, rfcl__max_features=auto, rfcl__min_samples_leaf=10, rfcl__min_samples_split=500 \n"
     ]
    },
    {
     "name": "stderr",
     "output_type": "stream",
     "text": [
      "/Users/nivzz/anaconda3/lib/python3.7/site-packages/sklearn/ensemble/forest.py:246: FutureWarning: The default value of n_estimators will change from 10 in version 0.20 to 100 in 0.22.\n",
      "  \"10 in version 0.20 to 100 in 0.22.\", FutureWarning)\n"
     ]
    },
    {
     "name": "stdout",
     "output_type": "stream",
     "text": [
      "[CV]  rfcl__max_depth=50, rfcl__max_features=auto, rfcl__min_samples_leaf=10, rfcl__min_samples_split=500, score=0.8069201730043251, total=  17.0s\n",
      "[CV] rfcl__max_depth=50, rfcl__max_features=auto, rfcl__min_samples_leaf=10, rfcl__min_samples_split=1000 \n"
     ]
    },
    {
     "name": "stderr",
     "output_type": "stream",
     "text": [
      "/Users/nivzz/anaconda3/lib/python3.7/site-packages/sklearn/ensemble/forest.py:246: FutureWarning: The default value of n_estimators will change from 10 in version 0.20 to 100 in 0.22.\n",
      "  \"10 in version 0.20 to 100 in 0.22.\", FutureWarning)\n"
     ]
    },
    {
     "name": "stdout",
     "output_type": "stream",
     "text": [
      "[CV]  rfcl__max_depth=50, rfcl__max_features=auto, rfcl__min_samples_leaf=10, rfcl__min_samples_split=1000, score=0.8069548261293468, total=  16.8s\n",
      "[CV] rfcl__max_depth=50, rfcl__max_features=auto, rfcl__min_samples_leaf=10, rfcl__min_samples_split=1000 \n"
     ]
    },
    {
     "name": "stderr",
     "output_type": "stream",
     "text": [
      "/Users/nivzz/anaconda3/lib/python3.7/site-packages/sklearn/ensemble/forest.py:246: FutureWarning: The default value of n_estimators will change from 10 in version 0.20 to 100 in 0.22.\n",
      "  \"10 in version 0.20 to 100 in 0.22.\", FutureWarning)\n"
     ]
    },
    {
     "name": "stdout",
     "output_type": "stream",
     "text": [
      "[CV]  rfcl__max_depth=50, rfcl__max_features=auto, rfcl__min_samples_leaf=10, rfcl__min_samples_split=1000, score=0.8070701767544188, total=  17.8s\n",
      "[CV] rfcl__max_depth=50, rfcl__max_features=auto, rfcl__min_samples_leaf=50, rfcl__min_samples_split=100 \n"
     ]
    },
    {
     "name": "stderr",
     "output_type": "stream",
     "text": [
      "/Users/nivzz/anaconda3/lib/python3.7/site-packages/sklearn/ensemble/forest.py:246: FutureWarning: The default value of n_estimators will change from 10 in version 0.20 to 100 in 0.22.\n",
      "  \"10 in version 0.20 to 100 in 0.22.\", FutureWarning)\n"
     ]
    },
    {
     "name": "stdout",
     "output_type": "stream",
     "text": [
      "[CV]  rfcl__max_depth=50, rfcl__max_features=auto, rfcl__min_samples_leaf=50, rfcl__min_samples_split=100, score=0.8069048273793156, total=  18.5s\n",
      "[CV] rfcl__max_depth=50, rfcl__max_features=auto, rfcl__min_samples_leaf=50, rfcl__min_samples_split=100 \n"
     ]
    },
    {
     "name": "stderr",
     "output_type": "stream",
     "text": [
      "/Users/nivzz/anaconda3/lib/python3.7/site-packages/sklearn/ensemble/forest.py:246: FutureWarning: The default value of n_estimators will change from 10 in version 0.20 to 100 in 0.22.\n",
      "  \"10 in version 0.20 to 100 in 0.22.\", FutureWarning)\n"
     ]
    },
    {
     "name": "stdout",
     "output_type": "stream",
     "text": [
      "[CV]  rfcl__max_depth=50, rfcl__max_features=auto, rfcl__min_samples_leaf=50, rfcl__min_samples_split=100, score=0.8069201730043251, total=  16.0s\n",
      "[CV] rfcl__max_depth=50, rfcl__max_features=auto, rfcl__min_samples_leaf=50, rfcl__min_samples_split=200 \n"
     ]
    },
    {
     "name": "stderr",
     "output_type": "stream",
     "text": [
      "/Users/nivzz/anaconda3/lib/python3.7/site-packages/sklearn/ensemble/forest.py:246: FutureWarning: The default value of n_estimators will change from 10 in version 0.20 to 100 in 0.22.\n",
      "  \"10 in version 0.20 to 100 in 0.22.\", FutureWarning)\n"
     ]
    },
    {
     "name": "stdout",
     "output_type": "stream",
     "text": [
      "[CV]  rfcl__max_depth=50, rfcl__max_features=auto, rfcl__min_samples_leaf=50, rfcl__min_samples_split=200, score=0.8069048273793156, total=  15.8s\n",
      "[CV] rfcl__max_depth=50, rfcl__max_features=auto, rfcl__min_samples_leaf=50, rfcl__min_samples_split=200 \n"
     ]
    },
    {
     "name": "stderr",
     "output_type": "stream",
     "text": [
      "/Users/nivzz/anaconda3/lib/python3.7/site-packages/sklearn/ensemble/forest.py:246: FutureWarning: The default value of n_estimators will change from 10 in version 0.20 to 100 in 0.22.\n",
      "  \"10 in version 0.20 to 100 in 0.22.\", FutureWarning)\n"
     ]
    },
    {
     "name": "stdout",
     "output_type": "stream",
     "text": [
      "[CV]  rfcl__max_depth=50, rfcl__max_features=auto, rfcl__min_samples_leaf=50, rfcl__min_samples_split=200, score=0.8069201730043251, total=  15.6s\n",
      "[CV] rfcl__max_depth=50, rfcl__max_features=auto, rfcl__min_samples_leaf=50, rfcl__min_samples_split=300 \n"
     ]
    },
    {
     "name": "stderr",
     "output_type": "stream",
     "text": [
      "/Users/nivzz/anaconda3/lib/python3.7/site-packages/sklearn/ensemble/forest.py:246: FutureWarning: The default value of n_estimators will change from 10 in version 0.20 to 100 in 0.22.\n",
      "  \"10 in version 0.20 to 100 in 0.22.\", FutureWarning)\n"
     ]
    },
    {
     "name": "stdout",
     "output_type": "stream",
     "text": [
      "[CV]  rfcl__max_depth=50, rfcl__max_features=auto, rfcl__min_samples_leaf=50, rfcl__min_samples_split=300, score=0.8069048273793156, total=  16.7s\n",
      "[CV] rfcl__max_depth=50, rfcl__max_features=auto, rfcl__min_samples_leaf=50, rfcl__min_samples_split=300 \n"
     ]
    },
    {
     "name": "stderr",
     "output_type": "stream",
     "text": [
      "/Users/nivzz/anaconda3/lib/python3.7/site-packages/sklearn/ensemble/forest.py:246: FutureWarning: The default value of n_estimators will change from 10 in version 0.20 to 100 in 0.22.\n",
      "  \"10 in version 0.20 to 100 in 0.22.\", FutureWarning)\n"
     ]
    },
    {
     "name": "stdout",
     "output_type": "stream",
     "text": [
      "[CV]  rfcl__max_depth=50, rfcl__max_features=auto, rfcl__min_samples_leaf=50, rfcl__min_samples_split=300, score=0.8069201730043251, total=  15.6s\n",
      "[CV] rfcl__max_depth=50, rfcl__max_features=auto, rfcl__min_samples_leaf=50, rfcl__min_samples_split=500 \n"
     ]
    },
    {
     "name": "stderr",
     "output_type": "stream",
     "text": [
      "/Users/nivzz/anaconda3/lib/python3.7/site-packages/sklearn/ensemble/forest.py:246: FutureWarning: The default value of n_estimators will change from 10 in version 0.20 to 100 in 0.22.\n",
      "  \"10 in version 0.20 to 100 in 0.22.\", FutureWarning)\n"
     ]
    },
    {
     "name": "stdout",
     "output_type": "stream",
     "text": [
      "[CV]  rfcl__max_depth=50, rfcl__max_features=auto, rfcl__min_samples_leaf=50, rfcl__min_samples_split=500, score=0.8069048273793156, total=  16.7s\n",
      "[CV] rfcl__max_depth=50, rfcl__max_features=auto, rfcl__min_samples_leaf=50, rfcl__min_samples_split=500 \n"
     ]
    },
    {
     "name": "stderr",
     "output_type": "stream",
     "text": [
      "/Users/nivzz/anaconda3/lib/python3.7/site-packages/sklearn/ensemble/forest.py:246: FutureWarning: The default value of n_estimators will change from 10 in version 0.20 to 100 in 0.22.\n",
      "  \"10 in version 0.20 to 100 in 0.22.\", FutureWarning)\n"
     ]
    },
    {
     "name": "stdout",
     "output_type": "stream",
     "text": [
      "[CV]  rfcl__max_depth=50, rfcl__max_features=auto, rfcl__min_samples_leaf=50, rfcl__min_samples_split=500, score=0.8069201730043251, total=  16.1s\n",
      "[CV] rfcl__max_depth=50, rfcl__max_features=auto, rfcl__min_samples_leaf=50, rfcl__min_samples_split=1000 \n"
     ]
    },
    {
     "name": "stderr",
     "output_type": "stream",
     "text": [
      "/Users/nivzz/anaconda3/lib/python3.7/site-packages/sklearn/ensemble/forest.py:246: FutureWarning: The default value of n_estimators will change from 10 in version 0.20 to 100 in 0.22.\n",
      "  \"10 in version 0.20 to 100 in 0.22.\", FutureWarning)\n"
     ]
    },
    {
     "name": "stdout",
     "output_type": "stream",
     "text": [
      "[CV]  rfcl__max_depth=50, rfcl__max_features=auto, rfcl__min_samples_leaf=50, rfcl__min_samples_split=1000, score=0.8069048273793156, total=  17.2s\n",
      "[CV] rfcl__max_depth=50, rfcl__max_features=auto, rfcl__min_samples_leaf=50, rfcl__min_samples_split=1000 \n"
     ]
    },
    {
     "name": "stderr",
     "output_type": "stream",
     "text": [
      "/Users/nivzz/anaconda3/lib/python3.7/site-packages/sklearn/ensemble/forest.py:246: FutureWarning: The default value of n_estimators will change from 10 in version 0.20 to 100 in 0.22.\n",
      "  \"10 in version 0.20 to 100 in 0.22.\", FutureWarning)\n"
     ]
    },
    {
     "name": "stdout",
     "output_type": "stream",
     "text": [
      "[CV]  rfcl__max_depth=50, rfcl__max_features=auto, rfcl__min_samples_leaf=50, rfcl__min_samples_split=1000, score=0.8069201730043251, total=  15.7s\n",
      "[CV] rfcl__max_depth=50, rfcl__max_features=20000, rfcl__min_samples_leaf=10, rfcl__min_samples_split=100 \n"
     ]
    },
    {
     "name": "stderr",
     "output_type": "stream",
     "text": [
      "/Users/nivzz/anaconda3/lib/python3.7/site-packages/sklearn/ensemble/forest.py:246: FutureWarning: The default value of n_estimators will change from 10 in version 0.20 to 100 in 0.22.\n",
      "  \"10 in version 0.20 to 100 in 0.22.\", FutureWarning)\n"
     ]
    },
    {
     "name": "stdout",
     "output_type": "stream",
     "text": [
      "[CV]  rfcl__max_depth=50, rfcl__max_features=20000, rfcl__min_samples_leaf=10, rfcl__min_samples_split=100, score=0.823454413639659, total= 2.0min\n",
      "[CV] rfcl__max_depth=50, rfcl__max_features=20000, rfcl__min_samples_leaf=10, rfcl__min_samples_split=100 \n"
     ]
    },
    {
     "name": "stderr",
     "output_type": "stream",
     "text": [
      "/Users/nivzz/anaconda3/lib/python3.7/site-packages/sklearn/ensemble/forest.py:246: FutureWarning: The default value of n_estimators will change from 10 in version 0.20 to 100 in 0.22.\n",
      "  \"10 in version 0.20 to 100 in 0.22.\", FutureWarning)\n"
     ]
    },
    {
     "name": "stdout",
     "output_type": "stream",
     "text": [
      "[CV]  rfcl__max_depth=50, rfcl__max_features=20000, rfcl__min_samples_leaf=10, rfcl__min_samples_split=100, score=0.8228955723893098, total= 2.0min\n",
      "[CV] rfcl__max_depth=50, rfcl__max_features=20000, rfcl__min_samples_leaf=10, rfcl__min_samples_split=200 \n"
     ]
    },
    {
     "name": "stderr",
     "output_type": "stream",
     "text": [
      "/Users/nivzz/anaconda3/lib/python3.7/site-packages/sklearn/ensemble/forest.py:246: FutureWarning: The default value of n_estimators will change from 10 in version 0.20 to 100 in 0.22.\n",
      "  \"10 in version 0.20 to 100 in 0.22.\", FutureWarning)\n"
     ]
    },
    {
     "name": "stdout",
     "output_type": "stream",
     "text": [
      "[CV]  rfcl__max_depth=50, rfcl__max_features=20000, rfcl__min_samples_leaf=10, rfcl__min_samples_split=200, score=0.8236294092647684, total= 1.8min\n",
      "[CV] rfcl__max_depth=50, rfcl__max_features=20000, rfcl__min_samples_leaf=10, rfcl__min_samples_split=200 \n"
     ]
    },
    {
     "name": "stderr",
     "output_type": "stream",
     "text": [
      "/Users/nivzz/anaconda3/lib/python3.7/site-packages/sklearn/ensemble/forest.py:246: FutureWarning: The default value of n_estimators will change from 10 in version 0.20 to 100 in 0.22.\n",
      "  \"10 in version 0.20 to 100 in 0.22.\", FutureWarning)\n"
     ]
    },
    {
     "name": "stdout",
     "output_type": "stream",
     "text": [
      "[CV]  rfcl__max_depth=50, rfcl__max_features=20000, rfcl__min_samples_leaf=10, rfcl__min_samples_split=200, score=0.8219205480137003, total= 2.0min\n",
      "[CV] rfcl__max_depth=50, rfcl__max_features=20000, rfcl__min_samples_leaf=10, rfcl__min_samples_split=300 \n"
     ]
    },
    {
     "name": "stderr",
     "output_type": "stream",
     "text": [
      "/Users/nivzz/anaconda3/lib/python3.7/site-packages/sklearn/ensemble/forest.py:246: FutureWarning: The default value of n_estimators will change from 10 in version 0.20 to 100 in 0.22.\n",
      "  \"10 in version 0.20 to 100 in 0.22.\", FutureWarning)\n"
     ]
    },
    {
     "name": "stdout",
     "output_type": "stream",
     "text": [
      "[CV]  rfcl__max_depth=50, rfcl__max_features=20000, rfcl__min_samples_leaf=10, rfcl__min_samples_split=300, score=0.821254468638284, total= 1.8min\n",
      "[CV] rfcl__max_depth=50, rfcl__max_features=20000, rfcl__min_samples_leaf=10, rfcl__min_samples_split=300 \n"
     ]
    },
    {
     "name": "stderr",
     "output_type": "stream",
     "text": [
      "/Users/nivzz/anaconda3/lib/python3.7/site-packages/sklearn/ensemble/forest.py:246: FutureWarning: The default value of n_estimators will change from 10 in version 0.20 to 100 in 0.22.\n",
      "  \"10 in version 0.20 to 100 in 0.22.\", FutureWarning)\n"
     ]
    },
    {
     "name": "stdout",
     "output_type": "stream",
     "text": [
      "[CV]  rfcl__max_depth=50, rfcl__max_features=20000, rfcl__min_samples_leaf=10, rfcl__min_samples_split=300, score=0.8217955448886222, total= 1.8min\n",
      "[CV] rfcl__max_depth=50, rfcl__max_features=20000, rfcl__min_samples_leaf=10, rfcl__min_samples_split=500 \n"
     ]
    },
    {
     "name": "stderr",
     "output_type": "stream",
     "text": [
      "/Users/nivzz/anaconda3/lib/python3.7/site-packages/sklearn/ensemble/forest.py:246: FutureWarning: The default value of n_estimators will change from 10 in version 0.20 to 100 in 0.22.\n",
      "  \"10 in version 0.20 to 100 in 0.22.\", FutureWarning)\n"
     ]
    },
    {
     "name": "stdout",
     "output_type": "stream",
     "text": [
      "[CV]  rfcl__max_depth=50, rfcl__max_features=20000, rfcl__min_samples_leaf=10, rfcl__min_samples_split=500, score=0.8202044948876278, total= 1.7min\n",
      "[CV] rfcl__max_depth=50, rfcl__max_features=20000, rfcl__min_samples_leaf=10, rfcl__min_samples_split=500 \n"
     ]
    },
    {
     "name": "stderr",
     "output_type": "stream",
     "text": [
      "/Users/nivzz/anaconda3/lib/python3.7/site-packages/sklearn/ensemble/forest.py:246: FutureWarning: The default value of n_estimators will change from 10 in version 0.20 to 100 in 0.22.\n",
      "  \"10 in version 0.20 to 100 in 0.22.\", FutureWarning)\n"
     ]
    },
    {
     "name": "stdout",
     "output_type": "stream",
     "text": [
      "[CV]  rfcl__max_depth=50, rfcl__max_features=20000, rfcl__min_samples_leaf=10, rfcl__min_samples_split=500, score=0.8206955173879347, total= 1.7min\n",
      "[CV] rfcl__max_depth=50, rfcl__max_features=20000, rfcl__min_samples_leaf=10, rfcl__min_samples_split=1000 \n"
     ]
    },
    {
     "name": "stderr",
     "output_type": "stream",
     "text": [
      "/Users/nivzz/anaconda3/lib/python3.7/site-packages/sklearn/ensemble/forest.py:246: FutureWarning: The default value of n_estimators will change from 10 in version 0.20 to 100 in 0.22.\n",
      "  \"10 in version 0.20 to 100 in 0.22.\", FutureWarning)\n"
     ]
    },
    {
     "name": "stdout",
     "output_type": "stream",
     "text": [
      "[CV]  rfcl__max_depth=50, rfcl__max_features=20000, rfcl__min_samples_leaf=10, rfcl__min_samples_split=1000, score=0.8197295067623309, total= 1.4min\n",
      "[CV] rfcl__max_depth=50, rfcl__max_features=20000, rfcl__min_samples_leaf=10, rfcl__min_samples_split=1000 \n"
     ]
    },
    {
     "name": "stderr",
     "output_type": "stream",
     "text": [
      "/Users/nivzz/anaconda3/lib/python3.7/site-packages/sklearn/ensemble/forest.py:246: FutureWarning: The default value of n_estimators will change from 10 in version 0.20 to 100 in 0.22.\n",
      "  \"10 in version 0.20 to 100 in 0.22.\", FutureWarning)\n"
     ]
    },
    {
     "name": "stdout",
     "output_type": "stream",
     "text": [
      "[CV]  rfcl__max_depth=50, rfcl__max_features=20000, rfcl__min_samples_leaf=10, rfcl__min_samples_split=1000, score=0.8188954723868097, total= 1.4min\n",
      "[CV] rfcl__max_depth=50, rfcl__max_features=20000, rfcl__min_samples_leaf=50, rfcl__min_samples_split=100 \n"
     ]
    },
    {
     "name": "stderr",
     "output_type": "stream",
     "text": [
      "/Users/nivzz/anaconda3/lib/python3.7/site-packages/sklearn/ensemble/forest.py:246: FutureWarning: The default value of n_estimators will change from 10 in version 0.20 to 100 in 0.22.\n",
      "  \"10 in version 0.20 to 100 in 0.22.\", FutureWarning)\n"
     ]
    },
    {
     "name": "stdout",
     "output_type": "stream",
     "text": [
      "[CV]  rfcl__max_depth=50, rfcl__max_features=20000, rfcl__min_samples_leaf=50, rfcl__min_samples_split=100, score=0.8190795230119247, total= 1.4min\n",
      "[CV] rfcl__max_depth=50, rfcl__max_features=20000, rfcl__min_samples_leaf=50, rfcl__min_samples_split=100 \n"
     ]
    },
    {
     "name": "stderr",
     "output_type": "stream",
     "text": [
      "/Users/nivzz/anaconda3/lib/python3.7/site-packages/sklearn/ensemble/forest.py:246: FutureWarning: The default value of n_estimators will change from 10 in version 0.20 to 100 in 0.22.\n",
      "  \"10 in version 0.20 to 100 in 0.22.\", FutureWarning)\n"
     ]
    },
    {
     "name": "stdout",
     "output_type": "stream",
     "text": [
      "[CV]  rfcl__max_depth=50, rfcl__max_features=20000, rfcl__min_samples_leaf=50, rfcl__min_samples_split=100, score=0.8177954448861221, total= 1.4min\n",
      "[CV] rfcl__max_depth=50, rfcl__max_features=20000, rfcl__min_samples_leaf=50, rfcl__min_samples_split=200 \n"
     ]
    },
    {
     "name": "stderr",
     "output_type": "stream",
     "text": [
      "/Users/nivzz/anaconda3/lib/python3.7/site-packages/sklearn/ensemble/forest.py:246: FutureWarning: The default value of n_estimators will change from 10 in version 0.20 to 100 in 0.22.\n",
      "  \"10 in version 0.20 to 100 in 0.22.\", FutureWarning)\n"
     ]
    },
    {
     "name": "stdout",
     "output_type": "stream",
     "text": [
      "[CV]  rfcl__max_depth=50, rfcl__max_features=20000, rfcl__min_samples_leaf=50, rfcl__min_samples_split=200, score=0.8183045423864403, total= 1.2min\n",
      "[CV] rfcl__max_depth=50, rfcl__max_features=20000, rfcl__min_samples_leaf=50, rfcl__min_samples_split=200 \n"
     ]
    },
    {
     "name": "stderr",
     "output_type": "stream",
     "text": [
      "/Users/nivzz/anaconda3/lib/python3.7/site-packages/sklearn/ensemble/forest.py:246: FutureWarning: The default value of n_estimators will change from 10 in version 0.20 to 100 in 0.22.\n",
      "  \"10 in version 0.20 to 100 in 0.22.\", FutureWarning)\n"
     ]
    },
    {
     "name": "stdout",
     "output_type": "stream",
     "text": [
      "[CV]  rfcl__max_depth=50, rfcl__max_features=20000, rfcl__min_samples_leaf=50, rfcl__min_samples_split=200, score=0.815670391759794, total= 1.1min\n",
      "[CV] rfcl__max_depth=50, rfcl__max_features=20000, rfcl__min_samples_leaf=50, rfcl__min_samples_split=300 \n"
     ]
    },
    {
     "name": "stderr",
     "output_type": "stream",
     "text": [
      "/Users/nivzz/anaconda3/lib/python3.7/site-packages/sklearn/ensemble/forest.py:246: FutureWarning: The default value of n_estimators will change from 10 in version 0.20 to 100 in 0.22.\n",
      "  \"10 in version 0.20 to 100 in 0.22.\", FutureWarning)\n"
     ]
    },
    {
     "name": "stdout",
     "output_type": "stream",
     "text": [
      "[CV]  rfcl__max_depth=50, rfcl__max_features=20000, rfcl__min_samples_leaf=50, rfcl__min_samples_split=300, score=0.8185045373865654, total= 1.1min\n",
      "[CV] rfcl__max_depth=50, rfcl__max_features=20000, rfcl__min_samples_leaf=50, rfcl__min_samples_split=300 \n"
     ]
    },
    {
     "name": "stderr",
     "output_type": "stream",
     "text": [
      "/Users/nivzz/anaconda3/lib/python3.7/site-packages/sklearn/ensemble/forest.py:246: FutureWarning: The default value of n_estimators will change from 10 in version 0.20 to 100 in 0.22.\n",
      "  \"10 in version 0.20 to 100 in 0.22.\", FutureWarning)\n"
     ]
    },
    {
     "name": "stdout",
     "output_type": "stream",
     "text": [
      "[CV]  rfcl__max_depth=50, rfcl__max_features=20000, rfcl__min_samples_leaf=50, rfcl__min_samples_split=300, score=0.816870421760544, total= 1.1min\n",
      "[CV] rfcl__max_depth=50, rfcl__max_features=20000, rfcl__min_samples_leaf=50, rfcl__min_samples_split=500 \n"
     ]
    },
    {
     "name": "stderr",
     "output_type": "stream",
     "text": [
      "/Users/nivzz/anaconda3/lib/python3.7/site-packages/sklearn/ensemble/forest.py:246: FutureWarning: The default value of n_estimators will change from 10 in version 0.20 to 100 in 0.22.\n",
      "  \"10 in version 0.20 to 100 in 0.22.\", FutureWarning)\n"
     ]
    },
    {
     "name": "stdout",
     "output_type": "stream",
     "text": [
      "[CV]  rfcl__max_depth=50, rfcl__max_features=20000, rfcl__min_samples_leaf=50, rfcl__min_samples_split=500, score=0.8172795680107997, total=  59.7s\n",
      "[CV] rfcl__max_depth=50, rfcl__max_features=20000, rfcl__min_samples_leaf=50, rfcl__min_samples_split=500 \n"
     ]
    },
    {
     "name": "stderr",
     "output_type": "stream",
     "text": [
      "/Users/nivzz/anaconda3/lib/python3.7/site-packages/sklearn/ensemble/forest.py:246: FutureWarning: The default value of n_estimators will change from 10 in version 0.20 to 100 in 0.22.\n",
      "  \"10 in version 0.20 to 100 in 0.22.\", FutureWarning)\n"
     ]
    },
    {
     "name": "stdout",
     "output_type": "stream",
     "text": [
      "[CV]  rfcl__max_depth=50, rfcl__max_features=20000, rfcl__min_samples_leaf=50, rfcl__min_samples_split=500, score=0.8150203755093878, total=  57.5s\n",
      "[CV] rfcl__max_depth=50, rfcl__max_features=20000, rfcl__min_samples_leaf=50, rfcl__min_samples_split=1000 \n"
     ]
    },
    {
     "name": "stderr",
     "output_type": "stream",
     "text": [
      "/Users/nivzz/anaconda3/lib/python3.7/site-packages/sklearn/ensemble/forest.py:246: FutureWarning: The default value of n_estimators will change from 10 in version 0.20 to 100 in 0.22.\n",
      "  \"10 in version 0.20 to 100 in 0.22.\", FutureWarning)\n"
     ]
    },
    {
     "name": "stdout",
     "output_type": "stream",
     "text": [
      "[CV]  rfcl__max_depth=50, rfcl__max_features=20000, rfcl__min_samples_leaf=50, rfcl__min_samples_split=1000, score=0.8161045973850654, total=  54.0s\n",
      "[CV] rfcl__max_depth=50, rfcl__max_features=20000, rfcl__min_samples_leaf=50, rfcl__min_samples_split=1000 \n"
     ]
    },
    {
     "name": "stderr",
     "output_type": "stream",
     "text": [
      "/Users/nivzz/anaconda3/lib/python3.7/site-packages/sklearn/ensemble/forest.py:246: FutureWarning: The default value of n_estimators will change from 10 in version 0.20 to 100 in 0.22.\n",
      "  \"10 in version 0.20 to 100 in 0.22.\", FutureWarning)\n"
     ]
    },
    {
     "name": "stdout",
     "output_type": "stream",
     "text": [
      "[CV]  rfcl__max_depth=50, rfcl__max_features=20000, rfcl__min_samples_leaf=50, rfcl__min_samples_split=1000, score=0.8152953823845596, total=  51.3s\n",
      "[CV] rfcl__max_depth=100, rfcl__max_features=auto, rfcl__min_samples_leaf=10, rfcl__min_samples_split=100 \n"
     ]
    },
    {
     "name": "stderr",
     "output_type": "stream",
     "text": [
      "/Users/nivzz/anaconda3/lib/python3.7/site-packages/sklearn/ensemble/forest.py:246: FutureWarning: The default value of n_estimators will change from 10 in version 0.20 to 100 in 0.22.\n",
      "  \"10 in version 0.20 to 100 in 0.22.\", FutureWarning)\n"
     ]
    },
    {
     "name": "stdout",
     "output_type": "stream",
     "text": [
      "[CV]  rfcl__max_depth=100, rfcl__max_features=auto, rfcl__min_samples_leaf=10, rfcl__min_samples_split=100, score=0.8070298242543936, total=  17.7s\n",
      "[CV] rfcl__max_depth=100, rfcl__max_features=auto, rfcl__min_samples_leaf=10, rfcl__min_samples_split=100 \n"
     ]
    },
    {
     "name": "stderr",
     "output_type": "stream",
     "text": [
      "/Users/nivzz/anaconda3/lib/python3.7/site-packages/sklearn/ensemble/forest.py:246: FutureWarning: The default value of n_estimators will change from 10 in version 0.20 to 100 in 0.22.\n",
      "  \"10 in version 0.20 to 100 in 0.22.\", FutureWarning)\n"
     ]
    },
    {
     "name": "stdout",
     "output_type": "stream",
     "text": [
      "[CV]  rfcl__max_depth=100, rfcl__max_features=auto, rfcl__min_samples_leaf=10, rfcl__min_samples_split=100, score=0.8077451936298408, total=  17.1s\n",
      "[CV] rfcl__max_depth=100, rfcl__max_features=auto, rfcl__min_samples_leaf=10, rfcl__min_samples_split=200 \n"
     ]
    },
    {
     "name": "stderr",
     "output_type": "stream",
     "text": [
      "/Users/nivzz/anaconda3/lib/python3.7/site-packages/sklearn/ensemble/forest.py:246: FutureWarning: The default value of n_estimators will change from 10 in version 0.20 to 100 in 0.22.\n",
      "  \"10 in version 0.20 to 100 in 0.22.\", FutureWarning)\n"
     ]
    },
    {
     "name": "stdout",
     "output_type": "stream",
     "text": [
      "[CV]  rfcl__max_depth=100, rfcl__max_features=auto, rfcl__min_samples_leaf=10, rfcl__min_samples_split=200, score=0.8069798255043624, total=  17.4s\n",
      "[CV] rfcl__max_depth=100, rfcl__max_features=auto, rfcl__min_samples_leaf=10, rfcl__min_samples_split=200 \n"
     ]
    },
    {
     "name": "stderr",
     "output_type": "stream",
     "text": [
      "/Users/nivzz/anaconda3/lib/python3.7/site-packages/sklearn/ensemble/forest.py:246: FutureWarning: The default value of n_estimators will change from 10 in version 0.20 to 100 in 0.22.\n",
      "  \"10 in version 0.20 to 100 in 0.22.\", FutureWarning)\n"
     ]
    },
    {
     "name": "stdout",
     "output_type": "stream",
     "text": [
      "[CV]  rfcl__max_depth=100, rfcl__max_features=auto, rfcl__min_samples_leaf=10, rfcl__min_samples_split=200, score=0.8070201755043876, total=  17.6s\n",
      "[CV] rfcl__max_depth=100, rfcl__max_features=auto, rfcl__min_samples_leaf=10, rfcl__min_samples_split=300 \n"
     ]
    },
    {
     "name": "stderr",
     "output_type": "stream",
     "text": [
      "/Users/nivzz/anaconda3/lib/python3.7/site-packages/sklearn/ensemble/forest.py:246: FutureWarning: The default value of n_estimators will change from 10 in version 0.20 to 100 in 0.22.\n",
      "  \"10 in version 0.20 to 100 in 0.22.\", FutureWarning)\n"
     ]
    },
    {
     "name": "stdout",
     "output_type": "stream",
     "text": [
      "[CV]  rfcl__max_depth=100, rfcl__max_features=auto, rfcl__min_samples_leaf=10, rfcl__min_samples_split=300, score=0.8070798230044249, total=  17.4s\n",
      "[CV] rfcl__max_depth=100, rfcl__max_features=auto, rfcl__min_samples_leaf=10, rfcl__min_samples_split=300 \n"
     ]
    },
    {
     "name": "stderr",
     "output_type": "stream",
     "text": [
      "/Users/nivzz/anaconda3/lib/python3.7/site-packages/sklearn/ensemble/forest.py:246: FutureWarning: The default value of n_estimators will change from 10 in version 0.20 to 100 in 0.22.\n",
      "  \"10 in version 0.20 to 100 in 0.22.\", FutureWarning)\n"
     ]
    },
    {
     "name": "stdout",
     "output_type": "stream",
     "text": [
      "[CV]  rfcl__max_depth=100, rfcl__max_features=auto, rfcl__min_samples_leaf=10, rfcl__min_samples_split=300, score=0.8070951773794345, total=  17.7s\n",
      "[CV] rfcl__max_depth=100, rfcl__max_features=auto, rfcl__min_samples_leaf=10, rfcl__min_samples_split=500 \n"
     ]
    },
    {
     "name": "stderr",
     "output_type": "stream",
     "text": [
      "/Users/nivzz/anaconda3/lib/python3.7/site-packages/sklearn/ensemble/forest.py:246: FutureWarning: The default value of n_estimators will change from 10 in version 0.20 to 100 in 0.22.\n",
      "  \"10 in version 0.20 to 100 in 0.22.\", FutureWarning)\n"
     ]
    },
    {
     "name": "stdout",
     "output_type": "stream",
     "text": [
      "[CV]  rfcl__max_depth=100, rfcl__max_features=auto, rfcl__min_samples_leaf=10, rfcl__min_samples_split=500, score=0.8069298267543311, total=  17.4s\n",
      "[CV] rfcl__max_depth=100, rfcl__max_features=auto, rfcl__min_samples_leaf=10, rfcl__min_samples_split=500 \n"
     ]
    },
    {
     "name": "stderr",
     "output_type": "stream",
     "text": [
      "/Users/nivzz/anaconda3/lib/python3.7/site-packages/sklearn/ensemble/forest.py:246: FutureWarning: The default value of n_estimators will change from 10 in version 0.20 to 100 in 0.22.\n",
      "  \"10 in version 0.20 to 100 in 0.22.\", FutureWarning)\n"
     ]
    },
    {
     "name": "stdout",
     "output_type": "stream",
     "text": [
      "[CV]  rfcl__max_depth=100, rfcl__max_features=auto, rfcl__min_samples_leaf=10, rfcl__min_samples_split=500, score=0.806995174879372, total=  16.9s\n",
      "[CV] rfcl__max_depth=100, rfcl__max_features=auto, rfcl__min_samples_leaf=10, rfcl__min_samples_split=1000 \n"
     ]
    },
    {
     "name": "stderr",
     "output_type": "stream",
     "text": [
      "/Users/nivzz/anaconda3/lib/python3.7/site-packages/sklearn/ensemble/forest.py:246: FutureWarning: The default value of n_estimators will change from 10 in version 0.20 to 100 in 0.22.\n",
      "  \"10 in version 0.20 to 100 in 0.22.\", FutureWarning)\n"
     ]
    },
    {
     "name": "stdout",
     "output_type": "stream",
     "text": [
      "[CV]  rfcl__max_depth=100, rfcl__max_features=auto, rfcl__min_samples_leaf=10, rfcl__min_samples_split=1000, score=0.807004824879378, total=  16.3s\n",
      "[CV] rfcl__max_depth=100, rfcl__max_features=auto, rfcl__min_samples_leaf=10, rfcl__min_samples_split=1000 \n"
     ]
    },
    {
     "name": "stderr",
     "output_type": "stream",
     "text": [
      "/Users/nivzz/anaconda3/lib/python3.7/site-packages/sklearn/ensemble/forest.py:246: FutureWarning: The default value of n_estimators will change from 10 in version 0.20 to 100 in 0.22.\n",
      "  \"10 in version 0.20 to 100 in 0.22.\", FutureWarning)\n"
     ]
    },
    {
     "name": "stdout",
     "output_type": "stream",
     "text": [
      "[CV]  rfcl__max_depth=100, rfcl__max_features=auto, rfcl__min_samples_leaf=10, rfcl__min_samples_split=1000, score=0.8069451736293407, total=  16.9s\n",
      "[CV] rfcl__max_depth=100, rfcl__max_features=auto, rfcl__min_samples_leaf=50, rfcl__min_samples_split=100 \n"
     ]
    },
    {
     "name": "stderr",
     "output_type": "stream",
     "text": [
      "/Users/nivzz/anaconda3/lib/python3.7/site-packages/sklearn/ensemble/forest.py:246: FutureWarning: The default value of n_estimators will change from 10 in version 0.20 to 100 in 0.22.\n",
      "  \"10 in version 0.20 to 100 in 0.22.\", FutureWarning)\n"
     ]
    },
    {
     "name": "stdout",
     "output_type": "stream",
     "text": [
      "[CV]  rfcl__max_depth=100, rfcl__max_features=auto, rfcl__min_samples_leaf=50, rfcl__min_samples_split=100, score=0.8069048273793156, total=  16.5s\n",
      "[CV] rfcl__max_depth=100, rfcl__max_features=auto, rfcl__min_samples_leaf=50, rfcl__min_samples_split=100 \n"
     ]
    },
    {
     "name": "stderr",
     "output_type": "stream",
     "text": [
      "/Users/nivzz/anaconda3/lib/python3.7/site-packages/sklearn/ensemble/forest.py:246: FutureWarning: The default value of n_estimators will change from 10 in version 0.20 to 100 in 0.22.\n",
      "  \"10 in version 0.20 to 100 in 0.22.\", FutureWarning)\n"
     ]
    },
    {
     "name": "stdout",
     "output_type": "stream",
     "text": [
      "[CV]  rfcl__max_depth=100, rfcl__max_features=auto, rfcl__min_samples_leaf=50, rfcl__min_samples_split=100, score=0.8069201730043251, total=  15.9s\n",
      "[CV] rfcl__max_depth=100, rfcl__max_features=auto, rfcl__min_samples_leaf=50, rfcl__min_samples_split=200 \n"
     ]
    },
    {
     "name": "stderr",
     "output_type": "stream",
     "text": [
      "/Users/nivzz/anaconda3/lib/python3.7/site-packages/sklearn/ensemble/forest.py:246: FutureWarning: The default value of n_estimators will change from 10 in version 0.20 to 100 in 0.22.\n",
      "  \"10 in version 0.20 to 100 in 0.22.\", FutureWarning)\n"
     ]
    },
    {
     "name": "stdout",
     "output_type": "stream",
     "text": [
      "[CV]  rfcl__max_depth=100, rfcl__max_features=auto, rfcl__min_samples_leaf=50, rfcl__min_samples_split=200, score=0.8069048273793156, total=  16.3s\n",
      "[CV] rfcl__max_depth=100, rfcl__max_features=auto, rfcl__min_samples_leaf=50, rfcl__min_samples_split=200 \n"
     ]
    },
    {
     "name": "stderr",
     "output_type": "stream",
     "text": [
      "/Users/nivzz/anaconda3/lib/python3.7/site-packages/sklearn/ensemble/forest.py:246: FutureWarning: The default value of n_estimators will change from 10 in version 0.20 to 100 in 0.22.\n",
      "  \"10 in version 0.20 to 100 in 0.22.\", FutureWarning)\n"
     ]
    },
    {
     "name": "stdout",
     "output_type": "stream",
     "text": [
      "[CV]  rfcl__max_depth=100, rfcl__max_features=auto, rfcl__min_samples_leaf=50, rfcl__min_samples_split=200, score=0.8069201730043251, total=  16.7s\n",
      "[CV] rfcl__max_depth=100, rfcl__max_features=auto, rfcl__min_samples_leaf=50, rfcl__min_samples_split=300 \n"
     ]
    },
    {
     "name": "stderr",
     "output_type": "stream",
     "text": [
      "/Users/nivzz/anaconda3/lib/python3.7/site-packages/sklearn/ensemble/forest.py:246: FutureWarning: The default value of n_estimators will change from 10 in version 0.20 to 100 in 0.22.\n",
      "  \"10 in version 0.20 to 100 in 0.22.\", FutureWarning)\n"
     ]
    },
    {
     "name": "stdout",
     "output_type": "stream",
     "text": [
      "[CV]  rfcl__max_depth=100, rfcl__max_features=auto, rfcl__min_samples_leaf=50, rfcl__min_samples_split=300, score=0.8069048273793156, total=  19.1s\n",
      "[CV] rfcl__max_depth=100, rfcl__max_features=auto, rfcl__min_samples_leaf=50, rfcl__min_samples_split=300 \n"
     ]
    },
    {
     "name": "stderr",
     "output_type": "stream",
     "text": [
      "/Users/nivzz/anaconda3/lib/python3.7/site-packages/sklearn/ensemble/forest.py:246: FutureWarning: The default value of n_estimators will change from 10 in version 0.20 to 100 in 0.22.\n",
      "  \"10 in version 0.20 to 100 in 0.22.\", FutureWarning)\n"
     ]
    },
    {
     "name": "stdout",
     "output_type": "stream",
     "text": [
      "[CV]  rfcl__max_depth=100, rfcl__max_features=auto, rfcl__min_samples_leaf=50, rfcl__min_samples_split=300, score=0.8069201730043251, total=  16.3s\n",
      "[CV] rfcl__max_depth=100, rfcl__max_features=auto, rfcl__min_samples_leaf=50, rfcl__min_samples_split=500 \n"
     ]
    },
    {
     "name": "stderr",
     "output_type": "stream",
     "text": [
      "/Users/nivzz/anaconda3/lib/python3.7/site-packages/sklearn/ensemble/forest.py:246: FutureWarning: The default value of n_estimators will change from 10 in version 0.20 to 100 in 0.22.\n",
      "  \"10 in version 0.20 to 100 in 0.22.\", FutureWarning)\n"
     ]
    },
    {
     "name": "stdout",
     "output_type": "stream",
     "text": [
      "[CV]  rfcl__max_depth=100, rfcl__max_features=auto, rfcl__min_samples_leaf=50, rfcl__min_samples_split=500, score=0.8069298267543311, total=  16.5s\n",
      "[CV] rfcl__max_depth=100, rfcl__max_features=auto, rfcl__min_samples_leaf=50, rfcl__min_samples_split=500 \n"
     ]
    },
    {
     "name": "stderr",
     "output_type": "stream",
     "text": [
      "/Users/nivzz/anaconda3/lib/python3.7/site-packages/sklearn/ensemble/forest.py:246: FutureWarning: The default value of n_estimators will change from 10 in version 0.20 to 100 in 0.22.\n",
      "  \"10 in version 0.20 to 100 in 0.22.\", FutureWarning)\n"
     ]
    },
    {
     "name": "stdout",
     "output_type": "stream",
     "text": [
      "[CV]  rfcl__max_depth=100, rfcl__max_features=auto, rfcl__min_samples_leaf=50, rfcl__min_samples_split=500, score=0.8069201730043251, total=  17.1s\n",
      "[CV] rfcl__max_depth=100, rfcl__max_features=auto, rfcl__min_samples_leaf=50, rfcl__min_samples_split=1000 \n"
     ]
    },
    {
     "name": "stderr",
     "output_type": "stream",
     "text": [
      "/Users/nivzz/anaconda3/lib/python3.7/site-packages/sklearn/ensemble/forest.py:246: FutureWarning: The default value of n_estimators will change from 10 in version 0.20 to 100 in 0.22.\n",
      "  \"10 in version 0.20 to 100 in 0.22.\", FutureWarning)\n"
     ]
    },
    {
     "name": "stdout",
     "output_type": "stream",
     "text": [
      "[CV]  rfcl__max_depth=100, rfcl__max_features=auto, rfcl__min_samples_leaf=50, rfcl__min_samples_split=1000, score=0.8069048273793156, total=  16.4s\n",
      "[CV] rfcl__max_depth=100, rfcl__max_features=auto, rfcl__min_samples_leaf=50, rfcl__min_samples_split=1000 \n"
     ]
    },
    {
     "name": "stderr",
     "output_type": "stream",
     "text": [
      "/Users/nivzz/anaconda3/lib/python3.7/site-packages/sklearn/ensemble/forest.py:246: FutureWarning: The default value of n_estimators will change from 10 in version 0.20 to 100 in 0.22.\n",
      "  \"10 in version 0.20 to 100 in 0.22.\", FutureWarning)\n"
     ]
    },
    {
     "name": "stdout",
     "output_type": "stream",
     "text": [
      "[CV]  rfcl__max_depth=100, rfcl__max_features=auto, rfcl__min_samples_leaf=50, rfcl__min_samples_split=1000, score=0.8069201730043251, total=  17.3s\n",
      "[CV] rfcl__max_depth=100, rfcl__max_features=20000, rfcl__min_samples_leaf=10, rfcl__min_samples_split=100 \n"
     ]
    },
    {
     "name": "stderr",
     "output_type": "stream",
     "text": [
      "/Users/nivzz/anaconda3/lib/python3.7/site-packages/sklearn/ensemble/forest.py:246: FutureWarning: The default value of n_estimators will change from 10 in version 0.20 to 100 in 0.22.\n",
      "  \"10 in version 0.20 to 100 in 0.22.\", FutureWarning)\n"
     ]
    },
    {
     "name": "stdout",
     "output_type": "stream",
     "text": [
      "[CV]  rfcl__max_depth=100, rfcl__max_features=20000, rfcl__min_samples_leaf=10, rfcl__min_samples_split=100, score=0.8225794355141122, total= 2.6min\n",
      "[CV] rfcl__max_depth=100, rfcl__max_features=20000, rfcl__min_samples_leaf=10, rfcl__min_samples_split=100 \n"
     ]
    },
    {
     "name": "stderr",
     "output_type": "stream",
     "text": [
      "/Users/nivzz/anaconda3/lib/python3.7/site-packages/sklearn/ensemble/forest.py:246: FutureWarning: The default value of n_estimators will change from 10 in version 0.20 to 100 in 0.22.\n",
      "  \"10 in version 0.20 to 100 in 0.22.\", FutureWarning)\n"
     ]
    },
    {
     "name": "stdout",
     "output_type": "stream",
     "text": [
      "[CV]  rfcl__max_depth=100, rfcl__max_features=20000, rfcl__min_samples_leaf=10, rfcl__min_samples_split=100, score=0.8227955698892472, total= 2.6min\n",
      "[CV] rfcl__max_depth=100, rfcl__max_features=20000, rfcl__min_samples_leaf=10, rfcl__min_samples_split=200 \n"
     ]
    },
    {
     "name": "stderr",
     "output_type": "stream",
     "text": [
      "/Users/nivzz/anaconda3/lib/python3.7/site-packages/sklearn/ensemble/forest.py:246: FutureWarning: The default value of n_estimators will change from 10 in version 0.20 to 100 in 0.22.\n",
      "  \"10 in version 0.20 to 100 in 0.22.\", FutureWarning)\n"
     ]
    },
    {
     "name": "stdout",
     "output_type": "stream",
     "text": [
      "[CV]  rfcl__max_depth=100, rfcl__max_features=20000, rfcl__min_samples_leaf=10, rfcl__min_samples_split=200, score=0.8219294517637059, total= 2.5min\n",
      "[CV] rfcl__max_depth=100, rfcl__max_features=20000, rfcl__min_samples_leaf=10, rfcl__min_samples_split=200 \n"
     ]
    },
    {
     "name": "stderr",
     "output_type": "stream",
     "text": [
      "/Users/nivzz/anaconda3/lib/python3.7/site-packages/sklearn/ensemble/forest.py:246: FutureWarning: The default value of n_estimators will change from 10 in version 0.20 to 100 in 0.22.\n",
      "  \"10 in version 0.20 to 100 in 0.22.\", FutureWarning)\n"
     ]
    },
    {
     "name": "stdout",
     "output_type": "stream",
     "text": [
      "[CV]  rfcl__max_depth=100, rfcl__max_features=20000, rfcl__min_samples_leaf=10, rfcl__min_samples_split=200, score=0.8219705492637316, total= 2.4min\n",
      "[CV] rfcl__max_depth=100, rfcl__max_features=20000, rfcl__min_samples_leaf=10, rfcl__min_samples_split=300 \n"
     ]
    },
    {
     "name": "stderr",
     "output_type": "stream",
     "text": [
      "/Users/nivzz/anaconda3/lib/python3.7/site-packages/sklearn/ensemble/forest.py:246: FutureWarning: The default value of n_estimators will change from 10 in version 0.20 to 100 in 0.22.\n",
      "  \"10 in version 0.20 to 100 in 0.22.\", FutureWarning)\n"
     ]
    },
    {
     "name": "stdout",
     "output_type": "stream",
     "text": [
      "[CV]  rfcl__max_depth=100, rfcl__max_features=20000, rfcl__min_samples_leaf=10, rfcl__min_samples_split=300, score=0.8213794655133622, total= 2.3min\n",
      "[CV] rfcl__max_depth=100, rfcl__max_features=20000, rfcl__min_samples_leaf=10, rfcl__min_samples_split=300 \n"
     ]
    },
    {
     "name": "stderr",
     "output_type": "stream",
     "text": [
      "/Users/nivzz/anaconda3/lib/python3.7/site-packages/sklearn/ensemble/forest.py:246: FutureWarning: The default value of n_estimators will change from 10 in version 0.20 to 100 in 0.22.\n",
      "  \"10 in version 0.20 to 100 in 0.22.\", FutureWarning)\n"
     ]
    },
    {
     "name": "stdout",
     "output_type": "stream",
     "text": [
      "[CV]  rfcl__max_depth=100, rfcl__max_features=20000, rfcl__min_samples_leaf=10, rfcl__min_samples_split=300, score=0.8215955398884972, total= 2.4min\n",
      "[CV] rfcl__max_depth=100, rfcl__max_features=20000, rfcl__min_samples_leaf=10, rfcl__min_samples_split=500 \n"
     ]
    },
    {
     "name": "stderr",
     "output_type": "stream",
     "text": [
      "/Users/nivzz/anaconda3/lib/python3.7/site-packages/sklearn/ensemble/forest.py:246: FutureWarning: The default value of n_estimators will change from 10 in version 0.20 to 100 in 0.22.\n",
      "  \"10 in version 0.20 to 100 in 0.22.\", FutureWarning)\n"
     ]
    },
    {
     "name": "stdout",
     "output_type": "stream",
     "text": [
      "[CV]  rfcl__max_depth=100, rfcl__max_features=20000, rfcl__min_samples_leaf=10, rfcl__min_samples_split=500, score=0.821454463638409, total= 2.2min\n",
      "[CV] rfcl__max_depth=100, rfcl__max_features=20000, rfcl__min_samples_leaf=10, rfcl__min_samples_split=500 \n"
     ]
    },
    {
     "name": "stderr",
     "output_type": "stream",
     "text": [
      "/Users/nivzz/anaconda3/lib/python3.7/site-packages/sklearn/ensemble/forest.py:246: FutureWarning: The default value of n_estimators will change from 10 in version 0.20 to 100 in 0.22.\n",
      "  \"10 in version 0.20 to 100 in 0.22.\", FutureWarning)\n"
     ]
    },
    {
     "name": "stdout",
     "output_type": "stream",
     "text": [
      "[CV]  rfcl__max_depth=100, rfcl__max_features=20000, rfcl__min_samples_leaf=10, rfcl__min_samples_split=500, score=0.8202705067626691, total= 2.1min\n",
      "[CV] rfcl__max_depth=100, rfcl__max_features=20000, rfcl__min_samples_leaf=10, rfcl__min_samples_split=1000 \n"
     ]
    },
    {
     "name": "stderr",
     "output_type": "stream",
     "text": [
      "/Users/nivzz/anaconda3/lib/python3.7/site-packages/sklearn/ensemble/forest.py:246: FutureWarning: The default value of n_estimators will change from 10 in version 0.20 to 100 in 0.22.\n",
      "  \"10 in version 0.20 to 100 in 0.22.\", FutureWarning)\n"
     ]
    },
    {
     "name": "stdout",
     "output_type": "stream",
     "text": [
      "[CV]  rfcl__max_depth=100, rfcl__max_features=20000, rfcl__min_samples_leaf=10, rfcl__min_samples_split=1000, score=0.819254518637034, total= 1.9min\n",
      "[CV] rfcl__max_depth=100, rfcl__max_features=20000, rfcl__min_samples_leaf=10, rfcl__min_samples_split=1000 \n"
     ]
    },
    {
     "name": "stderr",
     "output_type": "stream",
     "text": [
      "/Users/nivzz/anaconda3/lib/python3.7/site-packages/sklearn/ensemble/forest.py:246: FutureWarning: The default value of n_estimators will change from 10 in version 0.20 to 100 in 0.22.\n",
      "  \"10 in version 0.20 to 100 in 0.22.\", FutureWarning)\n"
     ]
    },
    {
     "name": "stdout",
     "output_type": "stream",
     "text": [
      "[CV]  rfcl__max_depth=100, rfcl__max_features=20000, rfcl__min_samples_leaf=10, rfcl__min_samples_split=1000, score=0.8194454861371534, total= 1.9min\n",
      "[CV] rfcl__max_depth=100, rfcl__max_features=20000, rfcl__min_samples_leaf=50, rfcl__min_samples_split=100 \n"
     ]
    },
    {
     "name": "stderr",
     "output_type": "stream",
     "text": [
      "/Users/nivzz/anaconda3/lib/python3.7/site-packages/sklearn/ensemble/forest.py:246: FutureWarning: The default value of n_estimators will change from 10 in version 0.20 to 100 in 0.22.\n",
      "  \"10 in version 0.20 to 100 in 0.22.\", FutureWarning)\n"
     ]
    },
    {
     "name": "stdout",
     "output_type": "stream",
     "text": [
      "[CV]  rfcl__max_depth=100, rfcl__max_features=20000, rfcl__min_samples_leaf=50, rfcl__min_samples_split=100, score=0.8186795330116747, total= 1.4min\n",
      "[CV] rfcl__max_depth=100, rfcl__max_features=20000, rfcl__min_samples_leaf=50, rfcl__min_samples_split=100 \n"
     ]
    },
    {
     "name": "stderr",
     "output_type": "stream",
     "text": [
      "/Users/nivzz/anaconda3/lib/python3.7/site-packages/sklearn/ensemble/forest.py:246: FutureWarning: The default value of n_estimators will change from 10 in version 0.20 to 100 in 0.22.\n",
      "  \"10 in version 0.20 to 100 in 0.22.\", FutureWarning)\n"
     ]
    },
    {
     "name": "stdout",
     "output_type": "stream",
     "text": [
      "[CV]  rfcl__max_depth=100, rfcl__max_features=20000, rfcl__min_samples_leaf=50, rfcl__min_samples_split=100, score=0.8165704142603565, total= 1.3min\n",
      "[CV] rfcl__max_depth=100, rfcl__max_features=20000, rfcl__min_samples_leaf=50, rfcl__min_samples_split=200 \n"
     ]
    },
    {
     "name": "stderr",
     "output_type": "stream",
     "text": [
      "/Users/nivzz/anaconda3/lib/python3.7/site-packages/sklearn/ensemble/forest.py:246: FutureWarning: The default value of n_estimators will change from 10 in version 0.20 to 100 in 0.22.\n",
      "  \"10 in version 0.20 to 100 in 0.22.\", FutureWarning)\n"
     ]
    },
    {
     "name": "stdout",
     "output_type": "stream",
     "text": [
      "[CV]  rfcl__max_depth=100, rfcl__max_features=20000, rfcl__min_samples_leaf=50, rfcl__min_samples_split=200, score=0.8181545461363466, total= 1.3min\n",
      "[CV] rfcl__max_depth=100, rfcl__max_features=20000, rfcl__min_samples_leaf=50, rfcl__min_samples_split=200 \n"
     ]
    },
    {
     "name": "stderr",
     "output_type": "stream",
     "text": [
      "/Users/nivzz/anaconda3/lib/python3.7/site-packages/sklearn/ensemble/forest.py:246: FutureWarning: The default value of n_estimators will change from 10 in version 0.20 to 100 in 0.22.\n",
      "  \"10 in version 0.20 to 100 in 0.22.\", FutureWarning)\n"
     ]
    },
    {
     "name": "stdout",
     "output_type": "stream",
     "text": [
      "[CV]  rfcl__max_depth=100, rfcl__max_features=20000, rfcl__min_samples_leaf=50, rfcl__min_samples_split=200, score=0.8173704342608565, total= 1.1min\n",
      "[CV] rfcl__max_depth=100, rfcl__max_features=20000, rfcl__min_samples_leaf=50, rfcl__min_samples_split=300 \n"
     ]
    },
    {
     "name": "stderr",
     "output_type": "stream",
     "text": [
      "/Users/nivzz/anaconda3/lib/python3.7/site-packages/sklearn/ensemble/forest.py:246: FutureWarning: The default value of n_estimators will change from 10 in version 0.20 to 100 in 0.22.\n",
      "  \"10 in version 0.20 to 100 in 0.22.\", FutureWarning)\n"
     ]
    },
    {
     "name": "stdout",
     "output_type": "stream",
     "text": [
      "[CV]  rfcl__max_depth=100, rfcl__max_features=20000, rfcl__min_samples_leaf=50, rfcl__min_samples_split=300, score=0.8169545761355966, total= 1.0min\n",
      "[CV] rfcl__max_depth=100, rfcl__max_features=20000, rfcl__min_samples_leaf=50, rfcl__min_samples_split=300 \n"
     ]
    },
    {
     "name": "stderr",
     "output_type": "stream",
     "text": [
      "/Users/nivzz/anaconda3/lib/python3.7/site-packages/sklearn/ensemble/forest.py:246: FutureWarning: The default value of n_estimators will change from 10 in version 0.20 to 100 in 0.22.\n",
      "  \"10 in version 0.20 to 100 in 0.22.\", FutureWarning)\n"
     ]
    },
    {
     "name": "stdout",
     "output_type": "stream",
     "text": [
      "[CV]  rfcl__max_depth=100, rfcl__max_features=20000, rfcl__min_samples_leaf=50, rfcl__min_samples_split=300, score=0.8166954173854346, total= 1.1min\n",
      "[CV] rfcl__max_depth=100, rfcl__max_features=20000, rfcl__min_samples_leaf=50, rfcl__min_samples_split=500 \n"
     ]
    },
    {
     "name": "stderr",
     "output_type": "stream",
     "text": [
      "/Users/nivzz/anaconda3/lib/python3.7/site-packages/sklearn/ensemble/forest.py:246: FutureWarning: The default value of n_estimators will change from 10 in version 0.20 to 100 in 0.22.\n",
      "  \"10 in version 0.20 to 100 in 0.22.\", FutureWarning)\n"
     ]
    },
    {
     "name": "stdout",
     "output_type": "stream",
     "text": [
      "[CV]  rfcl__max_depth=100, rfcl__max_features=20000, rfcl__min_samples_leaf=50, rfcl__min_samples_split=500, score=0.815129621759456, total=  58.5s\n",
      "[CV] rfcl__max_depth=100, rfcl__max_features=20000, rfcl__min_samples_leaf=50, rfcl__min_samples_split=500 \n"
     ]
    },
    {
     "name": "stderr",
     "output_type": "stream",
     "text": [
      "/Users/nivzz/anaconda3/lib/python3.7/site-packages/sklearn/ensemble/forest.py:246: FutureWarning: The default value of n_estimators will change from 10 in version 0.20 to 100 in 0.22.\n",
      "  \"10 in version 0.20 to 100 in 0.22.\", FutureWarning)\n"
     ]
    },
    {
     "name": "stdout",
     "output_type": "stream",
     "text": [
      "[CV]  rfcl__max_depth=100, rfcl__max_features=20000, rfcl__min_samples_leaf=50, rfcl__min_samples_split=500, score=0.8161954048851221, total=  57.8s\n",
      "[CV] rfcl__max_depth=100, rfcl__max_features=20000, rfcl__min_samples_leaf=50, rfcl__min_samples_split=1000 \n"
     ]
    },
    {
     "name": "stderr",
     "output_type": "stream",
     "text": [
      "/Users/nivzz/anaconda3/lib/python3.7/site-packages/sklearn/ensemble/forest.py:246: FutureWarning: The default value of n_estimators will change from 10 in version 0.20 to 100 in 0.22.\n",
      "  \"10 in version 0.20 to 100 in 0.22.\", FutureWarning)\n"
     ]
    },
    {
     "name": "stdout",
     "output_type": "stream",
     "text": [
      "[CV]  rfcl__max_depth=100, rfcl__max_features=20000, rfcl__min_samples_leaf=50, rfcl__min_samples_split=1000, score=0.8167795805104873, total=  51.9s\n",
      "[CV] rfcl__max_depth=100, rfcl__max_features=20000, rfcl__min_samples_leaf=50, rfcl__min_samples_split=1000 \n"
     ]
    },
    {
     "name": "stderr",
     "output_type": "stream",
     "text": [
      "/Users/nivzz/anaconda3/lib/python3.7/site-packages/sklearn/ensemble/forest.py:246: FutureWarning: The default value of n_estimators will change from 10 in version 0.20 to 100 in 0.22.\n",
      "  \"10 in version 0.20 to 100 in 0.22.\", FutureWarning)\n"
     ]
    },
    {
     "name": "stdout",
     "output_type": "stream",
     "text": [
      "[CV]  rfcl__max_depth=100, rfcl__max_features=20000, rfcl__min_samples_leaf=50, rfcl__min_samples_split=1000, score=0.8140203505087628, total=  51.1s\n",
      "[CV] rfcl__max_depth=200, rfcl__max_features=auto, rfcl__min_samples_leaf=10, rfcl__min_samples_split=100 \n"
     ]
    },
    {
     "name": "stderr",
     "output_type": "stream",
     "text": [
      "/Users/nivzz/anaconda3/lib/python3.7/site-packages/sklearn/ensemble/forest.py:246: FutureWarning: The default value of n_estimators will change from 10 in version 0.20 to 100 in 0.22.\n",
      "  \"10 in version 0.20 to 100 in 0.22.\", FutureWarning)\n"
     ]
    },
    {
     "name": "stdout",
     "output_type": "stream",
     "text": [
      "[CV]  rfcl__max_depth=200, rfcl__max_features=auto, rfcl__min_samples_leaf=10, rfcl__min_samples_split=100, score=0.8069798255043624, total=  17.8s\n",
      "[CV] rfcl__max_depth=200, rfcl__max_features=auto, rfcl__min_samples_leaf=10, rfcl__min_samples_split=100 \n"
     ]
    },
    {
     "name": "stderr",
     "output_type": "stream",
     "text": [
      "/Users/nivzz/anaconda3/lib/python3.7/site-packages/sklearn/ensemble/forest.py:246: FutureWarning: The default value of n_estimators will change from 10 in version 0.20 to 100 in 0.22.\n",
      "  \"10 in version 0.20 to 100 in 0.22.\", FutureWarning)\n"
     ]
    },
    {
     "name": "stdout",
     "output_type": "stream",
     "text": [
      "[CV]  rfcl__max_depth=200, rfcl__max_features=auto, rfcl__min_samples_leaf=10, rfcl__min_samples_split=100, score=0.8070701767544188, total=  17.0s\n",
      "[CV] rfcl__max_depth=200, rfcl__max_features=auto, rfcl__min_samples_leaf=10, rfcl__min_samples_split=200 \n"
     ]
    },
    {
     "name": "stderr",
     "output_type": "stream",
     "text": [
      "/Users/nivzz/anaconda3/lib/python3.7/site-packages/sklearn/ensemble/forest.py:246: FutureWarning: The default value of n_estimators will change from 10 in version 0.20 to 100 in 0.22.\n",
      "  \"10 in version 0.20 to 100 in 0.22.\", FutureWarning)\n"
     ]
    },
    {
     "name": "stdout",
     "output_type": "stream",
     "text": [
      "[CV]  rfcl__max_depth=200, rfcl__max_features=auto, rfcl__min_samples_leaf=10, rfcl__min_samples_split=200, score=0.807004824879378, total=  17.4s\n",
      "[CV] rfcl__max_depth=200, rfcl__max_features=auto, rfcl__min_samples_leaf=10, rfcl__min_samples_split=200 \n"
     ]
    },
    {
     "name": "stderr",
     "output_type": "stream",
     "text": [
      "/Users/nivzz/anaconda3/lib/python3.7/site-packages/sklearn/ensemble/forest.py:246: FutureWarning: The default value of n_estimators will change from 10 in version 0.20 to 100 in 0.22.\n",
      "  \"10 in version 0.20 to 100 in 0.22.\", FutureWarning)\n"
     ]
    },
    {
     "name": "stdout",
     "output_type": "stream",
     "text": [
      "[CV]  rfcl__max_depth=200, rfcl__max_features=auto, rfcl__min_samples_leaf=10, rfcl__min_samples_split=200, score=0.806995174879372, total=  18.1s\n",
      "[CV] rfcl__max_depth=200, rfcl__max_features=auto, rfcl__min_samples_leaf=10, rfcl__min_samples_split=300 \n"
     ]
    },
    {
     "name": "stderr",
     "output_type": "stream",
     "text": [
      "/Users/nivzz/anaconda3/lib/python3.7/site-packages/sklearn/ensemble/forest.py:246: FutureWarning: The default value of n_estimators will change from 10 in version 0.20 to 100 in 0.22.\n",
      "  \"10 in version 0.20 to 100 in 0.22.\", FutureWarning)\n"
     ]
    },
    {
     "name": "stdout",
     "output_type": "stream",
     "text": [
      "[CV]  rfcl__max_depth=200, rfcl__max_features=auto, rfcl__min_samples_leaf=10, rfcl__min_samples_split=300, score=0.8070798230044249, total=  17.2s\n",
      "[CV] rfcl__max_depth=200, rfcl__max_features=auto, rfcl__min_samples_leaf=10, rfcl__min_samples_split=300 \n"
     ]
    },
    {
     "name": "stderr",
     "output_type": "stream",
     "text": [
      "/Users/nivzz/anaconda3/lib/python3.7/site-packages/sklearn/ensemble/forest.py:246: FutureWarning: The default value of n_estimators will change from 10 in version 0.20 to 100 in 0.22.\n",
      "  \"10 in version 0.20 to 100 in 0.22.\", FutureWarning)\n"
     ]
    },
    {
     "name": "stdout",
     "output_type": "stream",
     "text": [
      "[CV]  rfcl__max_depth=200, rfcl__max_features=auto, rfcl__min_samples_leaf=10, rfcl__min_samples_split=300, score=0.8069451736293407, total=  17.6s\n",
      "[CV] rfcl__max_depth=200, rfcl__max_features=auto, rfcl__min_samples_leaf=10, rfcl__min_samples_split=500 \n"
     ]
    },
    {
     "name": "stderr",
     "output_type": "stream",
     "text": [
      "/Users/nivzz/anaconda3/lib/python3.7/site-packages/sklearn/ensemble/forest.py:246: FutureWarning: The default value of n_estimators will change from 10 in version 0.20 to 100 in 0.22.\n",
      "  \"10 in version 0.20 to 100 in 0.22.\", FutureWarning)\n"
     ]
    },
    {
     "name": "stdout",
     "output_type": "stream",
     "text": [
      "[CV]  rfcl__max_depth=200, rfcl__max_features=auto, rfcl__min_samples_leaf=10, rfcl__min_samples_split=500, score=0.8069298267543311, total=  16.8s\n",
      "[CV] rfcl__max_depth=200, rfcl__max_features=auto, rfcl__min_samples_leaf=10, rfcl__min_samples_split=500 \n"
     ]
    },
    {
     "name": "stderr",
     "output_type": "stream",
     "text": [
      "/Users/nivzz/anaconda3/lib/python3.7/site-packages/sklearn/ensemble/forest.py:246: FutureWarning: The default value of n_estimators will change from 10 in version 0.20 to 100 in 0.22.\n",
      "  \"10 in version 0.20 to 100 in 0.22.\", FutureWarning)\n"
     ]
    },
    {
     "name": "stdout",
     "output_type": "stream",
     "text": [
      "[CV]  rfcl__max_depth=200, rfcl__max_features=auto, rfcl__min_samples_leaf=10, rfcl__min_samples_split=500, score=0.8075451886297157, total=  16.9s\n",
      "[CV] rfcl__max_depth=200, rfcl__max_features=auto, rfcl__min_samples_leaf=10, rfcl__min_samples_split=1000 \n"
     ]
    },
    {
     "name": "stderr",
     "output_type": "stream",
     "text": [
      "/Users/nivzz/anaconda3/lib/python3.7/site-packages/sklearn/ensemble/forest.py:246: FutureWarning: The default value of n_estimators will change from 10 in version 0.20 to 100 in 0.22.\n",
      "  \"10 in version 0.20 to 100 in 0.22.\", FutureWarning)\n"
     ]
    },
    {
     "name": "stdout",
     "output_type": "stream",
     "text": [
      "[CV]  rfcl__max_depth=200, rfcl__max_features=auto, rfcl__min_samples_leaf=10, rfcl__min_samples_split=1000, score=0.8069798255043624, total=  17.7s\n",
      "[CV] rfcl__max_depth=200, rfcl__max_features=auto, rfcl__min_samples_leaf=10, rfcl__min_samples_split=1000 \n"
     ]
    },
    {
     "name": "stderr",
     "output_type": "stream",
     "text": [
      "/Users/nivzz/anaconda3/lib/python3.7/site-packages/sklearn/ensemble/forest.py:246: FutureWarning: The default value of n_estimators will change from 10 in version 0.20 to 100 in 0.22.\n",
      "  \"10 in version 0.20 to 100 in 0.22.\", FutureWarning)\n"
     ]
    },
    {
     "name": "stdout",
     "output_type": "stream",
     "text": [
      "[CV]  rfcl__max_depth=200, rfcl__max_features=auto, rfcl__min_samples_leaf=10, rfcl__min_samples_split=1000, score=0.8069201730043251, total=  17.6s\n",
      "[CV] rfcl__max_depth=200, rfcl__max_features=auto, rfcl__min_samples_leaf=50, rfcl__min_samples_split=100 \n"
     ]
    },
    {
     "name": "stderr",
     "output_type": "stream",
     "text": [
      "/Users/nivzz/anaconda3/lib/python3.7/site-packages/sklearn/ensemble/forest.py:246: FutureWarning: The default value of n_estimators will change from 10 in version 0.20 to 100 in 0.22.\n",
      "  \"10 in version 0.20 to 100 in 0.22.\", FutureWarning)\n"
     ]
    },
    {
     "name": "stdout",
     "output_type": "stream",
     "text": [
      "[CV]  rfcl__max_depth=200, rfcl__max_features=auto, rfcl__min_samples_leaf=50, rfcl__min_samples_split=100, score=0.8069048273793156, total=  16.7s\n",
      "[CV] rfcl__max_depth=200, rfcl__max_features=auto, rfcl__min_samples_leaf=50, rfcl__min_samples_split=100 \n"
     ]
    },
    {
     "name": "stderr",
     "output_type": "stream",
     "text": [
      "/Users/nivzz/anaconda3/lib/python3.7/site-packages/sklearn/ensemble/forest.py:246: FutureWarning: The default value of n_estimators will change from 10 in version 0.20 to 100 in 0.22.\n",
      "  \"10 in version 0.20 to 100 in 0.22.\", FutureWarning)\n"
     ]
    },
    {
     "name": "stdout",
     "output_type": "stream",
     "text": [
      "[CV]  rfcl__max_depth=200, rfcl__max_features=auto, rfcl__min_samples_leaf=50, rfcl__min_samples_split=100, score=0.8069201730043251, total=  16.7s\n",
      "[CV] rfcl__max_depth=200, rfcl__max_features=auto, rfcl__min_samples_leaf=50, rfcl__min_samples_split=200 \n"
     ]
    },
    {
     "name": "stderr",
     "output_type": "stream",
     "text": [
      "/Users/nivzz/anaconda3/lib/python3.7/site-packages/sklearn/ensemble/forest.py:246: FutureWarning: The default value of n_estimators will change from 10 in version 0.20 to 100 in 0.22.\n",
      "  \"10 in version 0.20 to 100 in 0.22.\", FutureWarning)\n"
     ]
    },
    {
     "name": "stdout",
     "output_type": "stream",
     "text": [
      "[CV]  rfcl__max_depth=200, rfcl__max_features=auto, rfcl__min_samples_leaf=50, rfcl__min_samples_split=200, score=0.8069048273793156, total=  16.4s\n",
      "[CV] rfcl__max_depth=200, rfcl__max_features=auto, rfcl__min_samples_leaf=50, rfcl__min_samples_split=200 \n"
     ]
    },
    {
     "name": "stderr",
     "output_type": "stream",
     "text": [
      "/Users/nivzz/anaconda3/lib/python3.7/site-packages/sklearn/ensemble/forest.py:246: FutureWarning: The default value of n_estimators will change from 10 in version 0.20 to 100 in 0.22.\n",
      "  \"10 in version 0.20 to 100 in 0.22.\", FutureWarning)\n"
     ]
    },
    {
     "name": "stdout",
     "output_type": "stream",
     "text": [
      "[CV]  rfcl__max_depth=200, rfcl__max_features=auto, rfcl__min_samples_leaf=50, rfcl__min_samples_split=200, score=0.8069201730043251, total=  16.0s\n",
      "[CV] rfcl__max_depth=200, rfcl__max_features=auto, rfcl__min_samples_leaf=50, rfcl__min_samples_split=300 \n"
     ]
    },
    {
     "name": "stderr",
     "output_type": "stream",
     "text": [
      "/Users/nivzz/anaconda3/lib/python3.7/site-packages/sklearn/ensemble/forest.py:246: FutureWarning: The default value of n_estimators will change from 10 in version 0.20 to 100 in 0.22.\n",
      "  \"10 in version 0.20 to 100 in 0.22.\", FutureWarning)\n"
     ]
    },
    {
     "name": "stdout",
     "output_type": "stream",
     "text": [
      "[CV]  rfcl__max_depth=200, rfcl__max_features=auto, rfcl__min_samples_leaf=50, rfcl__min_samples_split=300, score=0.8069048273793156, total=  15.7s\n",
      "[CV] rfcl__max_depth=200, rfcl__max_features=auto, rfcl__min_samples_leaf=50, rfcl__min_samples_split=300 \n"
     ]
    },
    {
     "name": "stderr",
     "output_type": "stream",
     "text": [
      "/Users/nivzz/anaconda3/lib/python3.7/site-packages/sklearn/ensemble/forest.py:246: FutureWarning: The default value of n_estimators will change from 10 in version 0.20 to 100 in 0.22.\n",
      "  \"10 in version 0.20 to 100 in 0.22.\", FutureWarning)\n"
     ]
    },
    {
     "name": "stdout",
     "output_type": "stream",
     "text": [
      "[CV]  rfcl__max_depth=200, rfcl__max_features=auto, rfcl__min_samples_leaf=50, rfcl__min_samples_split=300, score=0.8069201730043251, total=  15.8s\n",
      "[CV] rfcl__max_depth=200, rfcl__max_features=auto, rfcl__min_samples_leaf=50, rfcl__min_samples_split=500 \n"
     ]
    },
    {
     "name": "stderr",
     "output_type": "stream",
     "text": [
      "/Users/nivzz/anaconda3/lib/python3.7/site-packages/sklearn/ensemble/forest.py:246: FutureWarning: The default value of n_estimators will change from 10 in version 0.20 to 100 in 0.22.\n",
      "  \"10 in version 0.20 to 100 in 0.22.\", FutureWarning)\n"
     ]
    },
    {
     "name": "stdout",
     "output_type": "stream",
     "text": [
      "[CV]  rfcl__max_depth=200, rfcl__max_features=auto, rfcl__min_samples_leaf=50, rfcl__min_samples_split=500, score=0.8069048273793156, total=  16.6s\n",
      "[CV] rfcl__max_depth=200, rfcl__max_features=auto, rfcl__min_samples_leaf=50, rfcl__min_samples_split=500 \n"
     ]
    },
    {
     "name": "stderr",
     "output_type": "stream",
     "text": [
      "/Users/nivzz/anaconda3/lib/python3.7/site-packages/sklearn/ensemble/forest.py:246: FutureWarning: The default value of n_estimators will change from 10 in version 0.20 to 100 in 0.22.\n",
      "  \"10 in version 0.20 to 100 in 0.22.\", FutureWarning)\n"
     ]
    },
    {
     "name": "stdout",
     "output_type": "stream",
     "text": [
      "[CV]  rfcl__max_depth=200, rfcl__max_features=auto, rfcl__min_samples_leaf=50, rfcl__min_samples_split=500, score=0.8069201730043251, total=  16.3s\n",
      "[CV] rfcl__max_depth=200, rfcl__max_features=auto, rfcl__min_samples_leaf=50, rfcl__min_samples_split=1000 \n"
     ]
    },
    {
     "name": "stderr",
     "output_type": "stream",
     "text": [
      "/Users/nivzz/anaconda3/lib/python3.7/site-packages/sklearn/ensemble/forest.py:246: FutureWarning: The default value of n_estimators will change from 10 in version 0.20 to 100 in 0.22.\n",
      "  \"10 in version 0.20 to 100 in 0.22.\", FutureWarning)\n"
     ]
    },
    {
     "name": "stdout",
     "output_type": "stream",
     "text": [
      "[CV]  rfcl__max_depth=200, rfcl__max_features=auto, rfcl__min_samples_leaf=50, rfcl__min_samples_split=1000, score=0.8069048273793156, total=  15.9s\n",
      "[CV] rfcl__max_depth=200, rfcl__max_features=auto, rfcl__min_samples_leaf=50, rfcl__min_samples_split=1000 \n"
     ]
    },
    {
     "name": "stderr",
     "output_type": "stream",
     "text": [
      "/Users/nivzz/anaconda3/lib/python3.7/site-packages/sklearn/ensemble/forest.py:246: FutureWarning: The default value of n_estimators will change from 10 in version 0.20 to 100 in 0.22.\n",
      "  \"10 in version 0.20 to 100 in 0.22.\", FutureWarning)\n"
     ]
    },
    {
     "name": "stdout",
     "output_type": "stream",
     "text": [
      "[CV]  rfcl__max_depth=200, rfcl__max_features=auto, rfcl__min_samples_leaf=50, rfcl__min_samples_split=1000, score=0.8069201730043251, total=  15.9s\n",
      "[CV] rfcl__max_depth=200, rfcl__max_features=20000, rfcl__min_samples_leaf=10, rfcl__min_samples_split=100 \n"
     ]
    },
    {
     "name": "stderr",
     "output_type": "stream",
     "text": [
      "/Users/nivzz/anaconda3/lib/python3.7/site-packages/sklearn/ensemble/forest.py:246: FutureWarning: The default value of n_estimators will change from 10 in version 0.20 to 100 in 0.22.\n",
      "  \"10 in version 0.20 to 100 in 0.22.\", FutureWarning)\n"
     ]
    },
    {
     "name": "stdout",
     "output_type": "stream",
     "text": [
      "[CV]  rfcl__max_depth=200, rfcl__max_features=20000, rfcl__min_samples_leaf=10, rfcl__min_samples_split=100, score=0.8244293892652683, total= 2.7min\n",
      "[CV] rfcl__max_depth=200, rfcl__max_features=20000, rfcl__min_samples_leaf=10, rfcl__min_samples_split=100 \n"
     ]
    },
    {
     "name": "stderr",
     "output_type": "stream",
     "text": [
      "/Users/nivzz/anaconda3/lib/python3.7/site-packages/sklearn/ensemble/forest.py:246: FutureWarning: The default value of n_estimators will change from 10 in version 0.20 to 100 in 0.22.\n",
      "  \"10 in version 0.20 to 100 in 0.22.\", FutureWarning)\n"
     ]
    },
    {
     "name": "stdout",
     "output_type": "stream",
     "text": [
      "[CV]  rfcl__max_depth=200, rfcl__max_features=20000, rfcl__min_samples_leaf=10, rfcl__min_samples_split=100, score=0.8233705842646066, total= 2.6min\n",
      "[CV] rfcl__max_depth=200, rfcl__max_features=20000, rfcl__min_samples_leaf=10, rfcl__min_samples_split=200 \n"
     ]
    },
    {
     "name": "stderr",
     "output_type": "stream",
     "text": [
      "/Users/nivzz/anaconda3/lib/python3.7/site-packages/sklearn/ensemble/forest.py:246: FutureWarning: The default value of n_estimators will change from 10 in version 0.20 to 100 in 0.22.\n",
      "  \"10 in version 0.20 to 100 in 0.22.\", FutureWarning)\n"
     ]
    },
    {
     "name": "stdout",
     "output_type": "stream",
     "text": [
      "[CV]  rfcl__max_depth=200, rfcl__max_features=20000, rfcl__min_samples_leaf=10, rfcl__min_samples_split=200, score=0.8220044498887528, total= 2.5min\n",
      "[CV] rfcl__max_depth=200, rfcl__max_features=20000, rfcl__min_samples_leaf=10, rfcl__min_samples_split=200 \n"
     ]
    },
    {
     "name": "stderr",
     "output_type": "stream",
     "text": [
      "/Users/nivzz/anaconda3/lib/python3.7/site-packages/sklearn/ensemble/forest.py:246: FutureWarning: The default value of n_estimators will change from 10 in version 0.20 to 100 in 0.22.\n",
      "  \"10 in version 0.20 to 100 in 0.22.\", FutureWarning)\n"
     ]
    },
    {
     "name": "stdout",
     "output_type": "stream",
     "text": [
      "[CV]  rfcl__max_depth=200, rfcl__max_features=20000, rfcl__min_samples_leaf=10, rfcl__min_samples_split=200, score=0.8218205455136378, total= 2.4min\n",
      "[CV] rfcl__max_depth=200, rfcl__max_features=20000, rfcl__min_samples_leaf=10, rfcl__min_samples_split=300 \n"
     ]
    },
    {
     "name": "stderr",
     "output_type": "stream",
     "text": [
      "/Users/nivzz/anaconda3/lib/python3.7/site-packages/sklearn/ensemble/forest.py:246: FutureWarning: The default value of n_estimators will change from 10 in version 0.20 to 100 in 0.22.\n",
      "  \"10 in version 0.20 to 100 in 0.22.\", FutureWarning)\n"
     ]
    },
    {
     "name": "stdout",
     "output_type": "stream",
     "text": [
      "[CV]  rfcl__max_depth=200, rfcl__max_features=20000, rfcl__min_samples_leaf=10, rfcl__min_samples_split=300, score=0.822329441763956, total= 2.4min\n",
      "[CV] rfcl__max_depth=200, rfcl__max_features=20000, rfcl__min_samples_leaf=10, rfcl__min_samples_split=300 \n"
     ]
    },
    {
     "name": "stderr",
     "output_type": "stream",
     "text": [
      "/Users/nivzz/anaconda3/lib/python3.7/site-packages/sklearn/ensemble/forest.py:246: FutureWarning: The default value of n_estimators will change from 10 in version 0.20 to 100 in 0.22.\n",
      "  \"10 in version 0.20 to 100 in 0.22.\", FutureWarning)\n"
     ]
    },
    {
     "name": "stdout",
     "output_type": "stream",
     "text": [
      "[CV]  rfcl__max_depth=200, rfcl__max_features=20000, rfcl__min_samples_leaf=10, rfcl__min_samples_split=300, score=0.8213705342633566, total= 2.4min\n",
      "[CV] rfcl__max_depth=200, rfcl__max_features=20000, rfcl__min_samples_leaf=10, rfcl__min_samples_split=500 \n"
     ]
    },
    {
     "name": "stderr",
     "output_type": "stream",
     "text": [
      "/Users/nivzz/anaconda3/lib/python3.7/site-packages/sklearn/ensemble/forest.py:246: FutureWarning: The default value of n_estimators will change from 10 in version 0.20 to 100 in 0.22.\n",
      "  \"10 in version 0.20 to 100 in 0.22.\", FutureWarning)\n"
     ]
    },
    {
     "name": "stdout",
     "output_type": "stream",
     "text": [
      "[CV]  rfcl__max_depth=200, rfcl__max_features=20000, rfcl__min_samples_leaf=10, rfcl__min_samples_split=500, score=0.8211294717632059, total= 2.2min\n",
      "[CV] rfcl__max_depth=200, rfcl__max_features=20000, rfcl__min_samples_leaf=10, rfcl__min_samples_split=500 \n"
     ]
    },
    {
     "name": "stderr",
     "output_type": "stream",
     "text": [
      "/Users/nivzz/anaconda3/lib/python3.7/site-packages/sklearn/ensemble/forest.py:246: FutureWarning: The default value of n_estimators will change from 10 in version 0.20 to 100 in 0.22.\n",
      "  \"10 in version 0.20 to 100 in 0.22.\", FutureWarning)\n"
     ]
    },
    {
     "name": "stdout",
     "output_type": "stream",
     "text": [
      "[CV]  rfcl__max_depth=200, rfcl__max_features=20000, rfcl__min_samples_leaf=10, rfcl__min_samples_split=500, score=0.8203955098877472, total= 2.2min\n",
      "[CV] rfcl__max_depth=200, rfcl__max_features=20000, rfcl__min_samples_leaf=10, rfcl__min_samples_split=1000 \n"
     ]
    },
    {
     "name": "stderr",
     "output_type": "stream",
     "text": [
      "/Users/nivzz/anaconda3/lib/python3.7/site-packages/sklearn/ensemble/forest.py:246: FutureWarning: The default value of n_estimators will change from 10 in version 0.20 to 100 in 0.22.\n",
      "  \"10 in version 0.20 to 100 in 0.22.\", FutureWarning)\n"
     ]
    },
    {
     "name": "stdout",
     "output_type": "stream",
     "text": [
      "[CV]  rfcl__max_depth=200, rfcl__max_features=20000, rfcl__min_samples_leaf=10, rfcl__min_samples_split=1000, score=0.819454513637159, total= 1.9min\n",
      "[CV] rfcl__max_depth=200, rfcl__max_features=20000, rfcl__min_samples_leaf=10, rfcl__min_samples_split=1000 \n"
     ]
    },
    {
     "name": "stderr",
     "output_type": "stream",
     "text": [
      "/Users/nivzz/anaconda3/lib/python3.7/site-packages/sklearn/ensemble/forest.py:246: FutureWarning: The default value of n_estimators will change from 10 in version 0.20 to 100 in 0.22.\n",
      "  \"10 in version 0.20 to 100 in 0.22.\", FutureWarning)\n"
     ]
    },
    {
     "name": "stdout",
     "output_type": "stream",
     "text": [
      "[CV]  rfcl__max_depth=200, rfcl__max_features=20000, rfcl__min_samples_leaf=10, rfcl__min_samples_split=1000, score=0.8188454711367784, total= 1.8min\n",
      "[CV] rfcl__max_depth=200, rfcl__max_features=20000, rfcl__min_samples_leaf=50, rfcl__min_samples_split=100 \n"
     ]
    },
    {
     "name": "stderr",
     "output_type": "stream",
     "text": [
      "/Users/nivzz/anaconda3/lib/python3.7/site-packages/sklearn/ensemble/forest.py:246: FutureWarning: The default value of n_estimators will change from 10 in version 0.20 to 100 in 0.22.\n",
      "  \"10 in version 0.20 to 100 in 0.22.\", FutureWarning)\n"
     ]
    },
    {
     "name": "stdout",
     "output_type": "stream",
     "text": [
      "[CV]  rfcl__max_depth=200, rfcl__max_features=20000, rfcl__min_samples_leaf=50, rfcl__min_samples_split=100, score=0.8187795305117372, total= 1.4min\n",
      "[CV] rfcl__max_depth=200, rfcl__max_features=20000, rfcl__min_samples_leaf=50, rfcl__min_samples_split=100 \n"
     ]
    },
    {
     "name": "stderr",
     "output_type": "stream",
     "text": [
      "/Users/nivzz/anaconda3/lib/python3.7/site-packages/sklearn/ensemble/forest.py:246: FutureWarning: The default value of n_estimators will change from 10 in version 0.20 to 100 in 0.22.\n",
      "  \"10 in version 0.20 to 100 in 0.22.\", FutureWarning)\n"
     ]
    },
    {
     "name": "stdout",
     "output_type": "stream",
     "text": [
      "[CV]  rfcl__max_depth=200, rfcl__max_features=20000, rfcl__min_samples_leaf=50, rfcl__min_samples_split=100, score=0.8174954373859347, total= 1.3min\n",
      "[CV] rfcl__max_depth=200, rfcl__max_features=20000, rfcl__min_samples_leaf=50, rfcl__min_samples_split=200 \n"
     ]
    },
    {
     "name": "stderr",
     "output_type": "stream",
     "text": [
      "/Users/nivzz/anaconda3/lib/python3.7/site-packages/sklearn/ensemble/forest.py:246: FutureWarning: The default value of n_estimators will change from 10 in version 0.20 to 100 in 0.22.\n",
      "  \"10 in version 0.20 to 100 in 0.22.\", FutureWarning)\n"
     ]
    },
    {
     "name": "stdout",
     "output_type": "stream",
     "text": [
      "[CV]  rfcl__max_depth=200, rfcl__max_features=20000, rfcl__min_samples_leaf=50, rfcl__min_samples_split=200, score=0.8182295442613935, total= 1.2min\n",
      "[CV] rfcl__max_depth=200, rfcl__max_features=20000, rfcl__min_samples_leaf=50, rfcl__min_samples_split=200 \n"
     ]
    },
    {
     "name": "stderr",
     "output_type": "stream",
     "text": [
      "/Users/nivzz/anaconda3/lib/python3.7/site-packages/sklearn/ensemble/forest.py:246: FutureWarning: The default value of n_estimators will change from 10 in version 0.20 to 100 in 0.22.\n",
      "  \"10 in version 0.20 to 100 in 0.22.\", FutureWarning)\n"
     ]
    },
    {
     "name": "stdout",
     "output_type": "stream",
     "text": [
      "[CV]  rfcl__max_depth=200, rfcl__max_features=20000, rfcl__min_samples_leaf=50, rfcl__min_samples_split=200, score=0.8172204305107628, total= 1.1min\n",
      "[CV] rfcl__max_depth=200, rfcl__max_features=20000, rfcl__min_samples_leaf=50, rfcl__min_samples_split=300 \n"
     ]
    },
    {
     "name": "stderr",
     "output_type": "stream",
     "text": [
      "/Users/nivzz/anaconda3/lib/python3.7/site-packages/sklearn/ensemble/forest.py:246: FutureWarning: The default value of n_estimators will change from 10 in version 0.20 to 100 in 0.22.\n",
      "  \"10 in version 0.20 to 100 in 0.22.\", FutureWarning)\n"
     ]
    },
    {
     "name": "stdout",
     "output_type": "stream",
     "text": [
      "[CV]  rfcl__max_depth=200, rfcl__max_features=20000, rfcl__min_samples_leaf=50, rfcl__min_samples_split=300, score=0.817254568635784, total= 1.1min\n",
      "[CV] rfcl__max_depth=200, rfcl__max_features=20000, rfcl__min_samples_leaf=50, rfcl__min_samples_split=300 \n"
     ]
    },
    {
     "name": "stderr",
     "output_type": "stream",
     "text": [
      "/Users/nivzz/anaconda3/lib/python3.7/site-packages/sklearn/ensemble/forest.py:246: FutureWarning: The default value of n_estimators will change from 10 in version 0.20 to 100 in 0.22.\n",
      "  \"10 in version 0.20 to 100 in 0.22.\", FutureWarning)\n"
     ]
    },
    {
     "name": "stdout",
     "output_type": "stream",
     "text": [
      "[CV]  rfcl__max_depth=200, rfcl__max_features=20000, rfcl__min_samples_leaf=50, rfcl__min_samples_split=300, score=0.8168454211355284, total= 1.0min\n",
      "[CV] rfcl__max_depth=200, rfcl__max_features=20000, rfcl__min_samples_leaf=50, rfcl__min_samples_split=500 \n"
     ]
    },
    {
     "name": "stderr",
     "output_type": "stream",
     "text": [
      "/Users/nivzz/anaconda3/lib/python3.7/site-packages/sklearn/ensemble/forest.py:246: FutureWarning: The default value of n_estimators will change from 10 in version 0.20 to 100 in 0.22.\n",
      "  \"10 in version 0.20 to 100 in 0.22.\", FutureWarning)\n"
     ]
    },
    {
     "name": "stdout",
     "output_type": "stream",
     "text": [
      "[CV]  rfcl__max_depth=200, rfcl__max_features=20000, rfcl__min_samples_leaf=50, rfcl__min_samples_split=500, score=0.8165545861353466, total=  59.7s\n",
      "[CV] rfcl__max_depth=200, rfcl__max_features=20000, rfcl__min_samples_leaf=50, rfcl__min_samples_split=500 \n"
     ]
    },
    {
     "name": "stderr",
     "output_type": "stream",
     "text": [
      "/Users/nivzz/anaconda3/lib/python3.7/site-packages/sklearn/ensemble/forest.py:246: FutureWarning: The default value of n_estimators will change from 10 in version 0.20 to 100 in 0.22.\n",
      "  \"10 in version 0.20 to 100 in 0.22.\", FutureWarning)\n"
     ]
    },
    {
     "name": "stdout",
     "output_type": "stream",
     "text": [
      "[CV]  rfcl__max_depth=200, rfcl__max_features=20000, rfcl__min_samples_leaf=50, rfcl__min_samples_split=500, score=0.8143703592589815, total=  55.2s\n",
      "[CV] rfcl__max_depth=200, rfcl__max_features=20000, rfcl__min_samples_leaf=50, rfcl__min_samples_split=1000 \n"
     ]
    },
    {
     "name": "stderr",
     "output_type": "stream",
     "text": [
      "/Users/nivzz/anaconda3/lib/python3.7/site-packages/sklearn/ensemble/forest.py:246: FutureWarning: The default value of n_estimators will change from 10 in version 0.20 to 100 in 0.22.\n",
      "  \"10 in version 0.20 to 100 in 0.22.\", FutureWarning)\n"
     ]
    },
    {
     "name": "stdout",
     "output_type": "stream",
     "text": [
      "[CV]  rfcl__max_depth=200, rfcl__max_features=20000, rfcl__min_samples_leaf=50, rfcl__min_samples_split=1000, score=0.8155796105097373, total=  52.2s\n",
      "[CV] rfcl__max_depth=200, rfcl__max_features=20000, rfcl__min_samples_leaf=50, rfcl__min_samples_split=1000 \n"
     ]
    },
    {
     "name": "stderr",
     "output_type": "stream",
     "text": [
      "/Users/nivzz/anaconda3/lib/python3.7/site-packages/sklearn/ensemble/forest.py:246: FutureWarning: The default value of n_estimators will change from 10 in version 0.20 to 100 in 0.22.\n",
      "  \"10 in version 0.20 to 100 in 0.22.\", FutureWarning)\n"
     ]
    },
    {
     "name": "stdout",
     "output_type": "stream",
     "text": [
      "[CV]  rfcl__max_depth=200, rfcl__max_features=20000, rfcl__min_samples_leaf=50, rfcl__min_samples_split=1000, score=0.8133453336333408, total=  50.8s\n",
      "[CV] rfcl__max_depth=300, rfcl__max_features=auto, rfcl__min_samples_leaf=10, rfcl__min_samples_split=100 \n"
     ]
    },
    {
     "name": "stderr",
     "output_type": "stream",
     "text": [
      "/Users/nivzz/anaconda3/lib/python3.7/site-packages/sklearn/ensemble/forest.py:246: FutureWarning: The default value of n_estimators will change from 10 in version 0.20 to 100 in 0.22.\n",
      "  \"10 in version 0.20 to 100 in 0.22.\", FutureWarning)\n"
     ]
    },
    {
     "name": "stdout",
     "output_type": "stream",
     "text": [
      "[CV]  rfcl__max_depth=300, rfcl__max_features=auto, rfcl__min_samples_leaf=10, rfcl__min_samples_split=100, score=0.8070798230044249, total=  17.2s\n",
      "[CV] rfcl__max_depth=300, rfcl__max_features=auto, rfcl__min_samples_leaf=10, rfcl__min_samples_split=100 \n"
     ]
    },
    {
     "name": "stderr",
     "output_type": "stream",
     "text": [
      "/Users/nivzz/anaconda3/lib/python3.7/site-packages/sklearn/ensemble/forest.py:246: FutureWarning: The default value of n_estimators will change from 10 in version 0.20 to 100 in 0.22.\n",
      "  \"10 in version 0.20 to 100 in 0.22.\", FutureWarning)\n"
     ]
    },
    {
     "name": "stdout",
     "output_type": "stream",
     "text": [
      "[CV]  rfcl__max_depth=300, rfcl__max_features=auto, rfcl__min_samples_leaf=10, rfcl__min_samples_split=100, score=0.8070701767544188, total=  17.9s\n",
      "[CV] rfcl__max_depth=300, rfcl__max_features=auto, rfcl__min_samples_leaf=10, rfcl__min_samples_split=200 \n"
     ]
    },
    {
     "name": "stderr",
     "output_type": "stream",
     "text": [
      "/Users/nivzz/anaconda3/lib/python3.7/site-packages/sklearn/ensemble/forest.py:246: FutureWarning: The default value of n_estimators will change from 10 in version 0.20 to 100 in 0.22.\n",
      "  \"10 in version 0.20 to 100 in 0.22.\", FutureWarning)\n"
     ]
    },
    {
     "name": "stdout",
     "output_type": "stream",
     "text": [
      "[CV]  rfcl__max_depth=300, rfcl__max_features=auto, rfcl__min_samples_leaf=10, rfcl__min_samples_split=200, score=0.8069048273793156, total=  16.9s\n",
      "[CV] rfcl__max_depth=300, rfcl__max_features=auto, rfcl__min_samples_leaf=10, rfcl__min_samples_split=200 \n"
     ]
    },
    {
     "name": "stderr",
     "output_type": "stream",
     "text": [
      "/Users/nivzz/anaconda3/lib/python3.7/site-packages/sklearn/ensemble/forest.py:246: FutureWarning: The default value of n_estimators will change from 10 in version 0.20 to 100 in 0.22.\n",
      "  \"10 in version 0.20 to 100 in 0.22.\", FutureWarning)\n"
     ]
    },
    {
     "name": "stdout",
     "output_type": "stream",
     "text": [
      "[CV]  rfcl__max_depth=300, rfcl__max_features=auto, rfcl__min_samples_leaf=10, rfcl__min_samples_split=200, score=0.8069201730043251, total=  16.8s\n",
      "[CV] rfcl__max_depth=300, rfcl__max_features=auto, rfcl__min_samples_leaf=10, rfcl__min_samples_split=300 \n"
     ]
    },
    {
     "name": "stderr",
     "output_type": "stream",
     "text": [
      "/Users/nivzz/anaconda3/lib/python3.7/site-packages/sklearn/ensemble/forest.py:246: FutureWarning: The default value of n_estimators will change from 10 in version 0.20 to 100 in 0.22.\n",
      "  \"10 in version 0.20 to 100 in 0.22.\", FutureWarning)\n"
     ]
    },
    {
     "name": "stdout",
     "output_type": "stream",
     "text": [
      "[CV]  rfcl__max_depth=300, rfcl__max_features=auto, rfcl__min_samples_leaf=10, rfcl__min_samples_split=300, score=0.8072298192545186, total=  16.7s\n",
      "[CV] rfcl__max_depth=300, rfcl__max_features=auto, rfcl__min_samples_leaf=10, rfcl__min_samples_split=300 \n"
     ]
    },
    {
     "name": "stderr",
     "output_type": "stream",
     "text": [
      "/Users/nivzz/anaconda3/lib/python3.7/site-packages/sklearn/ensemble/forest.py:246: FutureWarning: The default value of n_estimators will change from 10 in version 0.20 to 100 in 0.22.\n",
      "  \"10 in version 0.20 to 100 in 0.22.\", FutureWarning)\n"
     ]
    },
    {
     "name": "stdout",
     "output_type": "stream",
     "text": [
      "[CV]  rfcl__max_depth=300, rfcl__max_features=auto, rfcl__min_samples_leaf=10, rfcl__min_samples_split=300, score=0.8071201780044501, total=  17.2s\n",
      "[CV] rfcl__max_depth=300, rfcl__max_features=auto, rfcl__min_samples_leaf=10, rfcl__min_samples_split=500 \n"
     ]
    },
    {
     "name": "stderr",
     "output_type": "stream",
     "text": [
      "/Users/nivzz/anaconda3/lib/python3.7/site-packages/sklearn/ensemble/forest.py:246: FutureWarning: The default value of n_estimators will change from 10 in version 0.20 to 100 in 0.22.\n",
      "  \"10 in version 0.20 to 100 in 0.22.\", FutureWarning)\n"
     ]
    },
    {
     "name": "stdout",
     "output_type": "stream",
     "text": [
      "[CV]  rfcl__max_depth=300, rfcl__max_features=auto, rfcl__min_samples_leaf=10, rfcl__min_samples_split=500, score=0.8071048223794405, total=  17.3s\n",
      "[CV] rfcl__max_depth=300, rfcl__max_features=auto, rfcl__min_samples_leaf=10, rfcl__min_samples_split=500 \n"
     ]
    },
    {
     "name": "stderr",
     "output_type": "stream",
     "text": [
      "/Users/nivzz/anaconda3/lib/python3.7/site-packages/sklearn/ensemble/forest.py:246: FutureWarning: The default value of n_estimators will change from 10 in version 0.20 to 100 in 0.22.\n",
      "  \"10 in version 0.20 to 100 in 0.22.\", FutureWarning)\n"
     ]
    },
    {
     "name": "stdout",
     "output_type": "stream",
     "text": [
      "[CV]  rfcl__max_depth=300, rfcl__max_features=auto, rfcl__min_samples_leaf=10, rfcl__min_samples_split=500, score=0.8069451736293407, total=  17.2s\n",
      "[CV] rfcl__max_depth=300, rfcl__max_features=auto, rfcl__min_samples_leaf=10, rfcl__min_samples_split=1000 \n"
     ]
    },
    {
     "name": "stderr",
     "output_type": "stream",
     "text": [
      "/Users/nivzz/anaconda3/lib/python3.7/site-packages/sklearn/ensemble/forest.py:246: FutureWarning: The default value of n_estimators will change from 10 in version 0.20 to 100 in 0.22.\n",
      "  \"10 in version 0.20 to 100 in 0.22.\", FutureWarning)\n"
     ]
    },
    {
     "name": "stdout",
     "output_type": "stream",
     "text": [
      "[CV]  rfcl__max_depth=300, rfcl__max_features=auto, rfcl__min_samples_leaf=10, rfcl__min_samples_split=1000, score=0.8070548236294093, total=  17.1s\n",
      "[CV] rfcl__max_depth=300, rfcl__max_features=auto, rfcl__min_samples_leaf=10, rfcl__min_samples_split=1000 \n"
     ]
    },
    {
     "name": "stderr",
     "output_type": "stream",
     "text": [
      "/Users/nivzz/anaconda3/lib/python3.7/site-packages/sklearn/ensemble/forest.py:246: FutureWarning: The default value of n_estimators will change from 10 in version 0.20 to 100 in 0.22.\n",
      "  \"10 in version 0.20 to 100 in 0.22.\", FutureWarning)\n"
     ]
    },
    {
     "name": "stdout",
     "output_type": "stream",
     "text": [
      "[CV]  rfcl__max_depth=300, rfcl__max_features=auto, rfcl__min_samples_leaf=10, rfcl__min_samples_split=1000, score=0.807195179879497, total=  16.6s\n",
      "[CV] rfcl__max_depth=300, rfcl__max_features=auto, rfcl__min_samples_leaf=50, rfcl__min_samples_split=100 \n"
     ]
    },
    {
     "name": "stderr",
     "output_type": "stream",
     "text": [
      "/Users/nivzz/anaconda3/lib/python3.7/site-packages/sklearn/ensemble/forest.py:246: FutureWarning: The default value of n_estimators will change from 10 in version 0.20 to 100 in 0.22.\n",
      "  \"10 in version 0.20 to 100 in 0.22.\", FutureWarning)\n"
     ]
    },
    {
     "name": "stdout",
     "output_type": "stream",
     "text": [
      "[CV]  rfcl__max_depth=300, rfcl__max_features=auto, rfcl__min_samples_leaf=50, rfcl__min_samples_split=100, score=0.8069048273793156, total=  17.0s\n",
      "[CV] rfcl__max_depth=300, rfcl__max_features=auto, rfcl__min_samples_leaf=50, rfcl__min_samples_split=100 \n"
     ]
    },
    {
     "name": "stderr",
     "output_type": "stream",
     "text": [
      "/Users/nivzz/anaconda3/lib/python3.7/site-packages/sklearn/ensemble/forest.py:246: FutureWarning: The default value of n_estimators will change from 10 in version 0.20 to 100 in 0.22.\n",
      "  \"10 in version 0.20 to 100 in 0.22.\", FutureWarning)\n"
     ]
    },
    {
     "name": "stdout",
     "output_type": "stream",
     "text": [
      "[CV]  rfcl__max_depth=300, rfcl__max_features=auto, rfcl__min_samples_leaf=50, rfcl__min_samples_split=100, score=0.8069201730043251, total=  16.1s\n",
      "[CV] rfcl__max_depth=300, rfcl__max_features=auto, rfcl__min_samples_leaf=50, rfcl__min_samples_split=200 \n"
     ]
    },
    {
     "name": "stderr",
     "output_type": "stream",
     "text": [
      "/Users/nivzz/anaconda3/lib/python3.7/site-packages/sklearn/ensemble/forest.py:246: FutureWarning: The default value of n_estimators will change from 10 in version 0.20 to 100 in 0.22.\n",
      "  \"10 in version 0.20 to 100 in 0.22.\", FutureWarning)\n"
     ]
    },
    {
     "name": "stdout",
     "output_type": "stream",
     "text": [
      "[CV]  rfcl__max_depth=300, rfcl__max_features=auto, rfcl__min_samples_leaf=50, rfcl__min_samples_split=200, score=0.8069298267543311, total=  17.0s\n",
      "[CV] rfcl__max_depth=300, rfcl__max_features=auto, rfcl__min_samples_leaf=50, rfcl__min_samples_split=200 \n"
     ]
    },
    {
     "name": "stderr",
     "output_type": "stream",
     "text": [
      "/Users/nivzz/anaconda3/lib/python3.7/site-packages/sklearn/ensemble/forest.py:246: FutureWarning: The default value of n_estimators will change from 10 in version 0.20 to 100 in 0.22.\n",
      "  \"10 in version 0.20 to 100 in 0.22.\", FutureWarning)\n"
     ]
    },
    {
     "name": "stdout",
     "output_type": "stream",
     "text": [
      "[CV]  rfcl__max_depth=300, rfcl__max_features=auto, rfcl__min_samples_leaf=50, rfcl__min_samples_split=200, score=0.8069201730043251, total=  16.7s\n",
      "[CV] rfcl__max_depth=300, rfcl__max_features=auto, rfcl__min_samples_leaf=50, rfcl__min_samples_split=300 \n"
     ]
    },
    {
     "name": "stderr",
     "output_type": "stream",
     "text": [
      "/Users/nivzz/anaconda3/lib/python3.7/site-packages/sklearn/ensemble/forest.py:246: FutureWarning: The default value of n_estimators will change from 10 in version 0.20 to 100 in 0.22.\n",
      "  \"10 in version 0.20 to 100 in 0.22.\", FutureWarning)\n"
     ]
    },
    {
     "name": "stdout",
     "output_type": "stream",
     "text": [
      "[CV]  rfcl__max_depth=300, rfcl__max_features=auto, rfcl__min_samples_leaf=50, rfcl__min_samples_split=300, score=0.8069048273793156, total=  16.9s\n",
      "[CV] rfcl__max_depth=300, rfcl__max_features=auto, rfcl__min_samples_leaf=50, rfcl__min_samples_split=300 \n"
     ]
    },
    {
     "name": "stderr",
     "output_type": "stream",
     "text": [
      "/Users/nivzz/anaconda3/lib/python3.7/site-packages/sklearn/ensemble/forest.py:246: FutureWarning: The default value of n_estimators will change from 10 in version 0.20 to 100 in 0.22.\n",
      "  \"10 in version 0.20 to 100 in 0.22.\", FutureWarning)\n"
     ]
    },
    {
     "name": "stdout",
     "output_type": "stream",
     "text": [
      "[CV]  rfcl__max_depth=300, rfcl__max_features=auto, rfcl__min_samples_leaf=50, rfcl__min_samples_split=300, score=0.8069201730043251, total=  15.6s\n",
      "[CV] rfcl__max_depth=300, rfcl__max_features=auto, rfcl__min_samples_leaf=50, rfcl__min_samples_split=500 \n"
     ]
    },
    {
     "name": "stderr",
     "output_type": "stream",
     "text": [
      "/Users/nivzz/anaconda3/lib/python3.7/site-packages/sklearn/ensemble/forest.py:246: FutureWarning: The default value of n_estimators will change from 10 in version 0.20 to 100 in 0.22.\n",
      "  \"10 in version 0.20 to 100 in 0.22.\", FutureWarning)\n"
     ]
    },
    {
     "name": "stdout",
     "output_type": "stream",
     "text": [
      "[CV]  rfcl__max_depth=300, rfcl__max_features=auto, rfcl__min_samples_leaf=50, rfcl__min_samples_split=500, score=0.8069048273793156, total=  19.2s\n",
      "[CV] rfcl__max_depth=300, rfcl__max_features=auto, rfcl__min_samples_leaf=50, rfcl__min_samples_split=500 \n"
     ]
    },
    {
     "name": "stderr",
     "output_type": "stream",
     "text": [
      "/Users/nivzz/anaconda3/lib/python3.7/site-packages/sklearn/ensemble/forest.py:246: FutureWarning: The default value of n_estimators will change from 10 in version 0.20 to 100 in 0.22.\n",
      "  \"10 in version 0.20 to 100 in 0.22.\", FutureWarning)\n"
     ]
    },
    {
     "name": "stdout",
     "output_type": "stream",
     "text": [
      "[CV]  rfcl__max_depth=300, rfcl__max_features=auto, rfcl__min_samples_leaf=50, rfcl__min_samples_split=500, score=0.8069201730043251, total=  18.3s\n",
      "[CV] rfcl__max_depth=300, rfcl__max_features=auto, rfcl__min_samples_leaf=50, rfcl__min_samples_split=1000 \n"
     ]
    },
    {
     "name": "stderr",
     "output_type": "stream",
     "text": [
      "/Users/nivzz/anaconda3/lib/python3.7/site-packages/sklearn/ensemble/forest.py:246: FutureWarning: The default value of n_estimators will change from 10 in version 0.20 to 100 in 0.22.\n",
      "  \"10 in version 0.20 to 100 in 0.22.\", FutureWarning)\n"
     ]
    },
    {
     "name": "stdout",
     "output_type": "stream",
     "text": [
      "[CV]  rfcl__max_depth=300, rfcl__max_features=auto, rfcl__min_samples_leaf=50, rfcl__min_samples_split=1000, score=0.8069048273793156, total=  15.8s\n",
      "[CV] rfcl__max_depth=300, rfcl__max_features=auto, rfcl__min_samples_leaf=50, rfcl__min_samples_split=1000 \n"
     ]
    },
    {
     "name": "stderr",
     "output_type": "stream",
     "text": [
      "/Users/nivzz/anaconda3/lib/python3.7/site-packages/sklearn/ensemble/forest.py:246: FutureWarning: The default value of n_estimators will change from 10 in version 0.20 to 100 in 0.22.\n",
      "  \"10 in version 0.20 to 100 in 0.22.\", FutureWarning)\n"
     ]
    },
    {
     "name": "stdout",
     "output_type": "stream",
     "text": [
      "[CV]  rfcl__max_depth=300, rfcl__max_features=auto, rfcl__min_samples_leaf=50, rfcl__min_samples_split=1000, score=0.8069201730043251, total=  16.0s\n",
      "[CV] rfcl__max_depth=300, rfcl__max_features=20000, rfcl__min_samples_leaf=10, rfcl__min_samples_split=100 \n"
     ]
    },
    {
     "name": "stderr",
     "output_type": "stream",
     "text": [
      "/Users/nivzz/anaconda3/lib/python3.7/site-packages/sklearn/ensemble/forest.py:246: FutureWarning: The default value of n_estimators will change from 10 in version 0.20 to 100 in 0.22.\n",
      "  \"10 in version 0.20 to 100 in 0.22.\", FutureWarning)\n"
     ]
    },
    {
     "name": "stdout",
     "output_type": "stream",
     "text": [
      "[CV]  rfcl__max_depth=300, rfcl__max_features=20000, rfcl__min_samples_leaf=10, rfcl__min_samples_split=100, score=0.8232044198895028, total= 2.7min\n",
      "[CV] rfcl__max_depth=300, rfcl__max_features=20000, rfcl__min_samples_leaf=10, rfcl__min_samples_split=100 \n"
     ]
    },
    {
     "name": "stderr",
     "output_type": "stream",
     "text": [
      "/Users/nivzz/anaconda3/lib/python3.7/site-packages/sklearn/ensemble/forest.py:246: FutureWarning: The default value of n_estimators will change from 10 in version 0.20 to 100 in 0.22.\n",
      "  \"10 in version 0.20 to 100 in 0.22.\", FutureWarning)\n"
     ]
    },
    {
     "name": "stdout",
     "output_type": "stream",
     "text": [
      "[CV]  rfcl__max_depth=300, rfcl__max_features=20000, rfcl__min_samples_leaf=10, rfcl__min_samples_split=100, score=0.8227955698892472, total= 2.6min\n",
      "[CV] rfcl__max_depth=300, rfcl__max_features=20000, rfcl__min_samples_leaf=10, rfcl__min_samples_split=200 \n"
     ]
    },
    {
     "name": "stderr",
     "output_type": "stream",
     "text": [
      "/Users/nivzz/anaconda3/lib/python3.7/site-packages/sklearn/ensemble/forest.py:246: FutureWarning: The default value of n_estimators will change from 10 in version 0.20 to 100 in 0.22.\n",
      "  \"10 in version 0.20 to 100 in 0.22.\", FutureWarning)\n"
     ]
    },
    {
     "name": "stdout",
     "output_type": "stream",
     "text": [
      "[CV]  rfcl__max_depth=300, rfcl__max_features=20000, rfcl__min_samples_leaf=10, rfcl__min_samples_split=200, score=0.8227294317642059, total= 2.5min\n",
      "[CV] rfcl__max_depth=300, rfcl__max_features=20000, rfcl__min_samples_leaf=10, rfcl__min_samples_split=200 \n"
     ]
    },
    {
     "name": "stderr",
     "output_type": "stream",
     "text": [
      "/Users/nivzz/anaconda3/lib/python3.7/site-packages/sklearn/ensemble/forest.py:246: FutureWarning: The default value of n_estimators will change from 10 in version 0.20 to 100 in 0.22.\n",
      "  \"10 in version 0.20 to 100 in 0.22.\", FutureWarning)\n"
     ]
    },
    {
     "name": "stdout",
     "output_type": "stream",
     "text": [
      "[CV]  rfcl__max_depth=300, rfcl__max_features=20000, rfcl__min_samples_leaf=10, rfcl__min_samples_split=200, score=0.8214705367634191, total= 2.5min\n",
      "[CV] rfcl__max_depth=300, rfcl__max_features=20000, rfcl__min_samples_leaf=10, rfcl__min_samples_split=300 \n"
     ]
    },
    {
     "name": "stderr",
     "output_type": "stream",
     "text": [
      "/Users/nivzz/anaconda3/lib/python3.7/site-packages/sklearn/ensemble/forest.py:246: FutureWarning: The default value of n_estimators will change from 10 in version 0.20 to 100 in 0.22.\n",
      "  \"10 in version 0.20 to 100 in 0.22.\", FutureWarning)\n"
     ]
    },
    {
     "name": "stdout",
     "output_type": "stream",
     "text": [
      "[CV]  rfcl__max_depth=300, rfcl__max_features=20000, rfcl__min_samples_leaf=10, rfcl__min_samples_split=300, score=0.8218794530136747, total= 2.4min\n",
      "[CV] rfcl__max_depth=300, rfcl__max_features=20000, rfcl__min_samples_leaf=10, rfcl__min_samples_split=300 \n"
     ]
    },
    {
     "name": "stderr",
     "output_type": "stream",
     "text": [
      "/Users/nivzz/anaconda3/lib/python3.7/site-packages/sklearn/ensemble/forest.py:246: FutureWarning: The default value of n_estimators will change from 10 in version 0.20 to 100 in 0.22.\n",
      "  \"10 in version 0.20 to 100 in 0.22.\", FutureWarning)\n"
     ]
    },
    {
     "name": "stdout",
     "output_type": "stream",
     "text": [
      "[CV]  rfcl__max_depth=300, rfcl__max_features=20000, rfcl__min_samples_leaf=10, rfcl__min_samples_split=300, score=0.8210205255131379, total= 2.3min\n",
      "[CV] rfcl__max_depth=300, rfcl__max_features=20000, rfcl__min_samples_leaf=10, rfcl__min_samples_split=500 \n"
     ]
    },
    {
     "name": "stderr",
     "output_type": "stream",
     "text": [
      "/Users/nivzz/anaconda3/lib/python3.7/site-packages/sklearn/ensemble/forest.py:246: FutureWarning: The default value of n_estimators will change from 10 in version 0.20 to 100 in 0.22.\n",
      "  \"10 in version 0.20 to 100 in 0.22.\", FutureWarning)\n"
     ]
    },
    {
     "name": "stdout",
     "output_type": "stream",
     "text": [
      "[CV]  rfcl__max_depth=300, rfcl__max_features=20000, rfcl__min_samples_leaf=10, rfcl__min_samples_split=500, score=0.8206044848878778, total= 2.2min\n",
      "[CV] rfcl__max_depth=300, rfcl__max_features=20000, rfcl__min_samples_leaf=10, rfcl__min_samples_split=500 \n"
     ]
    },
    {
     "name": "stderr",
     "output_type": "stream",
     "text": [
      "/Users/nivzz/anaconda3/lib/python3.7/site-packages/sklearn/ensemble/forest.py:246: FutureWarning: The default value of n_estimators will change from 10 in version 0.20 to 100 in 0.22.\n",
      "  \"10 in version 0.20 to 100 in 0.22.\", FutureWarning)\n"
     ]
    },
    {
     "name": "stdout",
     "output_type": "stream",
     "text": [
      "[CV]  rfcl__max_depth=300, rfcl__max_features=20000, rfcl__min_samples_leaf=10, rfcl__min_samples_split=500, score=0.8194454861371534, total= 2.2min\n",
      "[CV] rfcl__max_depth=300, rfcl__max_features=20000, rfcl__min_samples_leaf=10, rfcl__min_samples_split=1000 \n"
     ]
    },
    {
     "name": "stderr",
     "output_type": "stream",
     "text": [
      "/Users/nivzz/anaconda3/lib/python3.7/site-packages/sklearn/ensemble/forest.py:246: FutureWarning: The default value of n_estimators will change from 10 in version 0.20 to 100 in 0.22.\n",
      "  \"10 in version 0.20 to 100 in 0.22.\", FutureWarning)\n"
     ]
    },
    {
     "name": "stdout",
     "output_type": "stream",
     "text": [
      "[CV]  rfcl__max_depth=300, rfcl__max_features=20000, rfcl__min_samples_leaf=10, rfcl__min_samples_split=1000, score=0.8190045248868778, total= 1.9min\n",
      "[CV] rfcl__max_depth=300, rfcl__max_features=20000, rfcl__min_samples_leaf=10, rfcl__min_samples_split=1000 \n"
     ]
    },
    {
     "name": "stderr",
     "output_type": "stream",
     "text": [
      "/Users/nivzz/anaconda3/lib/python3.7/site-packages/sklearn/ensemble/forest.py:246: FutureWarning: The default value of n_estimators will change from 10 in version 0.20 to 100 in 0.22.\n",
      "  \"10 in version 0.20 to 100 in 0.22.\", FutureWarning)\n"
     ]
    },
    {
     "name": "stdout",
     "output_type": "stream",
     "text": [
      "[CV]  rfcl__max_depth=300, rfcl__max_features=20000, rfcl__min_samples_leaf=10, rfcl__min_samples_split=1000, score=0.8188704717617941, total= 1.9min\n",
      "[CV] rfcl__max_depth=300, rfcl__max_features=20000, rfcl__min_samples_leaf=50, rfcl__min_samples_split=100 \n"
     ]
    },
    {
     "name": "stderr",
     "output_type": "stream",
     "text": [
      "/Users/nivzz/anaconda3/lib/python3.7/site-packages/sklearn/ensemble/forest.py:246: FutureWarning: The default value of n_estimators will change from 10 in version 0.20 to 100 in 0.22.\n",
      "  \"10 in version 0.20 to 100 in 0.22.\", FutureWarning)\n"
     ]
    },
    {
     "name": "stdout",
     "output_type": "stream",
     "text": [
      "[CV]  rfcl__max_depth=300, rfcl__max_features=20000, rfcl__min_samples_leaf=50, rfcl__min_samples_split=100, score=0.8193545161370965, total= 1.4min\n",
      "[CV] rfcl__max_depth=300, rfcl__max_features=20000, rfcl__min_samples_leaf=50, rfcl__min_samples_split=100 \n"
     ]
    },
    {
     "name": "stderr",
     "output_type": "stream",
     "text": [
      "/Users/nivzz/anaconda3/lib/python3.7/site-packages/sklearn/ensemble/forest.py:246: FutureWarning: The default value of n_estimators will change from 10 in version 0.20 to 100 in 0.22.\n",
      "  \"10 in version 0.20 to 100 in 0.22.\", FutureWarning)\n"
     ]
    },
    {
     "name": "stdout",
     "output_type": "stream",
     "text": [
      "[CV]  rfcl__max_depth=300, rfcl__max_features=20000, rfcl__min_samples_leaf=50, rfcl__min_samples_split=100, score=0.8168954223855597, total= 1.4min\n",
      "[CV] rfcl__max_depth=300, rfcl__max_features=20000, rfcl__min_samples_leaf=50, rfcl__min_samples_split=200 \n"
     ]
    },
    {
     "name": "stderr",
     "output_type": "stream",
     "text": [
      "/Users/nivzz/anaconda3/lib/python3.7/site-packages/sklearn/ensemble/forest.py:246: FutureWarning: The default value of n_estimators will change from 10 in version 0.20 to 100 in 0.22.\n",
      "  \"10 in version 0.20 to 100 in 0.22.\", FutureWarning)\n"
     ]
    },
    {
     "name": "stdout",
     "output_type": "stream",
     "text": [
      "[CV]  rfcl__max_depth=300, rfcl__max_features=20000, rfcl__min_samples_leaf=50, rfcl__min_samples_split=200, score=0.8169545761355966, total= 1.2min\n",
      "[CV] rfcl__max_depth=300, rfcl__max_features=20000, rfcl__min_samples_leaf=50, rfcl__min_samples_split=200 \n"
     ]
    },
    {
     "name": "stderr",
     "output_type": "stream",
     "text": [
      "/Users/nivzz/anaconda3/lib/python3.7/site-packages/sklearn/ensemble/forest.py:246: FutureWarning: The default value of n_estimators will change from 10 in version 0.20 to 100 in 0.22.\n",
      "  \"10 in version 0.20 to 100 in 0.22.\", FutureWarning)\n"
     ]
    },
    {
     "name": "stdout",
     "output_type": "stream",
     "text": [
      "[CV]  rfcl__max_depth=300, rfcl__max_features=20000, rfcl__min_samples_leaf=50, rfcl__min_samples_split=200, score=0.8170954273856846, total= 1.1min\n",
      "[CV] rfcl__max_depth=300, rfcl__max_features=20000, rfcl__min_samples_leaf=50, rfcl__min_samples_split=300 \n"
     ]
    },
    {
     "name": "stderr",
     "output_type": "stream",
     "text": [
      "/Users/nivzz/anaconda3/lib/python3.7/site-packages/sklearn/ensemble/forest.py:246: FutureWarning: The default value of n_estimators will change from 10 in version 0.20 to 100 in 0.22.\n",
      "  \"10 in version 0.20 to 100 in 0.22.\", FutureWarning)\n"
     ]
    },
    {
     "name": "stdout",
     "output_type": "stream",
     "text": [
      "[CV]  rfcl__max_depth=300, rfcl__max_features=20000, rfcl__min_samples_leaf=50, rfcl__min_samples_split=300, score=0.8160545986350342, total= 1.1min\n",
      "[CV] rfcl__max_depth=300, rfcl__max_features=20000, rfcl__min_samples_leaf=50, rfcl__min_samples_split=300 \n"
     ]
    },
    {
     "name": "stderr",
     "output_type": "stream",
     "text": [
      "/Users/nivzz/anaconda3/lib/python3.7/site-packages/sklearn/ensemble/forest.py:246: FutureWarning: The default value of n_estimators will change from 10 in version 0.20 to 100 in 0.22.\n",
      "  \"10 in version 0.20 to 100 in 0.22.\", FutureWarning)\n"
     ]
    },
    {
     "name": "stdout",
     "output_type": "stream",
     "text": [
      "[CV]  rfcl__max_depth=300, rfcl__max_features=20000, rfcl__min_samples_leaf=50, rfcl__min_samples_split=300, score=0.816670416760419, total= 1.1min\n",
      "[CV] rfcl__max_depth=300, rfcl__max_features=20000, rfcl__min_samples_leaf=50, rfcl__min_samples_split=500 \n"
     ]
    },
    {
     "name": "stderr",
     "output_type": "stream",
     "text": [
      "/Users/nivzz/anaconda3/lib/python3.7/site-packages/sklearn/ensemble/forest.py:246: FutureWarning: The default value of n_estimators will change from 10 in version 0.20 to 100 in 0.22.\n",
      "  \"10 in version 0.20 to 100 in 0.22.\", FutureWarning)\n"
     ]
    },
    {
     "name": "stdout",
     "output_type": "stream",
     "text": [
      "[CV]  rfcl__max_depth=300, rfcl__max_features=20000, rfcl__min_samples_leaf=50, rfcl__min_samples_split=500, score=0.816929576760581, total=  57.7s\n",
      "[CV] rfcl__max_depth=300, rfcl__max_features=20000, rfcl__min_samples_leaf=50, rfcl__min_samples_split=500 \n"
     ]
    },
    {
     "name": "stderr",
     "output_type": "stream",
     "text": [
      "/Users/nivzz/anaconda3/lib/python3.7/site-packages/sklearn/ensemble/forest.py:246: FutureWarning: The default value of n_estimators will change from 10 in version 0.20 to 100 in 0.22.\n",
      "  \"10 in version 0.20 to 100 in 0.22.\", FutureWarning)\n"
     ]
    },
    {
     "name": "stdout",
     "output_type": "stream",
     "text": [
      "[CV]  rfcl__max_depth=300, rfcl__max_features=20000, rfcl__min_samples_leaf=50, rfcl__min_samples_split=500, score=0.8159203980099502, total=  57.4s\n",
      "[CV] rfcl__max_depth=300, rfcl__max_features=20000, rfcl__min_samples_leaf=50, rfcl__min_samples_split=1000 \n"
     ]
    },
    {
     "name": "stderr",
     "output_type": "stream",
     "text": [
      "/Users/nivzz/anaconda3/lib/python3.7/site-packages/sklearn/ensemble/forest.py:246: FutureWarning: The default value of n_estimators will change from 10 in version 0.20 to 100 in 0.22.\n",
      "  \"10 in version 0.20 to 100 in 0.22.\", FutureWarning)\n"
     ]
    },
    {
     "name": "stdout",
     "output_type": "stream",
     "text": [
      "[CV]  rfcl__max_depth=300, rfcl__max_features=20000, rfcl__min_samples_leaf=50, rfcl__min_samples_split=1000, score=0.8149546261343467, total=  50.6s\n",
      "[CV] rfcl__max_depth=300, rfcl__max_features=20000, rfcl__min_samples_leaf=50, rfcl__min_samples_split=1000 \n"
     ]
    },
    {
     "name": "stderr",
     "output_type": "stream",
     "text": [
      "/Users/nivzz/anaconda3/lib/python3.7/site-packages/sklearn/ensemble/forest.py:246: FutureWarning: The default value of n_estimators will change from 10 in version 0.20 to 100 in 0.22.\n",
      "  \"10 in version 0.20 to 100 in 0.22.\", FutureWarning)\n"
     ]
    },
    {
     "name": "stdout",
     "output_type": "stream",
     "text": [
      "[CV]  rfcl__max_depth=300, rfcl__max_features=20000, rfcl__min_samples_leaf=50, rfcl__min_samples_split=1000, score=0.8147953698842471, total=  51.7s\n",
      "[CV] rfcl__max_depth=500, rfcl__max_features=auto, rfcl__min_samples_leaf=10, rfcl__min_samples_split=100 \n"
     ]
    },
    {
     "name": "stderr",
     "output_type": "stream",
     "text": [
      "/Users/nivzz/anaconda3/lib/python3.7/site-packages/sklearn/ensemble/forest.py:246: FutureWarning: The default value of n_estimators will change from 10 in version 0.20 to 100 in 0.22.\n",
      "  \"10 in version 0.20 to 100 in 0.22.\", FutureWarning)\n"
     ]
    },
    {
     "name": "stdout",
     "output_type": "stream",
     "text": [
      "[CV]  rfcl__max_depth=500, rfcl__max_features=auto, rfcl__min_samples_leaf=10, rfcl__min_samples_split=100, score=0.8069298267543311, total=  17.8s\n",
      "[CV] rfcl__max_depth=500, rfcl__max_features=auto, rfcl__min_samples_leaf=10, rfcl__min_samples_split=100 \n"
     ]
    },
    {
     "name": "stderr",
     "output_type": "stream",
     "text": [
      "/Users/nivzz/anaconda3/lib/python3.7/site-packages/sklearn/ensemble/forest.py:246: FutureWarning: The default value of n_estimators will change from 10 in version 0.20 to 100 in 0.22.\n",
      "  \"10 in version 0.20 to 100 in 0.22.\", FutureWarning)\n"
     ]
    },
    {
     "name": "stdout",
     "output_type": "stream",
     "text": [
      "[CV]  rfcl__max_depth=500, rfcl__max_features=auto, rfcl__min_samples_leaf=10, rfcl__min_samples_split=100, score=0.8069701742543564, total=  17.2s\n",
      "[CV] rfcl__max_depth=500, rfcl__max_features=auto, rfcl__min_samples_leaf=10, rfcl__min_samples_split=200 \n"
     ]
    },
    {
     "name": "stderr",
     "output_type": "stream",
     "text": [
      "/Users/nivzz/anaconda3/lib/python3.7/site-packages/sklearn/ensemble/forest.py:246: FutureWarning: The default value of n_estimators will change from 10 in version 0.20 to 100 in 0.22.\n",
      "  \"10 in version 0.20 to 100 in 0.22.\", FutureWarning)\n"
     ]
    },
    {
     "name": "stdout",
     "output_type": "stream",
     "text": [
      "[CV]  rfcl__max_depth=500, rfcl__max_features=auto, rfcl__min_samples_leaf=10, rfcl__min_samples_split=200, score=0.8070798230044249, total=  17.4s\n",
      "[CV] rfcl__max_depth=500, rfcl__max_features=auto, rfcl__min_samples_leaf=10, rfcl__min_samples_split=200 \n"
     ]
    },
    {
     "name": "stderr",
     "output_type": "stream",
     "text": [
      "/Users/nivzz/anaconda3/lib/python3.7/site-packages/sklearn/ensemble/forest.py:246: FutureWarning: The default value of n_estimators will change from 10 in version 0.20 to 100 in 0.22.\n",
      "  \"10 in version 0.20 to 100 in 0.22.\", FutureWarning)\n"
     ]
    },
    {
     "name": "stdout",
     "output_type": "stream",
     "text": [
      "[CV]  rfcl__max_depth=500, rfcl__max_features=auto, rfcl__min_samples_leaf=10, rfcl__min_samples_split=200, score=0.8074201855046376, total=  17.3s\n",
      "[CV] rfcl__max_depth=500, rfcl__max_features=auto, rfcl__min_samples_leaf=10, rfcl__min_samples_split=300 \n"
     ]
    },
    {
     "name": "stderr",
     "output_type": "stream",
     "text": [
      "/Users/nivzz/anaconda3/lib/python3.7/site-packages/sklearn/ensemble/forest.py:246: FutureWarning: The default value of n_estimators will change from 10 in version 0.20 to 100 in 0.22.\n",
      "  \"10 in version 0.20 to 100 in 0.22.\", FutureWarning)\n"
     ]
    },
    {
     "name": "stdout",
     "output_type": "stream",
     "text": [
      "[CV]  rfcl__max_depth=500, rfcl__max_features=auto, rfcl__min_samples_leaf=10, rfcl__min_samples_split=300, score=0.8073548161295968, total=  16.8s\n",
      "[CV] rfcl__max_depth=500, rfcl__max_features=auto, rfcl__min_samples_leaf=10, rfcl__min_samples_split=300 \n"
     ]
    },
    {
     "name": "stderr",
     "output_type": "stream",
     "text": [
      "/Users/nivzz/anaconda3/lib/python3.7/site-packages/sklearn/ensemble/forest.py:246: FutureWarning: The default value of n_estimators will change from 10 in version 0.20 to 100 in 0.22.\n",
      "  \"10 in version 0.20 to 100 in 0.22.\", FutureWarning)\n"
     ]
    },
    {
     "name": "stdout",
     "output_type": "stream",
     "text": [
      "[CV]  rfcl__max_depth=500, rfcl__max_features=auto, rfcl__min_samples_leaf=10, rfcl__min_samples_split=300, score=0.8069701742543564, total=  17.2s\n",
      "[CV] rfcl__max_depth=500, rfcl__max_features=auto, rfcl__min_samples_leaf=10, rfcl__min_samples_split=500 \n"
     ]
    },
    {
     "name": "stderr",
     "output_type": "stream",
     "text": [
      "/Users/nivzz/anaconda3/lib/python3.7/site-packages/sklearn/ensemble/forest.py:246: FutureWarning: The default value of n_estimators will change from 10 in version 0.20 to 100 in 0.22.\n",
      "  \"10 in version 0.20 to 100 in 0.22.\", FutureWarning)\n"
     ]
    },
    {
     "name": "stdout",
     "output_type": "stream",
     "text": [
      "[CV]  rfcl__max_depth=500, rfcl__max_features=auto, rfcl__min_samples_leaf=10, rfcl__min_samples_split=500, score=0.8069048273793156, total=  17.2s\n",
      "[CV] rfcl__max_depth=500, rfcl__max_features=auto, rfcl__min_samples_leaf=10, rfcl__min_samples_split=500 \n"
     ]
    },
    {
     "name": "stderr",
     "output_type": "stream",
     "text": [
      "/Users/nivzz/anaconda3/lib/python3.7/site-packages/sklearn/ensemble/forest.py:246: FutureWarning: The default value of n_estimators will change from 10 in version 0.20 to 100 in 0.22.\n",
      "  \"10 in version 0.20 to 100 in 0.22.\", FutureWarning)\n"
     ]
    },
    {
     "name": "stdout",
     "output_type": "stream",
     "text": [
      "[CV]  rfcl__max_depth=500, rfcl__max_features=auto, rfcl__min_samples_leaf=10, rfcl__min_samples_split=500, score=0.8070701767544188, total=  17.6s\n",
      "[CV] rfcl__max_depth=500, rfcl__max_features=auto, rfcl__min_samples_leaf=10, rfcl__min_samples_split=1000 \n"
     ]
    },
    {
     "name": "stderr",
     "output_type": "stream",
     "text": [
      "/Users/nivzz/anaconda3/lib/python3.7/site-packages/sklearn/ensemble/forest.py:246: FutureWarning: The default value of n_estimators will change from 10 in version 0.20 to 100 in 0.22.\n",
      "  \"10 in version 0.20 to 100 in 0.22.\", FutureWarning)\n"
     ]
    },
    {
     "name": "stdout",
     "output_type": "stream",
     "text": [
      "[CV]  rfcl__max_depth=500, rfcl__max_features=auto, rfcl__min_samples_leaf=10, rfcl__min_samples_split=1000, score=0.807004824879378, total=  17.2s\n",
      "[CV] rfcl__max_depth=500, rfcl__max_features=auto, rfcl__min_samples_leaf=10, rfcl__min_samples_split=1000 \n"
     ]
    },
    {
     "name": "stderr",
     "output_type": "stream",
     "text": [
      "/Users/nivzz/anaconda3/lib/python3.7/site-packages/sklearn/ensemble/forest.py:246: FutureWarning: The default value of n_estimators will change from 10 in version 0.20 to 100 in 0.22.\n",
      "  \"10 in version 0.20 to 100 in 0.22.\", FutureWarning)\n"
     ]
    },
    {
     "name": "stdout",
     "output_type": "stream",
     "text": [
      "[CV]  rfcl__max_depth=500, rfcl__max_features=auto, rfcl__min_samples_leaf=10, rfcl__min_samples_split=1000, score=0.8070201755043876, total=  17.4s\n",
      "[CV] rfcl__max_depth=500, rfcl__max_features=auto, rfcl__min_samples_leaf=50, rfcl__min_samples_split=100 \n"
     ]
    },
    {
     "name": "stderr",
     "output_type": "stream",
     "text": [
      "/Users/nivzz/anaconda3/lib/python3.7/site-packages/sklearn/ensemble/forest.py:246: FutureWarning: The default value of n_estimators will change from 10 in version 0.20 to 100 in 0.22.\n",
      "  \"10 in version 0.20 to 100 in 0.22.\", FutureWarning)\n"
     ]
    },
    {
     "name": "stdout",
     "output_type": "stream",
     "text": [
      "[CV]  rfcl__max_depth=500, rfcl__max_features=auto, rfcl__min_samples_leaf=50, rfcl__min_samples_split=100, score=0.8069048273793156, total=  16.1s\n",
      "[CV] rfcl__max_depth=500, rfcl__max_features=auto, rfcl__min_samples_leaf=50, rfcl__min_samples_split=100 \n"
     ]
    },
    {
     "name": "stderr",
     "output_type": "stream",
     "text": [
      "/Users/nivzz/anaconda3/lib/python3.7/site-packages/sklearn/ensemble/forest.py:246: FutureWarning: The default value of n_estimators will change from 10 in version 0.20 to 100 in 0.22.\n",
      "  \"10 in version 0.20 to 100 in 0.22.\", FutureWarning)\n"
     ]
    },
    {
     "name": "stdout",
     "output_type": "stream",
     "text": [
      "[CV]  rfcl__max_depth=500, rfcl__max_features=auto, rfcl__min_samples_leaf=50, rfcl__min_samples_split=100, score=0.8069201730043251, total=  17.0s\n",
      "[CV] rfcl__max_depth=500, rfcl__max_features=auto, rfcl__min_samples_leaf=50, rfcl__min_samples_split=200 \n"
     ]
    },
    {
     "name": "stderr",
     "output_type": "stream",
     "text": [
      "/Users/nivzz/anaconda3/lib/python3.7/site-packages/sklearn/ensemble/forest.py:246: FutureWarning: The default value of n_estimators will change from 10 in version 0.20 to 100 in 0.22.\n",
      "  \"10 in version 0.20 to 100 in 0.22.\", FutureWarning)\n"
     ]
    },
    {
     "name": "stdout",
     "output_type": "stream",
     "text": [
      "[CV]  rfcl__max_depth=500, rfcl__max_features=auto, rfcl__min_samples_leaf=50, rfcl__min_samples_split=200, score=0.8069048273793156, total=  16.2s\n",
      "[CV] rfcl__max_depth=500, rfcl__max_features=auto, rfcl__min_samples_leaf=50, rfcl__min_samples_split=200 \n"
     ]
    },
    {
     "name": "stderr",
     "output_type": "stream",
     "text": [
      "/Users/nivzz/anaconda3/lib/python3.7/site-packages/sklearn/ensemble/forest.py:246: FutureWarning: The default value of n_estimators will change from 10 in version 0.20 to 100 in 0.22.\n",
      "  \"10 in version 0.20 to 100 in 0.22.\", FutureWarning)\n"
     ]
    },
    {
     "name": "stdout",
     "output_type": "stream",
     "text": [
      "[CV]  rfcl__max_depth=500, rfcl__max_features=auto, rfcl__min_samples_leaf=50, rfcl__min_samples_split=200, score=0.8069201730043251, total=  15.6s\n",
      "[CV] rfcl__max_depth=500, rfcl__max_features=auto, rfcl__min_samples_leaf=50, rfcl__min_samples_split=300 \n"
     ]
    },
    {
     "name": "stderr",
     "output_type": "stream",
     "text": [
      "/Users/nivzz/anaconda3/lib/python3.7/site-packages/sklearn/ensemble/forest.py:246: FutureWarning: The default value of n_estimators will change from 10 in version 0.20 to 100 in 0.22.\n",
      "  \"10 in version 0.20 to 100 in 0.22.\", FutureWarning)\n"
     ]
    },
    {
     "name": "stdout",
     "output_type": "stream",
     "text": [
      "[CV]  rfcl__max_depth=500, rfcl__max_features=auto, rfcl__min_samples_leaf=50, rfcl__min_samples_split=300, score=0.8069048273793156, total=  16.0s\n",
      "[CV] rfcl__max_depth=500, rfcl__max_features=auto, rfcl__min_samples_leaf=50, rfcl__min_samples_split=300 \n"
     ]
    },
    {
     "name": "stderr",
     "output_type": "stream",
     "text": [
      "/Users/nivzz/anaconda3/lib/python3.7/site-packages/sklearn/ensemble/forest.py:246: FutureWarning: The default value of n_estimators will change from 10 in version 0.20 to 100 in 0.22.\n",
      "  \"10 in version 0.20 to 100 in 0.22.\", FutureWarning)\n"
     ]
    },
    {
     "name": "stdout",
     "output_type": "stream",
     "text": [
      "[CV]  rfcl__max_depth=500, rfcl__max_features=auto, rfcl__min_samples_leaf=50, rfcl__min_samples_split=300, score=0.8069201730043251, total=  16.4s\n",
      "[CV] rfcl__max_depth=500, rfcl__max_features=auto, rfcl__min_samples_leaf=50, rfcl__min_samples_split=500 \n"
     ]
    },
    {
     "name": "stderr",
     "output_type": "stream",
     "text": [
      "/Users/nivzz/anaconda3/lib/python3.7/site-packages/sklearn/ensemble/forest.py:246: FutureWarning: The default value of n_estimators will change from 10 in version 0.20 to 100 in 0.22.\n",
      "  \"10 in version 0.20 to 100 in 0.22.\", FutureWarning)\n"
     ]
    },
    {
     "name": "stdout",
     "output_type": "stream",
     "text": [
      "[CV]  rfcl__max_depth=500, rfcl__max_features=auto, rfcl__min_samples_leaf=50, rfcl__min_samples_split=500, score=0.8069298267543311, total=  16.9s\n",
      "[CV] rfcl__max_depth=500, rfcl__max_features=auto, rfcl__min_samples_leaf=50, rfcl__min_samples_split=500 \n"
     ]
    },
    {
     "name": "stderr",
     "output_type": "stream",
     "text": [
      "/Users/nivzz/anaconda3/lib/python3.7/site-packages/sklearn/ensemble/forest.py:246: FutureWarning: The default value of n_estimators will change from 10 in version 0.20 to 100 in 0.22.\n",
      "  \"10 in version 0.20 to 100 in 0.22.\", FutureWarning)\n"
     ]
    },
    {
     "name": "stdout",
     "output_type": "stream",
     "text": [
      "[CV]  rfcl__max_depth=500, rfcl__max_features=auto, rfcl__min_samples_leaf=50, rfcl__min_samples_split=500, score=0.8069201730043251, total=  17.0s\n",
      "[CV] rfcl__max_depth=500, rfcl__max_features=auto, rfcl__min_samples_leaf=50, rfcl__min_samples_split=1000 \n"
     ]
    },
    {
     "name": "stderr",
     "output_type": "stream",
     "text": [
      "/Users/nivzz/anaconda3/lib/python3.7/site-packages/sklearn/ensemble/forest.py:246: FutureWarning: The default value of n_estimators will change from 10 in version 0.20 to 100 in 0.22.\n",
      "  \"10 in version 0.20 to 100 in 0.22.\", FutureWarning)\n"
     ]
    },
    {
     "name": "stdout",
     "output_type": "stream",
     "text": [
      "[CV]  rfcl__max_depth=500, rfcl__max_features=auto, rfcl__min_samples_leaf=50, rfcl__min_samples_split=1000, score=0.8069048273793156, total=  15.6s\n",
      "[CV] rfcl__max_depth=500, rfcl__max_features=auto, rfcl__min_samples_leaf=50, rfcl__min_samples_split=1000 \n"
     ]
    },
    {
     "name": "stderr",
     "output_type": "stream",
     "text": [
      "/Users/nivzz/anaconda3/lib/python3.7/site-packages/sklearn/ensemble/forest.py:246: FutureWarning: The default value of n_estimators will change from 10 in version 0.20 to 100 in 0.22.\n",
      "  \"10 in version 0.20 to 100 in 0.22.\", FutureWarning)\n"
     ]
    },
    {
     "name": "stdout",
     "output_type": "stream",
     "text": [
      "[CV]  rfcl__max_depth=500, rfcl__max_features=auto, rfcl__min_samples_leaf=50, rfcl__min_samples_split=1000, score=0.8069201730043251, total=  16.2s\n",
      "[CV] rfcl__max_depth=500, rfcl__max_features=20000, rfcl__min_samples_leaf=10, rfcl__min_samples_split=100 \n"
     ]
    },
    {
     "name": "stderr",
     "output_type": "stream",
     "text": [
      "/Users/nivzz/anaconda3/lib/python3.7/site-packages/sklearn/ensemble/forest.py:246: FutureWarning: The default value of n_estimators will change from 10 in version 0.20 to 100 in 0.22.\n",
      "  \"10 in version 0.20 to 100 in 0.22.\", FutureWarning)\n"
     ]
    },
    {
     "name": "stdout",
     "output_type": "stream",
     "text": [
      "[CV]  rfcl__max_depth=500, rfcl__max_features=20000, rfcl__min_samples_leaf=10, rfcl__min_samples_split=100, score=0.8230544236394091, total= 2.7min\n",
      "[CV] rfcl__max_depth=500, rfcl__max_features=20000, rfcl__min_samples_leaf=10, rfcl__min_samples_split=100 \n"
     ]
    },
    {
     "name": "stderr",
     "output_type": "stream",
     "text": [
      "/Users/nivzz/anaconda3/lib/python3.7/site-packages/sklearn/ensemble/forest.py:246: FutureWarning: The default value of n_estimators will change from 10 in version 0.20 to 100 in 0.22.\n",
      "  \"10 in version 0.20 to 100 in 0.22.\", FutureWarning)\n"
     ]
    },
    {
     "name": "stdout",
     "output_type": "stream",
     "text": [
      "[CV]  rfcl__max_depth=500, rfcl__max_features=20000, rfcl__min_samples_leaf=10, rfcl__min_samples_split=100, score=0.8231205780144504, total= 2.5min\n",
      "[CV] rfcl__max_depth=500, rfcl__max_features=20000, rfcl__min_samples_leaf=10, rfcl__min_samples_split=200 \n"
     ]
    },
    {
     "name": "stderr",
     "output_type": "stream",
     "text": [
      "/Users/nivzz/anaconda3/lib/python3.7/site-packages/sklearn/ensemble/forest.py:246: FutureWarning: The default value of n_estimators will change from 10 in version 0.20 to 100 in 0.22.\n",
      "  \"10 in version 0.20 to 100 in 0.22.\", FutureWarning)\n"
     ]
    },
    {
     "name": "stdout",
     "output_type": "stream",
     "text": [
      "[CV]  rfcl__max_depth=500, rfcl__max_features=20000, rfcl__min_samples_leaf=10, rfcl__min_samples_split=200, score=0.8221044473888153, total= 2.4min\n",
      "[CV] rfcl__max_depth=500, rfcl__max_features=20000, rfcl__min_samples_leaf=10, rfcl__min_samples_split=200 \n"
     ]
    },
    {
     "name": "stderr",
     "output_type": "stream",
     "text": [
      "/Users/nivzz/anaconda3/lib/python3.7/site-packages/sklearn/ensemble/forest.py:246: FutureWarning: The default value of n_estimators will change from 10 in version 0.20 to 100 in 0.22.\n",
      "  \"10 in version 0.20 to 100 in 0.22.\", FutureWarning)\n"
     ]
    },
    {
     "name": "stdout",
     "output_type": "stream",
     "text": [
      "[CV]  rfcl__max_depth=500, rfcl__max_features=20000, rfcl__min_samples_leaf=10, rfcl__min_samples_split=200, score=0.8223705592639816, total= 2.4min\n",
      "[CV] rfcl__max_depth=500, rfcl__max_features=20000, rfcl__min_samples_leaf=10, rfcl__min_samples_split=300 \n"
     ]
    },
    {
     "name": "stderr",
     "output_type": "stream",
     "text": [
      "/Users/nivzz/anaconda3/lib/python3.7/site-packages/sklearn/ensemble/forest.py:246: FutureWarning: The default value of n_estimators will change from 10 in version 0.20 to 100 in 0.22.\n",
      "  \"10 in version 0.20 to 100 in 0.22.\", FutureWarning)\n"
     ]
    },
    {
     "name": "stdout",
     "output_type": "stream",
     "text": [
      "[CV]  rfcl__max_depth=500, rfcl__max_features=20000, rfcl__min_samples_leaf=10, rfcl__min_samples_split=300, score=0.8220544486387841, total= 2.4min\n",
      "[CV] rfcl__max_depth=500, rfcl__max_features=20000, rfcl__min_samples_leaf=10, rfcl__min_samples_split=300 \n"
     ]
    },
    {
     "name": "stderr",
     "output_type": "stream",
     "text": [
      "/Users/nivzz/anaconda3/lib/python3.7/site-packages/sklearn/ensemble/forest.py:246: FutureWarning: The default value of n_estimators will change from 10 in version 0.20 to 100 in 0.22.\n",
      "  \"10 in version 0.20 to 100 in 0.22.\", FutureWarning)\n"
     ]
    },
    {
     "name": "stdout",
     "output_type": "stream",
     "text": [
      "[CV]  rfcl__max_depth=500, rfcl__max_features=20000, rfcl__min_samples_leaf=10, rfcl__min_samples_split=300, score=0.820745518637966, total= 2.4min\n",
      "[CV] rfcl__max_depth=500, rfcl__max_features=20000, rfcl__min_samples_leaf=10, rfcl__min_samples_split=500 \n"
     ]
    },
    {
     "name": "stderr",
     "output_type": "stream",
     "text": [
      "/Users/nivzz/anaconda3/lib/python3.7/site-packages/sklearn/ensemble/forest.py:246: FutureWarning: The default value of n_estimators will change from 10 in version 0.20 to 100 in 0.22.\n",
      "  \"10 in version 0.20 to 100 in 0.22.\", FutureWarning)\n"
     ]
    },
    {
     "name": "stdout",
     "output_type": "stream",
     "text": [
      "[CV]  rfcl__max_depth=500, rfcl__max_features=20000, rfcl__min_samples_leaf=10, rfcl__min_samples_split=500, score=0.8211794705132371, total= 2.2min\n",
      "[CV] rfcl__max_depth=500, rfcl__max_features=20000, rfcl__min_samples_leaf=10, rfcl__min_samples_split=500 \n"
     ]
    },
    {
     "name": "stderr",
     "output_type": "stream",
     "text": [
      "/Users/nivzz/anaconda3/lib/python3.7/site-packages/sklearn/ensemble/forest.py:246: FutureWarning: The default value of n_estimators will change from 10 in version 0.20 to 100 in 0.22.\n",
      "  \"10 in version 0.20 to 100 in 0.22.\", FutureWarning)\n"
     ]
    },
    {
     "name": "stdout",
     "output_type": "stream",
     "text": [
      "[CV]  rfcl__max_depth=500, rfcl__max_features=20000, rfcl__min_samples_leaf=10, rfcl__min_samples_split=500, score=0.8196954923873097, total= 2.2min\n",
      "[CV] rfcl__max_depth=500, rfcl__max_features=20000, rfcl__min_samples_leaf=10, rfcl__min_samples_split=1000 \n"
     ]
    },
    {
     "name": "stderr",
     "output_type": "stream",
     "text": [
      "/Users/nivzz/anaconda3/lib/python3.7/site-packages/sklearn/ensemble/forest.py:246: FutureWarning: The default value of n_estimators will change from 10 in version 0.20 to 100 in 0.22.\n",
      "  \"10 in version 0.20 to 100 in 0.22.\", FutureWarning)\n"
     ]
    },
    {
     "name": "stdout",
     "output_type": "stream",
     "text": [
      "[CV]  rfcl__max_depth=500, rfcl__max_features=20000, rfcl__min_samples_leaf=10, rfcl__min_samples_split=1000, score=0.8207544811379716, total= 1.9min\n",
      "[CV] rfcl__max_depth=500, rfcl__max_features=20000, rfcl__min_samples_leaf=10, rfcl__min_samples_split=1000 \n"
     ]
    },
    {
     "name": "stderr",
     "output_type": "stream",
     "text": [
      "/Users/nivzz/anaconda3/lib/python3.7/site-packages/sklearn/ensemble/forest.py:246: FutureWarning: The default value of n_estimators will change from 10 in version 0.20 to 100 in 0.22.\n",
      "  \"10 in version 0.20 to 100 in 0.22.\", FutureWarning)\n"
     ]
    },
    {
     "name": "stdout",
     "output_type": "stream",
     "text": [
      "[CV]  rfcl__max_depth=500, rfcl__max_features=20000, rfcl__min_samples_leaf=10, rfcl__min_samples_split=1000, score=0.819145478636966, total= 1.8min\n",
      "[CV] rfcl__max_depth=500, rfcl__max_features=20000, rfcl__min_samples_leaf=50, rfcl__min_samples_split=100 \n"
     ]
    },
    {
     "name": "stderr",
     "output_type": "stream",
     "text": [
      "/Users/nivzz/anaconda3/lib/python3.7/site-packages/sklearn/ensemble/forest.py:246: FutureWarning: The default value of n_estimators will change from 10 in version 0.20 to 100 in 0.22.\n",
      "  \"10 in version 0.20 to 100 in 0.22.\", FutureWarning)\n"
     ]
    },
    {
     "name": "stdout",
     "output_type": "stream",
     "text": [
      "[CV]  rfcl__max_depth=500, rfcl__max_features=20000, rfcl__min_samples_leaf=50, rfcl__min_samples_split=100, score=0.8196795080122997, total= 1.4min\n",
      "[CV] rfcl__max_depth=500, rfcl__max_features=20000, rfcl__min_samples_leaf=50, rfcl__min_samples_split=100 \n"
     ]
    },
    {
     "name": "stderr",
     "output_type": "stream",
     "text": [
      "/Users/nivzz/anaconda3/lib/python3.7/site-packages/sklearn/ensemble/forest.py:246: FutureWarning: The default value of n_estimators will change from 10 in version 0.20 to 100 in 0.22.\n",
      "  \"10 in version 0.20 to 100 in 0.22.\", FutureWarning)\n"
     ]
    },
    {
     "name": "stdout",
     "output_type": "stream",
     "text": [
      "[CV]  rfcl__max_depth=500, rfcl__max_features=20000, rfcl__min_samples_leaf=50, rfcl__min_samples_split=100, score=0.8178954473861847, total= 1.4min\n",
      "[CV] rfcl__max_depth=500, rfcl__max_features=20000, rfcl__min_samples_leaf=50, rfcl__min_samples_split=200 \n"
     ]
    },
    {
     "name": "stderr",
     "output_type": "stream",
     "text": [
      "/Users/nivzz/anaconda3/lib/python3.7/site-packages/sklearn/ensemble/forest.py:246: FutureWarning: The default value of n_estimators will change from 10 in version 0.20 to 100 in 0.22.\n",
      "  \"10 in version 0.20 to 100 in 0.22.\", FutureWarning)\n"
     ]
    },
    {
     "name": "stdout",
     "output_type": "stream",
     "text": [
      "[CV]  rfcl__max_depth=500, rfcl__max_features=20000, rfcl__min_samples_leaf=50, rfcl__min_samples_split=200, score=0.8180545486362841, total= 1.2min\n",
      "[CV] rfcl__max_depth=500, rfcl__max_features=20000, rfcl__min_samples_leaf=50, rfcl__min_samples_split=200 \n"
     ]
    },
    {
     "name": "stderr",
     "output_type": "stream",
     "text": [
      "/Users/nivzz/anaconda3/lib/python3.7/site-packages/sklearn/ensemble/forest.py:246: FutureWarning: The default value of n_estimators will change from 10 in version 0.20 to 100 in 0.22.\n",
      "  \"10 in version 0.20 to 100 in 0.22.\", FutureWarning)\n"
     ]
    },
    {
     "name": "stdout",
     "output_type": "stream",
     "text": [
      "[CV]  rfcl__max_depth=500, rfcl__max_features=20000, rfcl__min_samples_leaf=50, rfcl__min_samples_split=200, score=0.8158953973849347, total= 1.1min\n",
      "[CV] rfcl__max_depth=500, rfcl__max_features=20000, rfcl__min_samples_leaf=50, rfcl__min_samples_split=300 \n"
     ]
    },
    {
     "name": "stderr",
     "output_type": "stream",
     "text": [
      "/Users/nivzz/anaconda3/lib/python3.7/site-packages/sklearn/ensemble/forest.py:246: FutureWarning: The default value of n_estimators will change from 10 in version 0.20 to 100 in 0.22.\n",
      "  \"10 in version 0.20 to 100 in 0.22.\", FutureWarning)\n"
     ]
    },
    {
     "name": "stdout",
     "output_type": "stream",
     "text": [
      "[CV]  rfcl__max_depth=500, rfcl__max_features=20000, rfcl__min_samples_leaf=50, rfcl__min_samples_split=300, score=0.8180795480112997, total= 1.0min\n",
      "[CV] rfcl__max_depth=500, rfcl__max_features=20000, rfcl__min_samples_leaf=50, rfcl__min_samples_split=300 \n"
     ]
    },
    {
     "name": "stderr",
     "output_type": "stream",
     "text": [
      "/Users/nivzz/anaconda3/lib/python3.7/site-packages/sklearn/ensemble/forest.py:246: FutureWarning: The default value of n_estimators will change from 10 in version 0.20 to 100 in 0.22.\n",
      "  \"10 in version 0.20 to 100 in 0.22.\", FutureWarning)\n"
     ]
    },
    {
     "name": "stdout",
     "output_type": "stream",
     "text": [
      "[CV]  rfcl__max_depth=500, rfcl__max_features=20000, rfcl__min_samples_leaf=50, rfcl__min_samples_split=300, score=0.8167704192604816, total= 1.0min\n",
      "[CV] rfcl__max_depth=500, rfcl__max_features=20000, rfcl__min_samples_leaf=50, rfcl__min_samples_split=500 \n"
     ]
    },
    {
     "name": "stderr",
     "output_type": "stream",
     "text": [
      "/Users/nivzz/anaconda3/lib/python3.7/site-packages/sklearn/ensemble/forest.py:246: FutureWarning: The default value of n_estimators will change from 10 in version 0.20 to 100 in 0.22.\n",
      "  \"10 in version 0.20 to 100 in 0.22.\", FutureWarning)\n"
     ]
    },
    {
     "name": "stdout",
     "output_type": "stream",
     "text": [
      "[CV]  rfcl__max_depth=500, rfcl__max_features=20000, rfcl__min_samples_leaf=50, rfcl__min_samples_split=500, score=0.8169045773855653, total=  57.5s\n",
      "[CV] rfcl__max_depth=500, rfcl__max_features=20000, rfcl__min_samples_leaf=50, rfcl__min_samples_split=500 \n"
     ]
    },
    {
     "name": "stderr",
     "output_type": "stream",
     "text": [
      "/Users/nivzz/anaconda3/lib/python3.7/site-packages/sklearn/ensemble/forest.py:246: FutureWarning: The default value of n_estimators will change from 10 in version 0.20 to 100 in 0.22.\n",
      "  \"10 in version 0.20 to 100 in 0.22.\", FutureWarning)\n"
     ]
    },
    {
     "name": "stdout",
     "output_type": "stream",
     "text": [
      "[CV]  rfcl__max_depth=500, rfcl__max_features=20000, rfcl__min_samples_leaf=50, rfcl__min_samples_split=500, score=0.8149703742593565, total=  56.0s\n",
      "[CV] rfcl__max_depth=500, rfcl__max_features=20000, rfcl__min_samples_leaf=50, rfcl__min_samples_split=1000 \n"
     ]
    },
    {
     "name": "stderr",
     "output_type": "stream",
     "text": [
      "/Users/nivzz/anaconda3/lib/python3.7/site-packages/sklearn/ensemble/forest.py:246: FutureWarning: The default value of n_estimators will change from 10 in version 0.20 to 100 in 0.22.\n",
      "  \"10 in version 0.20 to 100 in 0.22.\", FutureWarning)\n"
     ]
    },
    {
     "name": "stdout",
     "output_type": "stream",
     "text": [
      "[CV]  rfcl__max_depth=500, rfcl__max_features=20000, rfcl__min_samples_leaf=50, rfcl__min_samples_split=1000, score=0.8172795680107997, total=  50.8s\n",
      "[CV] rfcl__max_depth=500, rfcl__max_features=20000, rfcl__min_samples_leaf=50, rfcl__min_samples_split=1000 \n"
     ]
    },
    {
     "name": "stderr",
     "output_type": "stream",
     "text": [
      "/Users/nivzz/anaconda3/lib/python3.7/site-packages/sklearn/ensemble/forest.py:246: FutureWarning: The default value of n_estimators will change from 10 in version 0.20 to 100 in 0.22.\n",
      "  \"10 in version 0.20 to 100 in 0.22.\", FutureWarning)\n"
     ]
    },
    {
     "name": "stdout",
     "output_type": "stream",
     "text": [
      "[CV]  rfcl__max_depth=500, rfcl__max_features=20000, rfcl__min_samples_leaf=50, rfcl__min_samples_split=1000, score=0.8149453736343408, total=  50.7s\n"
     ]
    },
    {
     "name": "stderr",
     "output_type": "stream",
     "text": [
      "[Parallel(n_jobs=1)]: Done 240 out of 240 | elapsed: 241.9min finished\n",
      "/Users/nivzz/anaconda3/lib/python3.7/site-packages/sklearn/ensemble/forest.py:246: FutureWarning: The default value of n_estimators will change from 10 in version 0.20 to 100 in 0.22.\n",
      "  \"10 in version 0.20 to 100 in 0.22.\", FutureWarning)\n"
     ]
    },
    {
     "name": "stdout",
     "output_type": "stream",
     "text": [
      "Best parameters set:\n",
      "[('vect', TfidfVectorizer(analyzer='word', binary=False, decode_error='strict',\n",
      "        dtype=<class 'numpy.float64'>, encoding='utf-8', input='content',\n",
      "        lowercase=True, max_df=1.0, max_features=None, min_df=1,\n",
      "        ngram_range=(1, 1), norm='l2', preprocessor=None, smooth_idf=True,\n",
      "        stop_words=None, strip_accents=None, sublinear_tf=False,\n",
      "        token_pattern='(?u)\\\\b\\\\w\\\\w+\\\\b', tokenizer=None, use_idf=True,\n",
      "        vocabulary=None)), ('rfcl', RandomForestClassifier(bootstrap=True, class_weight=None, criterion='gini',\n",
      "            max_depth=200, max_features=20000, max_leaf_nodes=None,\n",
      "            min_impurity_decrease=0.0, min_impurity_split=None,\n",
      "            min_samples_leaf=10, min_samples_split=100,\n",
      "            min_weight_fraction_leaf=0.0, n_estimators=10, n_jobs=None,\n",
      "            oob_score=False, random_state=None, verbose=0,\n",
      "            warm_start=False))]\n"
     ]
    }
   ],
   "source": [
    "# Grit Search for RF\n",
    "model_RF=Pipeline([('vect',TfidfVectorizer()),\n",
    "                ('rfcl',RandomForestClassifier())])\n",
    "parameters = {\n",
    "    'rfcl__max_features': ['auto',20000], \n",
    "    'rfcl__min_samples_leaf':[10,50],\n",
    "    'rfcl__min_samples_split':[100,200,300,500,1000],\n",
    "    'rfcl__max_depth':[10,50,100,200,300,500]\n",
    "}\n",
    "grid_search_tune = GridSearchCV(model_RF, parameters, cv=2,verbose=3)\n",
    "grid_search_tune.fit(X_train, y_train)\n",
    "\n",
    "print(\"Best parameters set:\")\n",
    "print(grid_search_tune.best_estimator_.steps)"
   ]
  },
  {
   "cell_type": "code",
   "execution_count": 173,
   "metadata": {},
   "outputs": [
    {
     "name": "stdout",
     "output_type": "stream",
     "text": [
      "Fitting 2 folds for each of 5 candidates, totalling 10 fits\n"
     ]
    },
    {
     "name": "stderr",
     "output_type": "stream",
     "text": [
      "[Parallel(n_jobs=1)]: Using backend SequentialBackend with 1 concurrent workers.\n"
     ]
    },
    {
     "name": "stdout",
     "output_type": "stream",
     "text": [
      "[CV] lrcl__C=1 .......................................................\n"
     ]
    },
    {
     "name": "stderr",
     "output_type": "stream",
     "text": [
      "/Users/nivzz/anaconda3/lib/python3.7/site-packages/sklearn/linear_model/logistic.py:433: FutureWarning: Default solver will be changed to 'lbfgs' in 0.22. Specify a solver to silence this warning.\n",
      "  FutureWarning)\n",
      "/Users/nivzz/anaconda3/lib/python3.7/site-packages/sklearn/linear_model/logistic.py:460: FutureWarning: Default multi_class will be changed to 'auto' in 0.22. Specify the multi_class option to silence this warning.\n",
      "  \"this warning.\", FutureWarning)\n"
     ]
    },
    {
     "name": "stdout",
     "output_type": "stream",
     "text": [
      "[CV] .............. lrcl__C=1, score=0.8506787330316742, total=  22.4s\n",
      "[CV] lrcl__C=1 .......................................................\n"
     ]
    },
    {
     "name": "stderr",
     "output_type": "stream",
     "text": [
      "[Parallel(n_jobs=1)]: Done   1 out of   1 | elapsed:   31.3s remaining:    0.0s\n"
     ]
    },
    {
     "name": "stdout",
     "output_type": "stream",
     "text": [
      "[CV] .............. lrcl__C=1, score=0.8508462711567789, total=  22.4s\n",
      "[CV] lrcl__C=3 .......................................................\n"
     ]
    },
    {
     "name": "stderr",
     "output_type": "stream",
     "text": [
      "[Parallel(n_jobs=1)]: Done   2 out of   2 | elapsed:  1.1min remaining:    0.0s\n"
     ]
    },
    {
     "name": "stdout",
     "output_type": "stream",
     "text": [
      "[CV] .............. lrcl__C=3, score=0.8550286242843929, total=  31.0s\n",
      "[CV] lrcl__C=3 .......................................................\n",
      "[CV] .............. lrcl__C=3, score=0.8547213680342008, total=  34.2s\n",
      "[CV] lrcl__C=10 ......................................................\n",
      "[CV] ............. lrcl__C=10, score=0.8535786605334866, total=  37.9s\n",
      "[CV] lrcl__C=10 ......................................................\n",
      "[CV] ............. lrcl__C=10, score=0.8521963049076227, total=  43.4s\n",
      "[CV] lrcl__C=11 ......................................................\n",
      "[CV] ............. lrcl__C=11, score=0.8530536736581585, total=  38.2s\n",
      "[CV] lrcl__C=11 ......................................................\n",
      "[CV] ............. lrcl__C=11, score=0.8519962999074977, total=  26.5s\n",
      "[CV] lrcl__C=12 ......................................................\n",
      "[CV] ............. lrcl__C=12, score=0.8526036849078773, total=  32.3s\n",
      "[CV] lrcl__C=12 ......................................................\n",
      "[CV] ............. lrcl__C=12, score=0.8512212805320133, total=  30.1s\n"
     ]
    },
    {
     "name": "stderr",
     "output_type": "stream",
     "text": [
      "[Parallel(n_jobs=1)]: Done  10 out of  10 | elapsed:  7.1min finished\n"
     ]
    },
    {
     "name": "stdout",
     "output_type": "stream",
     "text": [
      "Best parameters set:\n",
      "[('vect', TfidfVectorizer(analyzer='word', binary=False, decode_error='strict',\n",
      "        dtype=<class 'numpy.float64'>, encoding='utf-8', input='content',\n",
      "        lowercase=True, max_df=1.0, max_features=None, min_df=1,\n",
      "        ngram_range=(1, 1), norm='l2', preprocessor=None, smooth_idf=True,\n",
      "        stop_words=None, strip_accents=None, sublinear_tf=False,\n",
      "        token_pattern='(?u)\\\\b\\\\w\\\\w+\\\\b', tokenizer=None, use_idf=True,\n",
      "        vocabulary=None)), ('lrcl', LogisticRegression(C=3, class_weight=None, dual=False, fit_intercept=True,\n",
      "          intercept_scaling=1, max_iter=100, multi_class='warn',\n",
      "          n_jobs=None, penalty='l2', random_state=None, solver='warn',\n",
      "          tol=0.0001, verbose=0, warm_start=False))]\n"
     ]
    }
   ],
   "source": [
    "# Grit Search for Logistic R\n",
    "model_LR=Pipeline([('vect',TfidfVectorizer()),\n",
    "                ('lrcl',LogisticRegression())])\n",
    "parameters = {\n",
    "    'lrcl__C':[1,3,10,11,12]\n",
    "}\n",
    "grid_search_tune = GridSearchCV(model_LR, parameters, cv=2,verbose=3)\n",
    "grid_search_tune.fit(X_train, y_train)\n",
    "\n",
    "print(\"Best parameters set:\")\n",
    "print(grid_search_tune.best_estimator_.steps)"
   ]
  },
  {
   "cell_type": "code",
   "execution_count": null,
   "metadata": {},
   "outputs": [],
   "source": [
    "'rfcl__max_features': ['auto',20000,40000,70000], \n",
    "    'vect__max_df':[.95],\n",
    "            \n",
    "    'vect__min_df':[5]\n",
    "    'rfcl__min_samples_leaf':[10,50,100],\n",
    "    'rfcl__min_samples_split':[100,200,300,500,1000],\n",
    "    'rfcl__max_depth':[50,100,200,300,500],"
   ]
  },
  {
   "cell_type": "code",
   "execution_count": 65,
   "metadata": {},
   "outputs": [
    {
     "data": {
      "text/plain": [
       "79943"
      ]
     },
     "execution_count": 65,
     "metadata": {},
     "output_type": "execute_result"
    }
   ],
   "source": [
    "len(set(X_train))"
   ]
  },
  {
   "cell_type": "code",
   "execution_count": null,
   "metadata": {},
   "outputs": [],
   "source": [
    "# Grit Search for Rand\n",
    "model_LR=Pipeline([('vect',TfidfVectorizer()),\n",
    "                ('lrcl',LogisticRegression())])\n",
    "parameters = {\n",
    "    'lrcl__C':[1,3,10,11,12]\n",
    "}\n",
    "grid_search_tune = GridSearchCV(model_LR, parameters, cv=2,verbose=3)\n",
    "grid_search_tune.fit(X_train, y_train)\n",
    "\n",
    "print(\"Best parameters set:\")\n",
    "print(grid_search_tune.best_estimator_.steps)"
   ]
  },
  {
   "cell_type": "code",
   "execution_count": 174,
   "metadata": {},
   "outputs": [
    {
     "name": "stdout",
     "output_type": "stream",
     "text": [
      "For modelPipeline(memory=None,\n",
      "     steps=[('vect', TfidfVectorizer(analyzer='word', binary=False, decode_error='strict',\n",
      "        dtype=<class 'numpy.float64'>, encoding='utf-8', input='content',\n",
      "        lowercase=True, max_df=1.0, max_features=None, min_df=1,\n",
      "        ngram_range=(1, 1), norm='l2', preprocessor=None, smooth_idf=True,\n",
      "...penalty='l2', random_state=None, solver='warn',\n",
      "          tol=0.0001, verbose=0, warm_start=False))])Accuracy achieved is0.8585\n",
      "Classification report:              precision    recall  f1-score   support\n",
      "\n",
      "    Negative       0.72      0.56      0.63      2265\n",
      "     Neutral       0.40      0.08      0.14      1596\n",
      "    Positive       0.88      0.98      0.93     16139\n",
      "\n",
      "   micro avg       0.86      0.86      0.86     20000\n",
      "   macro avg       0.67      0.54      0.56     20000\n",
      "weighted avg       0.82      0.86      0.83     20000\n",
      "\n"
     ]
    }
   ],
   "source": [
    "model_LR=Pipeline([('vect',TfidfVectorizer()),\n",
    "                ('rfcl',LogisticRegression(C=3))])\n",
    "model_LR.fit(X_train,y_train)\n",
    "predict=model_LR.predict(X_test)\n",
    "print('For model'+ str(model_LR)+ 'Accuracy achieved is'+str(accuracy_score(y_test,predict)))\n",
    "print('Classification report:'+ str(metrics.classification_report(y_test,predict)))"
   ]
  },
  {
   "cell_type": "code",
   "execution_count": 178,
   "metadata": {},
   "outputs": [
    {
     "data": {
      "text/plain": [
       "array([[ 1.15234197, -1.46096947,  0.2188859 , ..., -0.00345487,\n",
       "        -0.00520717, -0.01348298],\n",
       "       [ 0.04091029, -1.07805946, -0.05352214, ..., -0.00355119,\n",
       "        -0.05306403, -0.04802534],\n",
       "       [-0.64890779,  1.98365485, -0.14591878, ...,  0.004387  ,\n",
       "         0.03123543,  0.03876028]])"
      ]
     },
     "execution_count": 178,
     "metadata": {},
     "output_type": "execute_result"
    }
   ],
   "source": [
    "importance=model_LR.steps[1][1].coef_\n",
    "importance."
   ]
  },
  {
   "cell_type": "code",
   "execution_count": null,
   "metadata": {},
   "outputs": [],
   "source": []
  },
  {
   "cell_type": "code",
   "execution_count": 71,
   "metadata": {},
   "outputs": [
    {
     "name": "stderr",
     "output_type": "stream",
     "text": [
      "/Users/nivzz/anaconda3/lib/python3.7/site-packages/sklearn/ensemble/forest.py:246: FutureWarning: The default value of n_estimators will change from 10 in version 0.20 to 100 in 0.22.\n",
      "  \"10 in version 0.20 to 100 in 0.22.\", FutureWarning)\n"
     ]
    },
    {
     "name": "stdout",
     "output_type": "stream",
     "text": [
      "For modelPipeline(memory=None,\n",
      "     steps=[('vect', TfidfVectorizer(analyzer='word', binary=False, decode_error='strict',\n",
      "        dtype=<class 'numpy.float64'>, encoding='utf-8', input='content',\n",
      "        lowercase=True, max_df=1.0, max_features=None, min_df=1,\n",
      "        ngram_range=(1, 1), norm='l2', preprocessor=None, smooth_idf=True,\n",
      "...obs=None,\n",
      "            oob_score=False, random_state=None, verbose=0,\n",
      "            warm_start=False))])Accuracy achieved is0.8152\n",
      "Classification report:              precision    recall  f1-score   support\n",
      "\n",
      "    Negative       0.66      0.12      0.21      2265\n",
      "     Neutral       0.14      0.00      0.01      1596\n",
      "    Positive       0.82      0.99      0.90     16139\n",
      "\n",
      "   micro avg       0.82      0.82      0.82     20000\n",
      "   macro avg       0.54      0.37      0.37     20000\n",
      "weighted avg       0.75      0.82      0.75     20000\n",
      "\n"
     ]
    }
   ],
   "source": [
    "model_RF=Pipeline([('vect',TfidfVectorizer()),\n",
    "                ('rfcl',RandomForestClassifier())])\n",
    "model_RF.fit(X_train,y_train)\n",
    "predict=model_RF.predict(X_test)\n",
    "print('For model'+ str(model_RF)+ 'Accuracy achieved is'+ str(accuracy_score(y_test,predict)))\n",
    "print('Classification report:'+ str(metrics.classification_report(y_test,predict)))"
   ]
  },
  {
   "cell_type": "code",
   "execution_count": 88,
   "metadata": {},
   "outputs": [],
   "source": [
    "from wordcloud import WordCloud, STOPWORDS \n",
    "stopwords = set(STOPWORDS)\n",
    "import unidecode\n",
    "import nltk"
   ]
  },
  {
   "cell_type": "code",
   "execution_count": 123,
   "metadata": {},
   "outputs": [],
   "source": [
    "pcom=[]\n",
    "for sent in p_comments:\n",
    "    unaccented_com = unidecode.unidecode(sent)\n",
    "    pcom.append(unaccented_com)\n",
    "token_com= [[word.lower() for word in comment.split() if word not in stopwords] for comment in pcom ]\n"
   ]
  },
  {
   "cell_type": "code",
   "execution_count": 126,
   "metadata": {},
   "outputs": [],
   "source": [
    "rem=[[word for word in token_sent if word not in stopwords] for token_sent in token_com]"
   ]
  },
  {
   "cell_type": "code",
   "execution_count": 109,
   "metadata": {},
   "outputs": [],
   "source": []
  },
  {
   "cell_type": "code",
   "execution_count": 185,
   "metadata": {},
   "outputs": [
    {
     "data": {
      "image/png": "[encoded data removed]",
      "text/plain": [
       "<Figure size 576x576 with 1 Axes>"
      ]
     },
     "metadata": {
      "needs_background": "light"
     },
     "output_type": "display_data"
    }
   ],
   "source": [
    "from nltk.corpus import stopwords\n",
    "stopwords_ = set(stopwords.words('english'))\n",
    "\n",
    "\n",
    "comment_words = ' '\n",
    "for val in p_comments: \n",
    "      \n",
    "    # typecaste each val to string \n",
    "    val = str(val) \n",
    "  \n",
    "    # split the value \n",
    "    tokens = val.split() \n",
    "      \n",
    "    # Converts each token into lowercase \n",
    "    for i in range(len(tokens)): \n",
    "        tokens[i] = tokens[i].lower() \n",
    "      \n",
    "    comment_words += \" \".join(tokens)+\" \"\n",
    "  \n",
    "wordcloud = WordCloud(width = 800, height = 800, \n",
    "                background_color ='white', \n",
    "                stopwords = stopwords_,\n",
    "                max_words = 100,      \n",
    "                min_word_length=8,\n",
    "                min_font_size=5).generate(comment_words) \n",
    "  \n",
    "# plot the WordCloud image                        \n",
    "plt.figure(figsize = (8, 8), facecolor = None) \n",
    "plt.imshow(wordcloud) \n",
    "plt.axis(\"off\") \n",
    "plt.tight_layout(pad = 0) \n",
    "  \n",
    "plt.show() "
   ]
  },
  {
   "cell_type": "code",
   "execution_count": 187,
   "metadata": {},
   "outputs": [
    {
     "data": {
      "image/png": "[encoded data removed]",
      "text/plain": [
       "<Figure size 576x576 with 1 Axes>"
      ]
     },
     "metadata": {
      "needs_background": "light"
     },
     "output_type": "display_data"
    }
   ],
   "source": [
    "comment_words = ' '\n",
    "for val in N_comments: \n",
    "      \n",
    "    # typecaste each val to string \n",
    "    val = str(val) \n",
    "  \n",
    "    # split the value \n",
    "    tokens = val.split() \n",
    "      \n",
    "    # Converts each token into lowercase \n",
    "    for i in range(len(tokens)): \n",
    "        tokens[i] = tokens[i].lower() \n",
    "      \n",
    "    comment_words += \" \".join(tokens)+\" \"\n",
    "  \n",
    "wordcloud = WordCloud(width = 800, height = 800, \n",
    "                background_color ='white', \n",
    "                stopwords = stopwords_,\n",
    "                max_words = 50,      \n",
    "                min_word_length=7,\n",
    "                min_font_size=10).generate(comment_words) \n",
    "  \n",
    "# plot the WordCloud image                        \n",
    "plt.figure(figsize = (8, 8), facecolor = None) \n",
    "plt.imshow(wordcloud) \n",
    "plt.axis(\"off\") \n",
    "plt.tight_layout(pad = 0) \n",
    "  \n",
    "plt.show() "
   ]
  },
  {
   "cell_type": "code",
   "execution_count": 188,
   "metadata": {},
   "outputs": [],
   "source": [
    "from nltk.corpus import wordnet\n",
    "\n",
    "def get_wordnet_pos(pos_tag):\n",
    "    if pos_tag.startswith('J'):\n",
    "        return wordnet.ADJ\n",
    "    elif pos_tag.startswith('V'):\n",
    "        return wordnet.VERB\n",
    "    elif pos_tag.startswith('N'):\n",
    "        return wordnet.NOUN\n",
    "    elif pos_tag.startswith('R'):\n",
    "        return wordnet.ADV\n",
    "    else:\n",
    "        return wordnet.NOUN\n",
    "    \n",
    "import string\n",
    "from nltk import pos_tag\n",
    "from nltk.corpus import stopwords\n",
    "from nltk.tokenize import WhitespaceTokenizer\n",
    "from nltk.stem import WordNetLemmatizer\n",
    "\n",
    "def clean_text(text):\n",
    "    # lower text\n",
    "    text = text.lower()\n",
    "    # tokenize text and remove puncutation\n",
    "    text = [word.strip(string.punctuation) for word in text.split(\" \")]\n",
    "    # remove words that contain numbers\n",
    "    text = [word for word in text if not any(c.isdigit() for c in word)]\n",
    "    # remove stop words\n",
    "    stop = stopwords.words('english')\n",
    "    text = [x for x in text if x not in stop]\n",
    "    # remove empty tokens\n",
    "    text = [t for t in text if len(t) > 0]\n",
    "    # pos tag text\n",
    "    pos_tags = pos_tag(text)\n",
    "    # lemmatize text\n",
    "    text = [WordNetLemmatizer().lemmatize(t[0], get_wordnet_pos(t[1])) for t in pos_tags]\n",
    "    # remove words with only one letter\n",
    "    text = [t for t in text if len(t) > 1]\n",
    "    # join all\n",
    "    text = \" \".join(text)\n",
    "    return(text)\n"
   ]
  },
  {
   "cell_type": "code",
   "execution_count": 189,
   "metadata": {},
   "outputs": [],
   "source": [
    "data_test=data.iloc[:100,:]"
   ]
  },
  {
   "cell_type": "code",
   "execution_count": 196,
   "metadata": {},
   "outputs": [
    {
     "name": "stderr",
     "output_type": "stream",
     "text": [
      "[nltk_data] Downloading package stopwords to /Users/nivzz/nltk_data...\n",
      "[nltk_data]   Package stopwords is already up-to-date!\n",
      "[nltk_data] Downloading package punkt to /Users/nivzz/nltk_data...\n",
      "[nltk_data]   Package punkt is already up-to-date!\n",
      "[nltk_data] Downloading package averaged_perceptron_tagger to\n",
      "[nltk_data]     /Users/nivzz/nltk_data...\n",
      "[nltk_data]   Package averaged_perceptron_tagger is already up-to-\n",
      "[nltk_data]       date!\n",
      "[nltk_data] Downloading package maxent_treebank_pos_tagger to\n",
      "[nltk_data]     /Users/nivzz/nltk_data...\n",
      "[nltk_data]   Package maxent_treebank_pos_tagger is already up-to-\n",
      "[nltk_data]       date!\n"
     ]
    },
    {
     "data": {
      "text/plain": [
       "True"
      ]
     },
     "execution_count": 196,
     "metadata": {},
     "output_type": "execute_result"
    }
   ],
   "source": [
    "import nltk\n",
    "nltk.download('stopwords')\n",
    "nltk.download('punkt')\n",
    "nltk.download('averaged_perceptron_tagger')\n",
    "nltk.download('maxent_treebank_pos_tagger')"
   ]
  },
  {
   "cell_type": "code",
   "execution_count": 197,
   "metadata": {},
   "outputs": [
    {
     "name": "stderr",
     "output_type": "stream",
     "text": [
      "[nltk_data] Downloading package wordnet to /Users/nivzz/nltk_data...\n",
      "[nltk_data]   Unzipping corpora/wordnet.zip.\n"
     ]
    },
    {
     "data": {
      "text/plain": [
       "True"
      ]
     },
     "execution_count": 197,
     "metadata": {},
     "output_type": "execute_result"
    }
   ],
   "source": [
    "nltk.download('wordnet')"
   ]
  },
  {
   "cell_type": "code",
   "execution_count": 206,
   "metadata": {},
   "outputs": [],
   "source": [
    "# clean text data\n",
    "data[\"review_clean\"] = data[\"reviewText\"].apply(lambda x: clean_text(x))"
   ]
  },
  {
   "cell_type": "code",
   "execution_count": 207,
   "metadata": {},
   "outputs": [],
   "source": [
    "testdoc=data['review_clean']\n",
    "testydoc=data['Sentiment']\n",
    "\n",
    "Xtrain,xtest,ytrain,ytest=train_test_split(testdoc,testydoc)"
   ]
  },
  {
   "cell_type": "code",
   "execution_count": 208,
   "metadata": {},
   "outputs": [
    {
     "name": "stdout",
     "output_type": "stream",
     "text": [
      "For modelPipeline(memory=None,\n",
      "     steps=[('vect', TfidfVectorizer(analyzer='word', binary=False, decode_error='strict',\n",
      "        dtype=<class 'numpy.float64'>, encoding='utf-8', input='content',\n",
      "        lowercase=True, max_df=1.0, max_features=None, min_df=1,\n",
      "        ngram_range=(1, 1), norm='l2', preprocessor=None, smooth_idf=True,\n",
      "...penalty='l2', random_state=None, solver='warn',\n",
      "          tol=0.0001, verbose=0, warm_start=False))])Accuracy achieved is0.853\n",
      "Classification report:              precision    recall  f1-score   support\n",
      "\n",
      "    Negative       0.71      0.53      0.61      2898\n",
      "     Neutral       0.35      0.06      0.10      1963\n",
      "    Positive       0.87      0.98      0.92     20139\n",
      "\n",
      "   micro avg       0.85      0.85      0.85     25000\n",
      "   macro avg       0.64      0.52      0.54     25000\n",
      "weighted avg       0.81      0.85      0.82     25000\n",
      "\n"
     ]
    }
   ],
   "source": [
    "#testing LR with clean data\n",
    "model_LR=Pipeline([('vect',TfidfVectorizer()),\n",
    "                ('rfcl',LogisticRegression(C=3))])\n",
    "model_LR.fit(Xtrain,ytrain)\n",
    "predicttest=model_LR.predict(xtest)\n",
    "print('For model'+ str(model_LR)+ 'Accuracy achieved is'+str(accuracy_score(ytest,predicttest)))\n",
    "print('Classification report:'+ str(metrics.classification_report(ytest,predicttest)))"
   ]
  },
  {
   "cell_type": "code",
   "execution_count": 214,
   "metadata": {},
   "outputs": [
    {
     "data": {
      "text/plain": [
       "Positive    64553\n",
       "Negative     9061\n",
       "Neutral      6386\n",
       "Name: Sentiment, dtype: int64"
      ]
     },
     "execution_count": 214,
     "metadata": {},
     "output_type": "execute_result"
    }
   ],
   "source": [
    "y_train.value_counts()"
   ]
  },
  {
   "cell_type": "code",
   "execution_count": 215,
   "metadata": {},
   "outputs": [
    {
     "ename": "ImportError",
     "evalue": "cannot import name 'MultiOutputMixin' from 'sklearn.base' (/Users/nivzz/anaconda3/lib/python3.7/site-packages/sklearn/base.py)",
     "output_type": "error",
     "traceback": [
      "\u001b[0;31m---------------------------------------------------------------------------\u001b[0m",
      "\u001b[0;31mImportError\u001b[0m                               Traceback (most recent call last)",
      "\u001b[0;32m<ipython-input-215-f327d60d7013>\u001b[0m in \u001b[0;36m<module>\u001b[0;34m\u001b[0m\n\u001b[0;32m----> 1\u001b[0;31m \u001b[0;32mimport\u001b[0m \u001b[0mimblearn\u001b[0m\u001b[0;34m\u001b[0m\u001b[0;34m\u001b[0m\u001b[0m\n\u001b[0m",
      "\u001b[0;32m~/anaconda3/lib/python3.7/site-packages/imblearn/__init__.py\u001b[0m in \u001b[0;36m<module>\u001b[0;34m\u001b[0m\n\u001b[1;32m     32\u001b[0m     \u001b[0mModule\u001b[0m \u001b[0mwhich\u001b[0m \u001b[0mallowing\u001b[0m \u001b[0mto\u001b[0m \u001b[0mcreate\u001b[0m \u001b[0mpipeline\u001b[0m \u001b[0;32mwith\u001b[0m \u001b[0mscikit\u001b[0m\u001b[0;34m-\u001b[0m\u001b[0mlearn\u001b[0m \u001b[0mestimators\u001b[0m\u001b[0;34m.\u001b[0m\u001b[0;34m\u001b[0m\u001b[0;34m\u001b[0m\u001b[0m\n\u001b[1;32m     33\u001b[0m \"\"\"\n\u001b[0;32m---> 34\u001b[0;31m \u001b[0;32mfrom\u001b[0m \u001b[0;34m.\u001b[0m \u001b[0;32mimport\u001b[0m \u001b[0mcombine\u001b[0m\u001b[0;34m\u001b[0m\u001b[0;34m\u001b[0m\u001b[0m\n\u001b[0m\u001b[1;32m     35\u001b[0m \u001b[0;32mfrom\u001b[0m \u001b[0;34m.\u001b[0m \u001b[0;32mimport\u001b[0m \u001b[0mensemble\u001b[0m\u001b[0;34m\u001b[0m\u001b[0;34m\u001b[0m\u001b[0m\n\u001b[1;32m     36\u001b[0m \u001b[0;32mfrom\u001b[0m \u001b[0;34m.\u001b[0m \u001b[0;32mimport\u001b[0m \u001b[0mexceptions\u001b[0m\u001b[0;34m\u001b[0m\u001b[0;34m\u001b[0m\u001b[0m\n",
      "\u001b[0;32m~/anaconda3/lib/python3.7/site-packages/imblearn/combine/__init__.py\u001b[0m in \u001b[0;36m<module>\u001b[0;34m\u001b[0m\n\u001b[1;32m      3\u001b[0m \"\"\"\n\u001b[1;32m      4\u001b[0m \u001b[0;34m\u001b[0m\u001b[0m\n\u001b[0;32m----> 5\u001b[0;31m \u001b[0;32mfrom\u001b[0m \u001b[0;34m.\u001b[0m\u001b[0m_smote_enn\u001b[0m \u001b[0;32mimport\u001b[0m \u001b[0mSMOTEENN\u001b[0m\u001b[0;34m\u001b[0m\u001b[0;34m\u001b[0m\u001b[0m\n\u001b[0m\u001b[1;32m      6\u001b[0m \u001b[0;32mfrom\u001b[0m \u001b[0;34m.\u001b[0m\u001b[0m_smote_tomek\u001b[0m \u001b[0;32mimport\u001b[0m \u001b[0mSMOTETomek\u001b[0m\u001b[0;34m\u001b[0m\u001b[0;34m\u001b[0m\u001b[0m\n\u001b[1;32m      7\u001b[0m \u001b[0;34m\u001b[0m\u001b[0m\n",
      "\u001b[0;32m~/anaconda3/lib/python3.7/site-packages/imblearn/combine/_smote_enn.py\u001b[0m in \u001b[0;36m<module>\u001b[0;34m\u001b[0m\n\u001b[1;32m      8\u001b[0m \u001b[0;32mfrom\u001b[0m \u001b[0msklearn\u001b[0m\u001b[0;34m.\u001b[0m\u001b[0mutils\u001b[0m \u001b[0;32mimport\u001b[0m \u001b[0mcheck_X_y\u001b[0m\u001b[0;34m\u001b[0m\u001b[0;34m\u001b[0m\u001b[0m\n\u001b[1;32m      9\u001b[0m \u001b[0;34m\u001b[0m\u001b[0m\n\u001b[0;32m---> 10\u001b[0;31m \u001b[0;32mfrom\u001b[0m \u001b[0;34m.\u001b[0m\u001b[0;34m.\u001b[0m\u001b[0mbase\u001b[0m \u001b[0;32mimport\u001b[0m \u001b[0mBaseSampler\u001b[0m\u001b[0;34m\u001b[0m\u001b[0;34m\u001b[0m\u001b[0m\n\u001b[0m\u001b[1;32m     11\u001b[0m \u001b[0;32mfrom\u001b[0m \u001b[0;34m.\u001b[0m\u001b[0;34m.\u001b[0m\u001b[0mover_sampling\u001b[0m \u001b[0;32mimport\u001b[0m \u001b[0mSMOTE\u001b[0m\u001b[0;34m\u001b[0m\u001b[0;34m\u001b[0m\u001b[0m\n\u001b[1;32m     12\u001b[0m \u001b[0;32mfrom\u001b[0m \u001b[0;34m.\u001b[0m\u001b[0;34m.\u001b[0m\u001b[0mover_sampling\u001b[0m\u001b[0;34m.\u001b[0m\u001b[0mbase\u001b[0m \u001b[0;32mimport\u001b[0m \u001b[0mBaseOverSampler\u001b[0m\u001b[0;34m\u001b[0m\u001b[0;34m\u001b[0m\u001b[0m\n",
      "\u001b[0;32m~/anaconda3/lib/python3.7/site-packages/imblearn/base.py\u001b[0m in \u001b[0;36m<module>\u001b[0;34m\u001b[0m\n\u001b[1;32m     14\u001b[0m \u001b[0;32mfrom\u001b[0m \u001b[0msklearn\u001b[0m\u001b[0;34m.\u001b[0m\u001b[0mutils\u001b[0m\u001b[0;34m.\u001b[0m\u001b[0mmulticlass\u001b[0m \u001b[0;32mimport\u001b[0m \u001b[0mcheck_classification_targets\u001b[0m\u001b[0;34m\u001b[0m\u001b[0;34m\u001b[0m\u001b[0m\n\u001b[1;32m     15\u001b[0m \u001b[0;34m\u001b[0m\u001b[0m\n\u001b[0;32m---> 16\u001b[0;31m \u001b[0;32mfrom\u001b[0m \u001b[0;34m.\u001b[0m\u001b[0mutils\u001b[0m \u001b[0;32mimport\u001b[0m \u001b[0mcheck_sampling_strategy\u001b[0m\u001b[0;34m,\u001b[0m \u001b[0mcheck_target_type\u001b[0m\u001b[0;34m\u001b[0m\u001b[0;34m\u001b[0m\u001b[0m\n\u001b[0m\u001b[1;32m     17\u001b[0m \u001b[0;32mfrom\u001b[0m \u001b[0;34m.\u001b[0m\u001b[0mutils\u001b[0m\u001b[0;34m.\u001b[0m\u001b[0m_validation\u001b[0m \u001b[0;32mimport\u001b[0m \u001b[0mArraysTransformer\u001b[0m\u001b[0;34m\u001b[0m\u001b[0;34m\u001b[0m\u001b[0m\n\u001b[1;32m     18\u001b[0m \u001b[0;34m\u001b[0m\u001b[0m\n",
      "\u001b[0;32m~/anaconda3/lib/python3.7/site-packages/imblearn/utils/__init__.py\u001b[0m in \u001b[0;36m<module>\u001b[0;34m\u001b[0m\n\u001b[1;32m      5\u001b[0m \u001b[0;32mfrom\u001b[0m \u001b[0;34m.\u001b[0m\u001b[0m_docstring\u001b[0m \u001b[0;32mimport\u001b[0m \u001b[0mSubstitution\u001b[0m\u001b[0;34m\u001b[0m\u001b[0;34m\u001b[0m\u001b[0m\n\u001b[1;32m      6\u001b[0m \u001b[0;34m\u001b[0m\u001b[0m\n\u001b[0;32m----> 7\u001b[0;31m \u001b[0;32mfrom\u001b[0m \u001b[0;34m.\u001b[0m\u001b[0m_validation\u001b[0m \u001b[0;32mimport\u001b[0m \u001b[0mcheck_neighbors_object\u001b[0m\u001b[0;34m\u001b[0m\u001b[0;34m\u001b[0m\u001b[0m\n\u001b[0m\u001b[1;32m      8\u001b[0m \u001b[0;32mfrom\u001b[0m \u001b[0;34m.\u001b[0m\u001b[0m_validation\u001b[0m \u001b[0;32mimport\u001b[0m \u001b[0mcheck_target_type\u001b[0m\u001b[0;34m\u001b[0m\u001b[0;34m\u001b[0m\u001b[0m\n\u001b[1;32m      9\u001b[0m \u001b[0;32mfrom\u001b[0m \u001b[0;34m.\u001b[0m\u001b[0m_validation\u001b[0m \u001b[0;32mimport\u001b[0m \u001b[0mcheck_sampling_strategy\u001b[0m\u001b[0;34m\u001b[0m\u001b[0;34m\u001b[0m\u001b[0m\n",
      "\u001b[0;32m~/anaconda3/lib/python3.7/site-packages/imblearn/utils/_validation.py\u001b[0m in \u001b[0;36m<module>\u001b[0;34m\u001b[0m\n\u001b[1;32m     11\u001b[0m \u001b[0;34m\u001b[0m\u001b[0m\n\u001b[1;32m     12\u001b[0m \u001b[0;32mfrom\u001b[0m \u001b[0msklearn\u001b[0m\u001b[0;34m.\u001b[0m\u001b[0mbase\u001b[0m \u001b[0;32mimport\u001b[0m \u001b[0mclone\u001b[0m\u001b[0;34m\u001b[0m\u001b[0;34m\u001b[0m\u001b[0m\n\u001b[0;32m---> 13\u001b[0;31m \u001b[0;32mfrom\u001b[0m \u001b[0msklearn\u001b[0m\u001b[0;34m.\u001b[0m\u001b[0mneighbors\u001b[0m\u001b[0;34m.\u001b[0m\u001b[0m_base\u001b[0m \u001b[0;32mimport\u001b[0m \u001b[0mKNeighborsMixin\u001b[0m\u001b[0;34m\u001b[0m\u001b[0;34m\u001b[0m\u001b[0m\n\u001b[0m\u001b[1;32m     14\u001b[0m \u001b[0;32mfrom\u001b[0m \u001b[0msklearn\u001b[0m\u001b[0;34m.\u001b[0m\u001b[0mneighbors\u001b[0m \u001b[0;32mimport\u001b[0m \u001b[0mNearestNeighbors\u001b[0m\u001b[0;34m\u001b[0m\u001b[0;34m\u001b[0m\u001b[0m\n\u001b[1;32m     15\u001b[0m \u001b[0;32mfrom\u001b[0m \u001b[0msklearn\u001b[0m\u001b[0;34m.\u001b[0m\u001b[0mutils\u001b[0m \u001b[0;32mimport\u001b[0m \u001b[0mcolumn_or_1d\u001b[0m\u001b[0;34m\u001b[0m\u001b[0;34m\u001b[0m\u001b[0m\n",
      "\u001b[0;32m~/anaconda3/lib/python3.7/site-packages/sklearn/neighbors/_base.py\u001b[0m in \u001b[0;36m<module>\u001b[0;34m\u001b[0m\n\u001b[1;32m     21\u001b[0m \u001b[0;32mfrom\u001b[0m \u001b[0;34m.\u001b[0m\u001b[0m_ball_tree\u001b[0m \u001b[0;32mimport\u001b[0m \u001b[0mBallTree\u001b[0m\u001b[0;34m\u001b[0m\u001b[0;34m\u001b[0m\u001b[0m\n\u001b[1;32m     22\u001b[0m \u001b[0;32mfrom\u001b[0m \u001b[0;34m.\u001b[0m\u001b[0m_kd_tree\u001b[0m \u001b[0;32mimport\u001b[0m \u001b[0mKDTree\u001b[0m\u001b[0;34m\u001b[0m\u001b[0;34m\u001b[0m\u001b[0m\n\u001b[0;32m---> 23\u001b[0;31m \u001b[0;32mfrom\u001b[0m \u001b[0;34m.\u001b[0m\u001b[0;34m.\u001b[0m\u001b[0mbase\u001b[0m \u001b[0;32mimport\u001b[0m \u001b[0mBaseEstimator\u001b[0m\u001b[0;34m,\u001b[0m \u001b[0mMultiOutputMixin\u001b[0m\u001b[0;34m\u001b[0m\u001b[0;34m\u001b[0m\u001b[0m\n\u001b[0m\u001b[1;32m     24\u001b[0m \u001b[0;32mfrom\u001b[0m \u001b[0;34m.\u001b[0m\u001b[0;34m.\u001b[0m\u001b[0mmetrics\u001b[0m \u001b[0;32mimport\u001b[0m \u001b[0mpairwise_distances_chunked\u001b[0m\u001b[0;34m\u001b[0m\u001b[0;34m\u001b[0m\u001b[0m\n\u001b[1;32m     25\u001b[0m \u001b[0;32mfrom\u001b[0m \u001b[0;34m.\u001b[0m\u001b[0;34m.\u001b[0m\u001b[0mmetrics\u001b[0m\u001b[0;34m.\u001b[0m\u001b[0mpairwise\u001b[0m \u001b[0;32mimport\u001b[0m \u001b[0mPAIRWISE_DISTANCE_FUNCTIONS\u001b[0m\u001b[0;34m\u001b[0m\u001b[0;34m\u001b[0m\u001b[0m\n",
      "\u001b[0;31mImportError\u001b[0m: cannot import name 'MultiOutputMixin' from 'sklearn.base' (/Users/nivzz/anaconda3/lib/python3.7/site-packages/sklearn/base.py)"
     ]
    }
   ],
   "source": [
    "import imblearn\n"
   ]
  },
  {
   "cell_type": "code",
   "execution_count": 219,
   "metadata": {},
   "outputs": [
    {
     "name": "stdout",
     "output_type": "stream",
     "text": [
      "The scikit-learn version is 0.20.3.\n"
     ]
    }
   ],
   "source": [
    "import sklearn\n",
    "print('The scikit-learn version is {}.'.format(sklearn.__version__))"
   ]
  },
  {
   "cell_type": "code",
   "execution_count": null,
   "metadata": {},
   "outputs": [],
   "source": []
  }
 ],
 "metadata": {
  "kernelspec": {
   "display_name": "Python 3",
   "language": "python",
   "name": "python3"
  },
  "language_info": {
   "codemirror_mode": {
    "name": "ipython",
    "version": 3
   },
   "file_extension": ".py",
   "mimetype": "text/x-python",
   "name": "python",
   "nbconvert_exporter": "python",
   "pygments_lexer": "ipython3",
   "version": "3.7.3"
  }
 },
 "nbformat": 4,
 "nbformat_minor": 4
}
